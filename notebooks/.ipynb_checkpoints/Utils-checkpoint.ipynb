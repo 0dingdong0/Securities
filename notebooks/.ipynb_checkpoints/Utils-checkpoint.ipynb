{
 "cells": [
  {
   "cell_type": "code",
   "execution_count": 1,
   "metadata": {},
   "outputs": [],
   "source": [
    "import os\n",
    "import time\n",
    "import json\n",
    "import redis\n",
    "import tushare as ts"
   ]
  },
  {
   "cell_type": "code",
   "execution_count": 2,
   "metadata": {},
   "outputs": [],
   "source": [
    "ts.set_token('aecca28adc0d5a7764b748ccd48bef923d81314ae47b4d44d51fce67')\n",
    "tsp = ts.pro_api()"
   ]
  },
  {
   "cell_type": "code",
   "execution_count": 3,
   "metadata": {},
   "outputs": [],
   "source": [
    "class Utils:\n",
    "    rd = redis.Redis(host='127.0.0.1', port=6379, db=8)\n",
    "    SYMBOLS_FILE = os.path.join(os.getcwd(), \"symbols.json\")\n",
    "    SUSPENDED_SYMBOLS_FILE = os.path.join(os.getcwd(), \"suspended_symbols.json\")\n",
    "    \n",
    "    @staticmethod\n",
    "    def get_symbols():\n",
    "        if not os.path.exists(Utils.SYMBOLS_FILE):\n",
    "            return []\n",
    "\n",
    "        with open(Utils.SYMBOLS_FILE) as f:\n",
    "            return json.load(f)\n",
    "        \n",
    "    @staticmethod\n",
    "    def get_suspended_symbols():\n",
    "        if not os.path.exists(Utils.SUSPENDED_SYMBOLS_FILE):\n",
    "            return []\n",
    "\n",
    "        with open(Utils.SUSPENDED_SYMBOLS_FILE) as f:\n",
    "            return json.load(f)\n",
    "        \n",
    "    @staticmethod\n",
    "    def get_running_symbols():\n",
    "        return list([symbol for symbol in Utils.get_symbols() if symbol not in Utils.get_suspended_symbols()])\n",
    "        \n",
    "    @staticmethod\n",
    "    def update_symbols():\n",
    "        df = tsp.stock_basic(fields='symbol,name,market,area,industry,list_date')\n",
    "        df = df.loc[df['list_date']<=time.strftime('%Y%m%d', time.localtime())]\n",
    "        symbols = df['symbol'].to_list()\n",
    "        with open(Utils.SYMBOLS_FILE, \"w\") as f:\n",
    "            f.write(json.dumps(symbols))\n",
    "            \n",
    "        today = time.strftime('%Y%m%d')\n",
    "        suspended_symbols = list([x[:6] for x in tsp.suspend_d(suspend_type='S', trade_date=today)['ts_code'].to_list()])\n",
    "        with open(Utils.SUSPENDED_SYMBOLS_FILE, \"w\") as f:\n",
    "            f.write(json.dumps(suspended_symbols))\n",
    "\n",
    "    @staticmethod\n",
    "    def is_closed_day(day=None):\n",
    "        if day is None:\n",
    "            day = time.strftime('%Y%m%d')\n",
    "            \n",
    "        key = day+'_is_closed_day'\n",
    "        \n",
    "        if Utils.rd.get(key):\n",
    "            return  False if Utils.rd.get(key) == b'false' else True\n",
    "        \n",
    "        df = tsp.trade_cal(exchange='SSE', start_date=day, end_date=day)\n",
    "        if df.iloc[0]['is_open'] == 1:\n",
    "            Utils.rd.set(key, 'false')\n",
    "            return False\n",
    "        else:\n",
    "            Utils.rd.set(key, 'true')\n",
    "            return True\n",
    "        \n",
    "    @staticmethod\n",
    "    def get_pretrade_date(day=None):\n",
    "        if day is None:\n",
    "            day = time.strftime('%Y%m%d')\n",
    "        df = tsp.trade_cal(exchange='SSE', start_date=day, end_date=day, fields=\"exchange,cal_date,is_open,pretrade_date\")\n",
    "        return df.at[0,'pretrade_date']\n",
    "    \n",
    "    @staticmethod\n",
    "    def get_last_trade_date():\n",
    "        day = time.strftime('%Y%m%d')\n",
    "        df = tsp.trade_cal(exchange='SSE', start_date=day, end_date=day, fields=\"exchange,cal_date,is_open,pretrade_date\")\n",
    "        if df.iloc[0]['is_open'] == 1:\n",
    "            return day\n",
    "        else:\n",
    "            return df.at[0,'pretrade_date']\n",
    "        \n",
    "    @staticmethod\n",
    "    def get_check_points(interval=5):\n",
    "\n",
    "        test_check_points = Utils.rd.get('test_check_points')\n",
    "        if test_check_points:\n",
    "            return json.loads(test_check_points)\n",
    "        \n",
    "        trading_times = [\n",
    "            '09:14:50',\n",
    "            ['09:15:00', '09:25:00'],\n",
    "            '09:25:15',\n",
    "            ['09:30:00', '11:30:00'],\n",
    "            '11:30:10',\n",
    "            ['13:00:00', '15:00:00'],\n",
    "            '15:00:10'\n",
    "        ]\n",
    "        \n",
    "        check_points = []\n",
    "        today = time.strftime('%Y-%m-%d')\n",
    "        for time_range in trading_times:\n",
    "            if type(time_range) == list:\n",
    "                start = int(time.mktime(time.strptime(f'{today} {time_range[0]}', '%Y-%m-%d %H:%M:%S')))\n",
    "                end = int(time.mktime(time.strptime(f'{today} {time_range[1]}', '%Y-%m-%d %H:%M:%S')))\n",
    "                check_points.append(list([ _ for _ in range(start, end+interval, interval) ]))\n",
    "            else:\n",
    "                check_points.append([int(time.mktime(time.strptime(f'{today} {time_range}', '%Y-%m-%d %H:%M:%S')))])\n",
    "        \n",
    "        return sum(check_points, [])"
   ]
  },
  {
   "cell_type": "code",
   "execution_count": null,
   "metadata": {},
   "outputs": [],
   "source": [
    "Utils.update_symbols()"
   ]
  },
  {
   "cell_type": "code",
   "execution_count": null,
   "metadata": {},
   "outputs": [],
   "source": [
    "symbols = list([symbol for symbol in Utils.get_symbols() if symbol not in Utils.get_suspended_symbols()])\n",
    "len(symbols)"
   ]
  },
  {
   "cell_type": "code",
   "execution_count": null,
   "metadata": {},
   "outputs": [],
   "source": [
    "# today = time.strftime('%Y%m%d')\n",
    "Utils.is_closed_day()"
   ]
  },
  {
   "cell_type": "code",
   "execution_count": null,
   "metadata": {},
   "outputs": [],
   "source": []
  },
  {
   "cell_type": "code",
   "execution_count": null,
   "metadata": {},
   "outputs": [],
   "source": []
  },
  {
   "cell_type": "code",
   "execution_count": null,
   "metadata": {},
   "outputs": [],
   "source": []
  },
  {
   "cell_type": "code",
   "execution_count": null,
   "metadata": {},
   "outputs": [],
   "source": []
  },
  {
   "cell_type": "code",
   "execution_count": null,
   "metadata": {},
   "outputs": [],
   "source": [
    "Utils.get_pretrade_date()"
   ]
  },
  {
   "cell_type": "code",
   "execution_count": null,
   "metadata": {},
   "outputs": [],
   "source": [
    "Utils.get_last_trade_date()"
   ]
  },
  {
   "cell_type": "code",
   "execution_count": null,
   "metadata": {},
   "outputs": [],
   "source": []
  },
  {
   "cell_type": "code",
   "execution_count": null,
   "metadata": {},
   "outputs": [],
   "source": [
    "suspended = Utils.get_suspended_symbols()"
   ]
  },
  {
   "cell_type": "code",
   "execution_count": null,
   "metadata": {
    "scrolled": true
   },
   "outputs": [],
   "source": [
    "'600634' in suspended"
   ]
  },
  {
   "cell_type": "code",
   "execution_count": null,
   "metadata": {},
   "outputs": [],
   "source": []
  },
  {
   "cell_type": "code",
   "execution_count": null,
   "metadata": {},
   "outputs": [],
   "source": [
    "from datetime import datetime"
   ]
  },
  {
   "cell_type": "code",
   "execution_count": null,
   "metadata": {},
   "outputs": [],
   "source": [
    "%%timeit\n",
    "datetime.strptime('2021-01-14 09:25:00', '%Y-%m-%d %H:%M:%S').timestamp()"
   ]
  },
  {
   "cell_type": "code",
   "execution_count": null,
   "metadata": {},
   "outputs": [],
   "source": []
  },
  {
   "cell_type": "code",
   "execution_count": null,
   "metadata": {},
   "outputs": [],
   "source": [
    "today = time.strftime('%Y%m%d')\n",
    "today"
   ]
  },
  {
   "cell_type": "code",
   "execution_count": null,
   "metadata": {},
   "outputs": [],
   "source": [
    "'600634' in tsp.suspend_d(suspend_type='S', trade_date='20201208')['ts_code']"
   ]
  },
  {
   "cell_type": "code",
   "execution_count": null,
   "metadata": {},
   "outputs": [],
   "source": [
    "tsp.suspend(ts_code='600634.SH')"
   ]
  },
  {
   "cell_type": "code",
   "execution_count": null,
   "metadata": {},
   "outputs": [],
   "source": [
    "tsp.query('suspend', suspend_date=today)"
   ]
  },
  {
   "cell_type": "code",
   "execution_count": null,
   "metadata": {},
   "outputs": [],
   "source": [
    "time.time()"
   ]
  },
  {
   "cell_type": "code",
   "execution_count": null,
   "metadata": {},
   "outputs": [],
   "source": [
    "int(time.time())"
   ]
  },
  {
   "cell_type": "code",
   "execution_count": null,
   "metadata": {},
   "outputs": [],
   "source": []
  },
  {
   "cell_type": "code",
   "execution_count": 6,
   "metadata": {},
   "outputs": [],
   "source": [
    "rd = redis.Redis(host='127.0.0.1', port=6379, db=8)"
   ]
  },
  {
   "cell_type": "code",
   "execution_count": 11,
   "metadata": {},
   "outputs": [
    {
     "data": {
      "text/plain": [
       "1"
      ]
     },
     "execution_count": 11,
     "metadata": {},
     "output_type": "execute_result"
    }
   ],
   "source": [
    "rd.delete('test_check_points')"
   ]
  },
  {
   "cell_type": "code",
   "execution_count": 26,
   "metadata": {},
   "outputs": [
    {
     "data": {
      "text/plain": [
       "True"
      ]
     },
     "execution_count": 26,
     "metadata": {},
     "output_type": "execute_result"
    }
   ],
   "source": [
    "now = int(time.time())\n",
    "offset = 150\n",
    "rd.set('test_check_points', json.dumps([ now+offset+i*5 for i in range(10) ]), ex=10)"
   ]
  },
  {
   "cell_type": "code",
   "execution_count": 27,
   "metadata": {},
   "outputs": [
    {
     "data": {
      "text/plain": [
       "[1624517579,\n",
       " 1624517584,\n",
       " 1624517589,\n",
       " 1624517594,\n",
       " 1624517599,\n",
       " 1624517604,\n",
       " 1624517609,\n",
       " 1624517614,\n",
       " 1624517619,\n",
       " 1624517624]"
      ]
     },
     "execution_count": 27,
     "metadata": {},
     "output_type": "execute_result"
    }
   ],
   "source": [
    "json.loads(rd.get('test_check_points'))"
   ]
  },
  {
   "cell_type": "code",
   "execution_count": null,
   "metadata": {},
   "outputs": [],
   "source": []
  },
  {
   "cell_type": "code",
   "execution_count": null,
   "metadata": {},
   "outputs": [],
   "source": []
  },
  {
   "cell_type": "code",
   "execution_count": null,
   "metadata": {},
   "outputs": [],
   "source": []
  },
  {
   "cell_type": "code",
   "execution_count": null,
   "metadata": {},
   "outputs": [],
   "source": []
  }
 ],
 "metadata": {
  "kernelspec": {
   "display_name": "Python 3",
   "language": "python",
   "name": "python3"
  },
  "language_info": {
   "codemirror_mode": {
    "name": "ipython",
    "version": 3
   },
   "file_extension": ".py",
   "mimetype": "text/x-python",
   "name": "python",
   "nbconvert_exporter": "python",
   "pygments_lexer": "ipython3",
   "version": "3.9.5"
  }
 },
 "nbformat": 4,
 "nbformat_minor": 2
}

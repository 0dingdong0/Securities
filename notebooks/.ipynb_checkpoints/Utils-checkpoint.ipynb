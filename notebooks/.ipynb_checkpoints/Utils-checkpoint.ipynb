{
 "cells": [
  {
   "cell_type": "code",
   "execution_count": 2,
   "metadata": {},
   "outputs": [],
   "source": [
    "import os\n",
    "import time\n",
    "import json\n",
    "import tushare as ts"
   ]
  },
  {
   "cell_type": "code",
   "execution_count": 3,
   "metadata": {},
   "outputs": [],
   "source": [
    "ts.set_token('aecca28adc0d5a7764b748ccd48bef923d81314ae47b4d44d51fce67')\n",
    "tsp = ts.pro_api()"
   ]
  },
  {
   "cell_type": "code",
   "execution_count": 7,
   "metadata": {},
   "outputs": [],
   "source": [
    "class Utils:\n",
    "    \n",
    "    SYMBOLS_FILE = os.path.join(os.getcwd(), \"symbols.json\")\n",
    "    SUSPENDED_SYMBOLS_FILE = os.path.join(os.getcwd(), \"suspended_symbols.json\")\n",
    "    \n",
    "    @staticmethod\n",
    "    def get_symbols():\n",
    "        if not os.path.exists(Utils.SYMBOLS_FILE):\n",
    "            return []\n",
    "\n",
    "        with open(Utils.SYMBOLS_FILE) as f:\n",
    "            return json.load(f)\n",
    "        \n",
    "    @staticmethod\n",
    "    def get_suspended_symbols():\n",
    "        if not os.path.exists(Utils.SUSPENDED_SYMBOLS_FILE):\n",
    "            return []\n",
    "\n",
    "        with open(Utils.SUSPENDED_SYMBOLS_FILE) as f:\n",
    "            return json.load(f)\n",
    "        \n",
    "    @staticmethod\n",
    "    def get_running_symbols():\n",
    "        return list([symbol for symbol in Utils.get_symbols() if symbol not in Utils.get_suspended_symbols()])\n",
    "        \n",
    "    @staticmethod\n",
    "    def update_symbols():\n",
    "        df = tsp.stock_basic(fields='symbol,name,market,area,industry,list_date')\n",
    "        df = df.loc[df['list_date']<=time.strftime('%Y%m%d', time.localtime())]\n",
    "        symbols = df['symbol'].to_list()\n",
    "        with open(Utils.SYMBOLS_FILE, \"w\") as f:\n",
    "            f.write(json.dumps(symbols))\n",
    "            \n",
    "        today = time.strftime('%Y%m%d')\n",
    "        suspended_symbols = list([x[:6] for x in tsp.suspend_d(suspend_type='S', trade_date=today)['ts_code'].to_list()])\n",
    "        with open(Utils.SUSPENDED_SYMBOLS_FILE, \"w\") as f:\n",
    "            f.write(json.dumps(suspended_symbols))\n",
    "\n",
    "    @staticmethod\n",
    "    def is_closed_day(day=None):\n",
    "        if day is None:\n",
    "            day = time.strftime('%Y%m%d')\n",
    "        df = tsp.trade_cal(exchange='SSE', start_date=day, end_date=day)\n",
    "        if df.iloc[0]['is_open'] == 1:\n",
    "            return False\n",
    "        else:\n",
    "            return True\n",
    "        \n",
    "    @staticmethod\n",
    "    def get_pretrade_date(day=None):\n",
    "        if day is None:\n",
    "            day = time.strftime('%Y%m%d')\n",
    "        df = tsp.trade_cal(exchange='SSE', start_date=day, end_date=day, fields=\"exchange,cal_date,is_open,pretrade_date\")\n",
    "        return df.at[0,'pretrade_date']\n",
    "    \n",
    "    @staticmethod\n",
    "    def get_last_trade_date():\n",
    "        day = time.strftime('%Y%m%d')\n",
    "        df = tsp.trade_cal(exchange='SSE', start_date=day, end_date=day, fields=\"exchange,cal_date,is_open,pretrade_date\")\n",
    "        if df.iloc[0]['is_open'] == 1:\n",
    "            return day\n",
    "        else:\n",
    "            return df.at[0,'pretrade_date']\n",
    "        \n",
    "    @staticmethod\n",
    "    def get_check_points(interval=5):\n",
    "        \n",
    "        trading_times = [\n",
    "            '09:14:50',\n",
    "            ['09:15:00', '09:25:00'],\n",
    "            '09:25:15',\n",
    "            ['09:30:00', '11:30:00'],\n",
    "            '11:30:10',\n",
    "            ['13:00:00', '15:00:00'],\n",
    "            '15:00:10'\n",
    "        ]\n",
    "        \n",
    "        check_points = []\n",
    "        today = time.strftime('%Y-%m-%d')\n",
    "        for time_range in trading_times:\n",
    "            if type(time_range) == list:\n",
    "                start = int(time.mktime(time.strptime(f'{today} {time_range[0]}', '%Y-%m-%d %H:%M:%S')))\n",
    "                end = int(time.mktime(time.strptime(f'{today} {time_range[1]}', '%Y-%m-%d %H:%M:%S')))\n",
    "                check_points.append(list([ _ for _ in range(start, end+interval, interval) ]))\n",
    "            else:\n",
    "                check_points.append([int(time.mktime(time.strptime(f'{today} {time_range}', '%Y-%m-%d %H:%M:%S')))])\n",
    "        \n",
    "        return sum(check_points, [])"
   ]
  },
  {
   "cell_type": "code",
   "execution_count": 7,
   "metadata": {},
   "outputs": [],
   "source": [
    "Utils.update_symbols()"
   ]
  },
  {
   "cell_type": "code",
   "execution_count": 8,
   "metadata": {},
   "outputs": [
    {
     "data": {
      "text/plain": [
       "4126"
      ]
     },
     "execution_count": 8,
     "metadata": {},
     "output_type": "execute_result"
    }
   ],
   "source": [
    "symbols = list([symbol for symbol in Utils.get_symbols() if symbol not in Utils.get_suspended_symbols()])\n",
    "len(symbols)"
   ]
  },
  {
   "cell_type": "code",
   "execution_count": 34,
   "metadata": {},
   "outputs": [
    {
     "data": {
      "text/plain": [
       "False"
      ]
     },
     "execution_count": 34,
     "metadata": {},
     "output_type": "execute_result"
    }
   ],
   "source": [
    "# today = time.strftime('%Y%m%d')\n",
    "Utils.is_closed_day()"
   ]
  },
  {
   "cell_type": "code",
   "execution_count": 35,
   "metadata": {},
   "outputs": [
    {
     "data": {
      "text/plain": [
       "'20210115'"
      ]
     },
     "execution_count": 35,
     "metadata": {},
     "output_type": "execute_result"
    }
   ],
   "source": [
    "Utils.get_pretrade_date()"
   ]
  },
  {
   "cell_type": "code",
   "execution_count": 36,
   "metadata": {},
   "outputs": [
    {
     "data": {
      "text/plain": [
       "'20210118'"
      ]
     },
     "execution_count": 36,
     "metadata": {},
     "output_type": "execute_result"
    }
   ],
   "source": [
    "Utils.get_last_trade_date()"
   ]
  },
  {
   "cell_type": "code",
   "execution_count": null,
   "metadata": {},
   "outputs": [],
   "source": []
  },
  {
   "cell_type": "code",
   "execution_count": 8,
   "metadata": {},
   "outputs": [],
   "source": [
    "suspended = Utils.get_suspended_symbols()"
   ]
  },
  {
   "cell_type": "code",
   "execution_count": 9,
   "metadata": {
    "scrolled": true
   },
   "outputs": [
    {
     "data": {
      "text/plain": [
       "False"
      ]
     },
     "execution_count": 9,
     "metadata": {},
     "output_type": "execute_result"
    }
   ],
   "source": [
    "'600634' in suspended"
   ]
  },
  {
   "cell_type": "code",
   "execution_count": null,
   "metadata": {},
   "outputs": [],
   "source": []
  },
  {
   "cell_type": "code",
   "execution_count": 12,
   "metadata": {},
   "outputs": [],
   "source": [
    "from datetime import datetime"
   ]
  },
  {
   "cell_type": "code",
   "execution_count": 16,
   "metadata": {},
   "outputs": [
    {
     "name": "stdout",
     "output_type": "stream",
     "text": [
      "10.1 µs ± 29.3 ns per loop (mean ± std. dev. of 7 runs, 100000 loops each)\n"
     ]
    }
   ],
   "source": [
    "%%timeit\n",
    "datetime.strptime('2021-01-14 09:25:00', '%Y-%m-%d %H:%M:%S').timestamp()"
   ]
  },
  {
   "cell_type": "code",
   "execution_count": null,
   "metadata": {},
   "outputs": [],
   "source": []
  },
  {
   "cell_type": "code",
   "execution_count": 16,
   "metadata": {},
   "outputs": [
    {
     "data": {
      "text/plain": [
       "'20210119'"
      ]
     },
     "execution_count": 16,
     "metadata": {},
     "output_type": "execute_result"
    }
   ],
   "source": [
    "today = time.strftime('%Y%m%d')\n",
    "today"
   ]
  },
  {
   "cell_type": "code",
   "execution_count": 20,
   "metadata": {},
   "outputs": [
    {
     "data": {
      "text/plain": [
       "False"
      ]
     },
     "execution_count": 20,
     "metadata": {},
     "output_type": "execute_result"
    }
   ],
   "source": [
    "'600634' in tsp.suspend_d(suspend_type='S', trade_date='20201208')['ts_code']"
   ]
  },
  {
   "cell_type": "code",
   "execution_count": 14,
   "metadata": {},
   "outputs": [
    {
     "data": {
      "text/html": [
       "<div>\n",
       "<style scoped>\n",
       "    .dataframe tbody tr th:only-of-type {\n",
       "        vertical-align: middle;\n",
       "    }\n",
       "\n",
       "    .dataframe tbody tr th {\n",
       "        vertical-align: top;\n",
       "    }\n",
       "\n",
       "    .dataframe thead th {\n",
       "        text-align: right;\n",
       "    }\n",
       "</style>\n",
       "<table border=\"1\" class=\"dataframe\">\n",
       "  <thead>\n",
       "    <tr style=\"text-align: right;\">\n",
       "      <th></th>\n",
       "      <th>ts_code</th>\n",
       "      <th>suspend_date</th>\n",
       "      <th>resume_date</th>\n",
       "      <th>suspend_reason</th>\n",
       "    </tr>\n",
       "  </thead>\n",
       "  <tbody>\n",
       "    <tr>\n",
       "      <th>0</th>\n",
       "      <td>600634.SH</td>\n",
       "      <td>20201208</td>\n",
       "      <td>None</td>\n",
       "      <td>重要公告</td>\n",
       "    </tr>\n",
       "    <tr>\n",
       "      <th>1</th>\n",
       "      <td>600634.SH</td>\n",
       "      <td>20201207</td>\n",
       "      <td>None</td>\n",
       "      <td>重要公告</td>\n",
       "    </tr>\n",
       "    <tr>\n",
       "      <th>2</th>\n",
       "      <td>600634.SH</td>\n",
       "      <td>20201204</td>\n",
       "      <td>None</td>\n",
       "      <td>重要公告</td>\n",
       "    </tr>\n",
       "    <tr>\n",
       "      <th>3</th>\n",
       "      <td>600634.SH</td>\n",
       "      <td>20201203</td>\n",
       "      <td>None</td>\n",
       "      <td>重要公告</td>\n",
       "    </tr>\n",
       "    <tr>\n",
       "      <th>4</th>\n",
       "      <td>600634.SH</td>\n",
       "      <td>20201202</td>\n",
       "      <td>None</td>\n",
       "      <td>重要公告</td>\n",
       "    </tr>\n",
       "    <tr>\n",
       "      <th>...</th>\n",
       "      <td>...</td>\n",
       "      <td>...</td>\n",
       "      <td>...</td>\n",
       "      <td>...</td>\n",
       "    </tr>\n",
       "    <tr>\n",
       "      <th>820</th>\n",
       "      <td>600634.SH</td>\n",
       "      <td>20010525</td>\n",
       "      <td>None</td>\n",
       "      <td>关联交易</td>\n",
       "    </tr>\n",
       "    <tr>\n",
       "      <th>821</th>\n",
       "      <td>600634.SH</td>\n",
       "      <td>20010416</td>\n",
       "      <td>None</td>\n",
       "      <td>公布2000年年报</td>\n",
       "    </tr>\n",
       "    <tr>\n",
       "      <th>822</th>\n",
       "      <td>600634.SH</td>\n",
       "      <td>20001227</td>\n",
       "      <td>None</td>\n",
       "      <td>选举管理层</td>\n",
       "    </tr>\n",
       "    <tr>\n",
       "      <th>823</th>\n",
       "      <td>600634.SH</td>\n",
       "      <td>20001226</td>\n",
       "      <td>None</td>\n",
       "      <td>召开股东大会</td>\n",
       "    </tr>\n",
       "    <tr>\n",
       "      <th>824</th>\n",
       "      <td>600634.SH</td>\n",
       "      <td>20000620</td>\n",
       "      <td>None</td>\n",
       "      <td>召开股东大会</td>\n",
       "    </tr>\n",
       "  </tbody>\n",
       "</table>\n",
       "<p>825 rows × 4 columns</p>\n",
       "</div>"
      ],
      "text/plain": [
       "       ts_code suspend_date resume_date suspend_reason\n",
       "0    600634.SH     20201208        None           重要公告\n",
       "1    600634.SH     20201207        None           重要公告\n",
       "2    600634.SH     20201204        None           重要公告\n",
       "3    600634.SH     20201203        None           重要公告\n",
       "4    600634.SH     20201202        None           重要公告\n",
       "..         ...          ...         ...            ...\n",
       "820  600634.SH     20010525        None           关联交易\n",
       "821  600634.SH     20010416        None      公布2000年年报\n",
       "822  600634.SH     20001227        None          选举管理层\n",
       "823  600634.SH     20001226        None         召开股东大会\n",
       "824  600634.SH     20000620        None         召开股东大会\n",
       "\n",
       "[825 rows x 4 columns]"
      ]
     },
     "execution_count": 14,
     "metadata": {},
     "output_type": "execute_result"
    }
   ],
   "source": [
    "tsp.suspend(ts_code='600634.SH')"
   ]
  },
  {
   "cell_type": "code",
   "execution_count": 15,
   "metadata": {},
   "outputs": [
    {
     "data": {
      "text/html": [
       "<div>\n",
       "<style scoped>\n",
       "    .dataframe tbody tr th:only-of-type {\n",
       "        vertical-align: middle;\n",
       "    }\n",
       "\n",
       "    .dataframe tbody tr th {\n",
       "        vertical-align: top;\n",
       "    }\n",
       "\n",
       "    .dataframe thead th {\n",
       "        text-align: right;\n",
       "    }\n",
       "</style>\n",
       "<table border=\"1\" class=\"dataframe\">\n",
       "  <thead>\n",
       "    <tr style=\"text-align: right;\">\n",
       "      <th></th>\n",
       "      <th>ts_code</th>\n",
       "      <th>suspend_date</th>\n",
       "      <th>resume_date</th>\n",
       "      <th>suspend_reason</th>\n",
       "    </tr>\n",
       "  </thead>\n",
       "  <tbody>\n",
       "    <tr>\n",
       "      <th>0</th>\n",
       "      <td>600723.SH</td>\n",
       "      <td>20210119</td>\n",
       "      <td>None</td>\n",
       "      <td>筹划重大资产重组</td>\n",
       "    </tr>\n",
       "    <tr>\n",
       "      <th>1</th>\n",
       "      <td>600859.SH</td>\n",
       "      <td>20210119</td>\n",
       "      <td>None</td>\n",
       "      <td>筹划重大资产重组</td>\n",
       "    </tr>\n",
       "    <tr>\n",
       "      <th>2</th>\n",
       "      <td>605005.SH</td>\n",
       "      <td>20210119</td>\n",
       "      <td>None</td>\n",
       "      <td>股票价格异常波动</td>\n",
       "    </tr>\n",
       "    <tr>\n",
       "      <th>3</th>\n",
       "      <td>000528.SZ</td>\n",
       "      <td>20210119</td>\n",
       "      <td>None</td>\n",
       "      <td>重大事项</td>\n",
       "    </tr>\n",
       "    <tr>\n",
       "      <th>4</th>\n",
       "      <td>600086.SH</td>\n",
       "      <td>20210119</td>\n",
       "      <td>None</td>\n",
       "      <td>刊登重要公告</td>\n",
       "    </tr>\n",
       "    <tr>\n",
       "      <th>5</th>\n",
       "      <td>601866.SH</td>\n",
       "      <td>20210119</td>\n",
       "      <td>None</td>\n",
       "      <td>重大事项</td>\n",
       "    </tr>\n",
       "    <tr>\n",
       "      <th>6</th>\n",
       "      <td>000885.SZ</td>\n",
       "      <td>20210119</td>\n",
       "      <td>None</td>\n",
       "      <td>筹划重大资产重组</td>\n",
       "    </tr>\n",
       "    <tr>\n",
       "      <th>7</th>\n",
       "      <td>000826.SZ</td>\n",
       "      <td>20210119</td>\n",
       "      <td>None</td>\n",
       "      <td>筹划重大资产重组</td>\n",
       "    </tr>\n",
       "    <tr>\n",
       "      <th>8</th>\n",
       "      <td>601880.SH</td>\n",
       "      <td>20210119</td>\n",
       "      <td>20210122</td>\n",
       "      <td>重要公告</td>\n",
       "    </tr>\n",
       "    <tr>\n",
       "      <th>9</th>\n",
       "      <td>600317.SH</td>\n",
       "      <td>20210119</td>\n",
       "      <td>None</td>\n",
       "      <td>重要公告</td>\n",
       "    </tr>\n",
       "    <tr>\n",
       "      <th>10</th>\n",
       "      <td>000662.SZ</td>\n",
       "      <td>20210119</td>\n",
       "      <td>None</td>\n",
       "      <td>重大事项</td>\n",
       "    </tr>\n",
       "    <tr>\n",
       "      <th>11</th>\n",
       "      <td>000996.SZ</td>\n",
       "      <td>20210119</td>\n",
       "      <td>None</td>\n",
       "      <td>重大事项</td>\n",
       "    </tr>\n",
       "    <tr>\n",
       "      <th>12</th>\n",
       "      <td>003035.SZ</td>\n",
       "      <td>20210119</td>\n",
       "      <td>None</td>\n",
       "      <td>盘中成交价较开盘价首次上涨达到或超过10%</td>\n",
       "    </tr>\n",
       "  </tbody>\n",
       "</table>\n",
       "</div>"
      ],
      "text/plain": [
       "      ts_code suspend_date resume_date         suspend_reason\n",
       "0   600723.SH     20210119        None               筹划重大资产重组\n",
       "1   600859.SH     20210119        None               筹划重大资产重组\n",
       "2   605005.SH     20210119        None               股票价格异常波动\n",
       "3   000528.SZ     20210119        None                   重大事项\n",
       "4   600086.SH     20210119        None                 刊登重要公告\n",
       "5   601866.SH     20210119        None                   重大事项\n",
       "6   000885.SZ     20210119        None               筹划重大资产重组\n",
       "7   000826.SZ     20210119        None               筹划重大资产重组\n",
       "8   601880.SH     20210119    20210122                   重要公告\n",
       "9   600317.SH     20210119        None                   重要公告\n",
       "10  000662.SZ     20210119        None                   重大事项\n",
       "11  000996.SZ     20210119        None                   重大事项\n",
       "12  003035.SZ     20210119        None  盘中成交价较开盘价首次上涨达到或超过10%"
      ]
     },
     "execution_count": 15,
     "metadata": {},
     "output_type": "execute_result"
    }
   ],
   "source": [
    "tsp.query('suspend', suspend_date=today)"
   ]
  },
  {
   "cell_type": "code",
   "execution_count": null,
   "metadata": {},
   "outputs": [],
   "source": []
  },
  {
   "cell_type": "code",
   "execution_count": null,
   "metadata": {},
   "outputs": [],
   "source": []
  },
  {
   "cell_type": "code",
   "execution_count": null,
   "metadata": {},
   "outputs": [],
   "source": []
  },
  {
   "cell_type": "code",
   "execution_count": null,
   "metadata": {},
   "outputs": [],
   "source": []
  },
  {
   "cell_type": "code",
   "execution_count": null,
   "metadata": {},
   "outputs": [],
   "source": []
  }
 ],
 "metadata": {
  "kernelspec": {
   "display_name": "Python 3",
   "language": "python",
   "name": "python3"
  },
  "language_info": {
   "codemirror_mode": {
    "name": "ipython",
    "version": 3
   },
   "file_extension": ".py",
   "mimetype": "text/x-python",
   "name": "python",
   "nbconvert_exporter": "python",
   "pygments_lexer": "ipython3",
   "version": "3.9.1"
  }
 },
 "nbformat": 4,
 "nbformat_minor": 2
}

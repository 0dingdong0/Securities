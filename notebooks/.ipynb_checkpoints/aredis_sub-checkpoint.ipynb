{
 "cells": [
  {
   "cell_type": "code",
   "execution_count": 1,
   "id": "645b31a6",
   "metadata": {},
   "outputs": [],
   "source": [
    "import time\n",
    "import json\n",
    "import redis\n",
    "import asyncio\n",
    "import numpy as np\n",
    "from aredis import StrictRedis"
   ]
  },
  {
   "cell_type": "code",
   "execution_count": 2,
   "id": "3e03a9a2",
   "metadata": {},
   "outputs": [],
   "source": [
    "rd = redis.Redis(host='127.0.0.1', port=6379, db=8)\n",
    "ar = StrictRedis(host='127.0.0.1', port=6379, db=8)"
   ]
  },
  {
   "cell_type": "code",
   "execution_count": null,
   "id": "2f4a71f0",
   "metadata": {},
   "outputs": [],
   "source": []
  },
  {
   "cell_type": "code",
   "execution_count": 33,
   "id": "4ed16b0b",
   "metadata": {},
   "outputs": [
    {
     "data": {
      "text/plain": [
       "7"
      ]
     },
     "execution_count": 33,
     "metadata": {},
     "output_type": "execute_result"
    }
   ],
   "source": [
    "date = time.strftime('%Y%m%d')\n",
    "\n",
    "check_points_length = int(rd.get(f'hq_{date}_check_points_length'))\n",
    "assist_count = int(rd.get('hq_assist_count'))\n",
    "assist_count"
   ]
  },
  {
   "cell_type": "code",
   "execution_count": null,
   "id": "0cd06552",
   "metadata": {},
   "outputs": [],
   "source": []
  },
  {
   "cell_type": "code",
   "execution_count": 68,
   "id": "515d9e40",
   "metadata": {},
   "outputs": [
    {
     "data": {
      "text/plain": [
       "[]"
      ]
     },
     "execution_count": 68,
     "metadata": {},
     "output_type": "execute_result"
    }
   ],
   "source": [
    "await ar.pubsub_channels()"
   ]
  },
  {
   "cell_type": "code",
   "execution_count": null,
   "id": "1ff22be0",
   "metadata": {},
   "outputs": [],
   "source": []
  },
  {
   "cell_type": "code",
   "execution_count": 69,
   "id": "2a85bb62",
   "metadata": {},
   "outputs": [
    {
     "data": {
      "text/plain": [
       "array([0, 0, 0, ..., 0, 0, 0])"
      ]
     },
     "execution_count": 69,
     "metadata": {},
     "output_type": "execute_result"
    }
   ],
   "source": [
    "status = np.zeros(check_points_length, dtype=int)\n",
    "status"
   ]
  },
  {
   "cell_type": "code",
   "execution_count": null,
   "id": "bc479cc2",
   "metadata": {},
   "outputs": [],
   "source": []
  },
  {
   "cell_type": "code",
   "execution_count": 70,
   "id": "5aec6000",
   "metadata": {},
   "outputs": [],
   "source": [
    "def message_handler(message):\n",
    "    \n",
    "    assist_idx = str(message['channel']).split('_')[2]\n",
    "    data = json.loads(message['data'])\n",
    "    \n",
    "    if data['status'] == 'successful':\n",
    "        check_point_idx = int(data['idx'])\n",
    "        check_point = data['check_point']\n",
    "        status[check_point_idx] += 1\n",
    "        \n",
    "        if status[check_point_idx] == assist_count:\n",
    "            pass\n",
    "        \n",
    "        print('handler:', assist_idx, status[check_point_idx], message['data'])"
   ]
  },
  {
   "cell_type": "code",
   "execution_count": null,
   "id": "fd51770b",
   "metadata": {},
   "outputs": [],
   "source": []
  },
  {
   "cell_type": "code",
   "execution_count": 71,
   "id": "ffe484e9",
   "metadata": {},
   "outputs": [],
   "source": [
    "p = ar.pubsub()"
   ]
  },
  {
   "cell_type": "code",
   "execution_count": 72,
   "id": "682234a9",
   "metadata": {},
   "outputs": [],
   "source": [
    "await p.psubscribe(**{'hq_assist_*_snapshotting': message_handler})"
   ]
  },
  {
   "cell_type": "code",
   "execution_count": 73,
   "id": "7587b9e3",
   "metadata": {
    "scrolled": true
   },
   "outputs": [
    {
     "name": "stdout",
     "output_type": "stream",
     "text": [
      "handler: 5 1 b'{\"status\": \"successful\", \"idx\": 3, \"check_point\": \"2021-06-18 09:07:00\"}'\n",
      "handler: 4 2 b'{\"status\": \"successful\", \"idx\": 3, \"check_point\": \"2021-06-18 09:07:00\"}'\n",
      "handler: 2 3 b'{\"status\": \"successful\", \"idx\": 3, \"check_point\": \"2021-06-18 09:07:00\"}'\n",
      "handler: 0 4 b'{\"status\": \"successful\", \"idx\": 3, \"check_point\": \"2021-06-18 09:07:00\"}'\n",
      "handler: 1 5 b'{\"status\": \"successful\", \"idx\": 3, \"check_point\": \"2021-06-18 09:07:00\"}'\n",
      "handler: 6 6 b'{\"status\": \"successful\", \"idx\": 3, \"check_point\": \"2021-06-18 09:07:00\"}'\n",
      "handler: 3 7 b'{\"status\": \"successful\", \"idx\": 3, \"check_point\": \"2021-06-18 09:07:00\"}'\n"
     ]
    }
   ],
   "source": [
    "while status[-1] != assist_count:\n",
    "    \n",
    "    message = await p.get_message()\n",
    "        \n",
    "    if np.sum(status) >= assist_count:\n",
    "        break\n",
    "    "
   ]
  },
  {
   "cell_type": "code",
   "execution_count": 74,
   "id": "00ffe706",
   "metadata": {},
   "outputs": [],
   "source": [
    "message"
   ]
  },
  {
   "cell_type": "code",
   "execution_count": 79,
   "id": "687362c5",
   "metadata": {},
   "outputs": [
    {
     "data": {
      "text/plain": [
       "array([0, 0, 0, ..., 0, 0, 0])"
      ]
     },
     "execution_count": 79,
     "metadata": {},
     "output_type": "execute_result"
    }
   ],
   "source": [
    "status"
   ]
  },
  {
   "cell_type": "code",
   "execution_count": null,
   "id": "95da108f",
   "metadata": {},
   "outputs": [],
   "source": []
  },
  {
   "cell_type": "code",
   "execution_count": 66,
   "id": "6a865541",
   "metadata": {},
   "outputs": [],
   "source": [
    "await p.punsubscribe('hq_assist_*_snapshotting')"
   ]
  },
  {
   "cell_type": "code",
   "execution_count": 67,
   "id": "222debb4",
   "metadata": {},
   "outputs": [],
   "source": [
    "p.close()"
   ]
  },
  {
   "cell_type": "code",
   "execution_count": 47,
   "id": "811ab0c6",
   "metadata": {},
   "outputs": [
    {
     "data": {
      "text/plain": [
       "0"
      ]
     },
     "execution_count": 47,
     "metadata": {},
     "output_type": "execute_result"
    }
   ],
   "source": []
  },
  {
   "cell_type": "code",
   "execution_count": null,
   "id": "b1f493b0",
   "metadata": {},
   "outputs": [],
   "source": []
  },
  {
   "cell_type": "code",
   "execution_count": null,
   "id": "5486630e",
   "metadata": {},
   "outputs": [],
   "source": []
  }
 ],
 "metadata": {
  "kernelspec": {
   "display_name": "Python 3",
   "language": "python",
   "name": "python3"
  },
  "language_info": {
   "codemirror_mode": {
    "name": "ipython",
    "version": 3
   },
   "file_extension": ".py",
   "mimetype": "text/x-python",
   "name": "python",
   "nbconvert_exporter": "python",
   "pygments_lexer": "ipython3",
   "version": "3.9.5"
  }
 },
 "nbformat": 4,
 "nbformat_minor": 5
}

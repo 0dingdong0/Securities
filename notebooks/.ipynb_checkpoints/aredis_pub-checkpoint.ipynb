{
 "cells": [
  {
   "cell_type": "code",
   "execution_count": 1,
   "id": "96c0f26d",
   "metadata": {},
   "outputs": [],
   "source": [
    "import time\n",
    "import json\n",
    "import redis\n",
    "import asyncio\n",
    "from random import shuffle\n",
    "from aredis import StrictRedis"
   ]
  },
  {
   "cell_type": "code",
   "execution_count": 2,
   "id": "f8183b5a",
   "metadata": {},
   "outputs": [],
   "source": [
    "rd = redis.Redis(host='127.0.0.1', port=6379, db=8)\n",
    "ar = StrictRedis(host='127.0.0.1', port=6379, db=8)"
   ]
  },
  {
   "cell_type": "code",
   "execution_count": 8,
   "id": "52600ff3",
   "metadata": {},
   "outputs": [
    {
     "data": {
      "text/plain": [
       "7"
      ]
     },
     "execution_count": 8,
     "metadata": {},
     "output_type": "execute_result"
    }
   ],
   "source": [
    "assist_count = int(rd.get('hq_assist_count'))\n",
    "assist_count"
   ]
  },
  {
   "cell_type": "code",
   "execution_count": 16,
   "id": "a2368034",
   "metadata": {},
   "outputs": [
    {
     "name": "stdout",
     "output_type": "stream",
     "text": [
      "hq_assist_1_snapshotting\n",
      "hq_assist_4_snapshotting\n",
      "hq_assist_3_snapshotting\n",
      "hq_assist_2_snapshotting\n",
      "hq_assist_6_snapshotting\n",
      "hq_assist_5_snapshotting\n",
      "hq_assist_0_snapshotting\n"
     ]
    }
   ],
   "source": [
    "channels = []\n",
    "for assist_idx in range(assist_count):\n",
    "    channel = f'hq_assist_{assist_idx}_snapshotting'\n",
    "    channels.append(channel)\n",
    "    \n",
    "shuffle(channels)\n",
    "print('\\n'.join(channels))"
   ]
  },
  {
   "cell_type": "code",
   "execution_count": 45,
   "id": "30346a2f",
   "metadata": {},
   "outputs": [
    {
     "name": "stdout",
     "output_type": "stream",
     "text": [
      "{'status': 'successful', 'idx': '1', 'check_point': '2021-06-18 09:07:00'}\n",
      "{'status': 'successful', 'idx': '6', 'check_point': '2021-06-18 09:07:00'}\n",
      "{'status': 'successful', 'idx': '2', 'check_point': '2021-06-18 09:07:00'}\n",
      "{'status': 'successful', 'idx': '4', 'check_point': '2021-06-18 09:07:00'}\n",
      "{'status': 'successful', 'idx': '5', 'check_point': '2021-06-18 09:07:00'}\n",
      "{'status': 'successful', 'idx': '3', 'check_point': '2021-06-18 09:07:00'}\n",
      "{'status': 'successful', 'idx': '0', 'check_point': '2021-06-18 09:07:00'}\n"
     ]
    }
   ],
   "source": [
    "shuffle(channels)\n",
    "for channel in channels:\n",
    "    message = {\"status\":'successful',\"idx\":3, 'check_point':f'{time.strftime(\"%Y-%m-%d\")} 09:07:00'}\n",
    "    print(message)\n",
    "    await ar.publish(channel, json.dumps(message))"
   ]
  },
  {
   "cell_type": "code",
   "execution_count": null,
   "id": "38f49cbc",
   "metadata": {},
   "outputs": [],
   "source": []
  },
  {
   "cell_type": "code",
   "execution_count": null,
   "id": "75bf9f97",
   "metadata": {},
   "outputs": [],
   "source": []
  },
  {
   "cell_type": "code",
   "execution_count": 29,
   "id": "73dc86e6",
   "metadata": {},
   "outputs": [],
   "source": []
  },
  {
   "cell_type": "code",
   "execution_count": null,
   "id": "33340c8e",
   "metadata": {},
   "outputs": [],
   "source": []
  },
  {
   "cell_type": "code",
   "execution_count": null,
   "id": "558731dc",
   "metadata": {},
   "outputs": [],
   "source": []
  }
 ],
 "metadata": {
  "kernelspec": {
   "display_name": "Python 3",
   "language": "python",
   "name": "python3"
  },
  "language_info": {
   "codemirror_mode": {
    "name": "ipython",
    "version": 3
   },
   "file_extension": ".py",
   "mimetype": "text/x-python",
   "name": "python",
   "nbconvert_exporter": "python",
   "pygments_lexer": "ipython3",
   "version": "3.9.5"
  }
 },
 "nbformat": 4,
 "nbformat_minor": 5
}

{
 "cells": [
  {
   "cell_type": "code",
   "execution_count": 1,
   "metadata": {},
   "outputs": [],
   "source": [
    "import os\n",
    "import struct\n",
    "import pandas as pd\n",
    "from pytdx.reader import TdxDailyBarReader"
   ]
  },
  {
   "cell_type": "code",
   "execution_count": null,
   "metadata": {},
   "outputs": [],
   "source": []
  },
  {
   "cell_type": "code",
   "execution_count": 2,
   "metadata": {},
   "outputs": [],
   "source": [
    "tdx_root = 'C:\\\\new_gjzq_v6'"
   ]
  },
  {
   "cell_type": "code",
   "execution_count": 26,
   "metadata": {},
   "outputs": [],
   "source": [
    "class TDX:\n",
    "    def __init__(self, tdx_root):\n",
    "        self.root = tdx_root\n",
    "        \n",
    "    def get_tdx_gainian(self):\n",
    "\n",
    "        fname = os.path.join(self.root,'T0002', 'hq_cache', 'block_gn.dat')\n",
    "        result = {}\n",
    "        if type(fname) is not bytearray:\n",
    "            with open(fname, \"rb\") as f:\n",
    "                data = f.read()\n",
    "        else:\n",
    "            data = fname\n",
    "\n",
    "        pos = 384\n",
    "        (num, ) = struct.unpack(\"<H\", data[pos: pos + 2])\n",
    "        pos += 2\n",
    "        for i in range(num):\n",
    "            blockname_raw = data[pos: pos + 9]\n",
    "            pos += 9\n",
    "            name = blockname_raw.decode(\"gbk\", 'ignore').rstrip(\"\\x00\")\n",
    "            stock_count, block_type = struct.unpack(\"<HH\", data[pos: pos + 4])\n",
    "            pos += 4\n",
    "            block_stock_begin = pos\n",
    "            codes = []\n",
    "            for code_index in range(stock_count):\n",
    "                one_code = data[pos: pos + 7].decode(\"utf-8\", 'ignore').rstrip(\"\\x00\")\n",
    "                codes.append(one_code)\n",
    "                pos += 7\n",
    "\n",
    "            gn = {}\n",
    "            gn[\"name\"] = name\n",
    "            gn[\"block_type\"] = block_type\n",
    "            gn[\"stock_count\"] = stock_count\n",
    "            gn[\"codes\"] = codes\n",
    "            result[name] = gn\n",
    "\n",
    "            pos = block_stock_begin + 2800\n",
    "\n",
    "        return result\n",
    "    \n",
    "    \n",
    "    def get_tdx_hangye(self):\n",
    "\n",
    "        file_hangye = os.path.join(self.root, 'incon.dat')\n",
    "        assert os.path.exists(file_hangye)\n",
    "        file_stock_hangye = os.path.join(self.root, 'T0002', 'hq_cache','tdxhy.cfg')\n",
    "        assert os.path.exists(file_stock_hangye), file_stock_hangye\n",
    "\n",
    "        result = {}\n",
    "        with open(file_hangye, \"rt\", encoding='gb2312') as f:\n",
    "            isTDXHY = False\n",
    "            for line in f:\n",
    "                line = line.rstrip()\n",
    "                if not isTDXHY and line != '#TDXNHY':\n",
    "                    continue\n",
    "                elif not isTDXHY and line == '#TDXNHY':\n",
    "                    isTDXHY = True\n",
    "                    continue\n",
    "                elif isTDXHY and line == '######':\n",
    "                    isTDXHY = False\n",
    "                    break\n",
    "                code, name = line.split('|')\n",
    "                result[code] = {}\n",
    "                result[code]['code'] = code\n",
    "                result[code]['name'] = name\n",
    "                result[code]['codes'] = []\n",
    "\n",
    "        with open(file_stock_hangye, \"rt\", encoding='gb2312') as f:\n",
    "            for line in f:\n",
    "                line = line.rstrip()\n",
    "                market_code, stock_code, tdxhy_code, swhy_code, unknown_code = line.split(\"|\")\n",
    "                stock_code = stock_code.strip()\n",
    "\n",
    "                if tdxhy_code != 'T00':\n",
    "                    result[tdxhy_code]['codes'].append(stock_code)\n",
    "        return result\n",
    "    \n",
    "    \n",
    "    def get_tdx_zhishu(self):\n",
    "\n",
    "        tdxzs_cfg = os.path.join(self.root, 'T0002', 'hq_cache', 'tdxzs.cfg')\n",
    "        gainian = self.get_tdx_gainian()\n",
    "        hangye = self.get_tdx_hangye()\n",
    "\n",
    "        result = {}\n",
    "        with open(tdxzs_cfg, \"rt\", encoding='gb2312') as f:\n",
    "            for line in f:\n",
    "                line = line.rstrip()\n",
    "                zs_name, zs_code, zs_type, num_1, num_2, key = line.split('|')\n",
    "\n",
    "                if key in gainian:\n",
    "                    if zs_code in result:\n",
    "                        print('------------------------------------------------------')\n",
    "                        print('in result key: ', key, zs_name, zs_code)\n",
    "                        print('gainian: ', key, gainian[key])\n",
    "                        continue\n",
    "                    else:\n",
    "                        if len(gainian[key]['codes']) == 0:\n",
    "                            continue\n",
    "                        zs = {}\n",
    "                        zs['code'] = zs_code\n",
    "                        zs['name'] = gainian[key]['name']\n",
    "                        zs['codes'] = gainian[key]['codes']\n",
    "                        result[zs_code] = zs\n",
    "\n",
    "                if key in hangye:\n",
    "                    if zs_code in result:\n",
    "                        print('------------------------------------------------------')\n",
    "                        print('in result key: ', key, zs_name, zs_code)\n",
    "                        print('hangye: ', key, hangye[key])\n",
    "                        continue\n",
    "                    else:\n",
    "                        if len(hangye[key]['codes']) == 0:\n",
    "                            continue\n",
    "                        zs = {}\n",
    "                        zs['code'] = zs_code\n",
    "                        zs['name'] = hangye[key]['name']\n",
    "                        zs['codes'] = hangye[key]['codes']\n",
    "                        result[zs_code] = zs\n",
    "\n",
    "        return result\n",
    "    \n",
    "    \n",
    "    def kline(self, symbols):\n",
    "        kline = {}\n",
    "        for symbol in symbols:\n",
    "            market = 'sh' if symbol[0]=='6' else 'sz'\n",
    "            file = f\"{tdx_root}\\\\vipdoc\\\\{market}\\\\lday\\\\{market}{symbol}.day\"\n",
    "#             print(file)\n",
    "#             if not os.path.exists(file):\n",
    "#                 print(file)\n",
    "#                 continue\n",
    "            with open(file, 'rb') as f:\n",
    "                buf = f.read()\n",
    "                buf_size = len(buf)\n",
    "                rec_count = int(buf_size / 32)\n",
    "\n",
    "                data = []\n",
    "                for i in range(rec_count):\n",
    "                    a = struct.unpack('IIIIIfII', buf[i*32:(i+1)*32])\n",
    "    #                 print(a)\n",
    "                    data.append({\n",
    "                        'dt':a[0],\n",
    "                        'open':a[1]/100,\n",
    "                        'high':a[2]/100,\n",
    "                        'low':a[3]/100,\n",
    "                        'close':a[4]/100,\n",
    "                        'amount':a[5],\n",
    "                        'volume':a[6]\n",
    "                    })\n",
    "            \n",
    "            df = pd.DataFrame(data)\n",
    "            df.set_index('dt', inplace=True)\n",
    "            kline[symbol] = df\n",
    "            \n",
    "        return kline\n",
    "    \n",
    "    def is_local_tdx_data_outdated(self):\n",
    "        today = int(time.strftime('%Y%m%d'))\n",
    "        last_trade_date = int(Utils.get_last_trade_date())\n",
    "        df = self.kline(['399001'])['399001']\n",
    "        \n",
    "        if df.index[-1] == last_trade_date:\n",
    "            return False\n",
    "        elif today != last_trade_date:\n",
    "            return True\n",
    "        elif time.time() > time.mktime(time.strptime(f'{today} 16:00:00', '%Y%m%d %H:%M:%S')):\n",
    "            return True\n",
    "        else:\n",
    "            return False"
   ]
  },
  {
   "cell_type": "code",
   "execution_count": null,
   "metadata": {},
   "outputs": [],
   "source": []
  },
  {
   "cell_type": "code",
   "execution_count": 6,
   "metadata": {},
   "outputs": [],
   "source": [
    "tdx = TDX(tdx_root)"
   ]
  },
  {
   "cell_type": "code",
   "execution_count": null,
   "metadata": {},
   "outputs": [],
   "source": [
    "gainian = tdx.get_tdx_gainian()\n",
    "gainian"
   ]
  },
  {
   "cell_type": "code",
   "execution_count": null,
   "metadata": {},
   "outputs": [],
   "source": [
    "hangye = tdx.get_tdx_hangye()\n",
    "hangye"
   ]
  },
  {
   "cell_type": "code",
   "execution_count": null,
   "metadata": {},
   "outputs": [],
   "source": [
    "zhishu = tdx.get_tdx_zhishu()\n",
    "zhishu"
   ]
  },
  {
   "cell_type": "code",
   "execution_count": null,
   "metadata": {},
   "outputs": [],
   "source": [
    "tdx.is_tdx_local_data_outdated('2021-01-18')"
   ]
  },
  {
   "cell_type": "code",
   "execution_count": null,
   "metadata": {},
   "outputs": [],
   "source": []
  },
  {
   "cell_type": "code",
   "execution_count": 7,
   "metadata": {},
   "outputs": [],
   "source": [
    "from pathlib import Path\n",
    "os.chdir(Path(os.getcwd()).parent)\n",
    "from libs.utils import Utils"
   ]
  },
  {
   "cell_type": "code",
   "execution_count": 8,
   "metadata": {},
   "outputs": [],
   "source": [
    "import time"
   ]
  },
  {
   "cell_type": "code",
   "execution_count": 9,
   "metadata": {},
   "outputs": [],
   "source": [
    "symbols = Utils.get_running_symbols()"
   ]
  },
  {
   "cell_type": "code",
   "execution_count": 10,
   "metadata": {},
   "outputs": [
    {
     "data": {
      "text/plain": [
       "16.184856414794922"
      ]
     },
     "execution_count": 10,
     "metadata": {},
     "output_type": "execute_result"
    }
   ],
   "source": [
    "t = time.time()\n",
    "result = tdx.kline(symbols)\n",
    "time.time()-t"
   ]
  },
  {
   "cell_type": "code",
   "execution_count": null,
   "metadata": {},
   "outputs": [],
   "source": []
  },
  {
   "cell_type": "code",
   "execution_count": null,
   "metadata": {},
   "outputs": [],
   "source": []
  },
  {
   "cell_type": "code",
   "execution_count": null,
   "metadata": {},
   "outputs": [],
   "source": []
  },
  {
   "cell_type": "code",
   "execution_count": null,
   "metadata": {},
   "outputs": [],
   "source": []
  },
  {
   "cell_type": "code",
   "execution_count": 11,
   "metadata": {},
   "outputs": [
    {
     "data": {
      "text/html": [
       "<div>\n",
       "<style scoped>\n",
       "    .dataframe tbody tr th:only-of-type {\n",
       "        vertical-align: middle;\n",
       "    }\n",
       "\n",
       "    .dataframe tbody tr th {\n",
       "        vertical-align: top;\n",
       "    }\n",
       "\n",
       "    .dataframe thead th {\n",
       "        text-align: right;\n",
       "    }\n",
       "</style>\n",
       "<table border=\"1\" class=\"dataframe\">\n",
       "  <thead>\n",
       "    <tr style=\"text-align: right;\">\n",
       "      <th></th>\n",
       "      <th>open</th>\n",
       "      <th>high</th>\n",
       "      <th>low</th>\n",
       "      <th>close</th>\n",
       "      <th>amount</th>\n",
       "      <th>volume</th>\n",
       "    </tr>\n",
       "    <tr>\n",
       "      <th>dt</th>\n",
       "      <th></th>\n",
       "      <th></th>\n",
       "      <th></th>\n",
       "      <th></th>\n",
       "      <th></th>\n",
       "      <th></th>\n",
       "    </tr>\n",
       "  </thead>\n",
       "  <tbody>\n",
       "    <tr>\n",
       "      <th>20150902</th>\n",
       "      <td>12.88</td>\n",
       "      <td>13.97</td>\n",
       "      <td>12.36</td>\n",
       "      <td>12.92</td>\n",
       "      <td>47733820.0</td>\n",
       "      <td>3669201</td>\n",
       "    </tr>\n",
       "    <tr>\n",
       "      <th>20150907</th>\n",
       "      <td>13.41</td>\n",
       "      <td>13.85</td>\n",
       "      <td>12.99</td>\n",
       "      <td>13.39</td>\n",
       "      <td>49459196.0</td>\n",
       "      <td>3651018</td>\n",
       "    </tr>\n",
       "    <tr>\n",
       "      <th>20150908</th>\n",
       "      <td>13.39</td>\n",
       "      <td>14.58</td>\n",
       "      <td>13.10</td>\n",
       "      <td>14.45</td>\n",
       "      <td>47481620.0</td>\n",
       "      <td>3471814</td>\n",
       "    </tr>\n",
       "    <tr>\n",
       "      <th>20150909</th>\n",
       "      <td>14.94</td>\n",
       "      <td>15.51</td>\n",
       "      <td>14.54</td>\n",
       "      <td>15.31</td>\n",
       "      <td>82191280.0</td>\n",
       "      <td>5435534</td>\n",
       "    </tr>\n",
       "    <tr>\n",
       "      <th>20150910</th>\n",
       "      <td>15.19</td>\n",
       "      <td>15.34</td>\n",
       "      <td>14.80</td>\n",
       "      <td>15.16</td>\n",
       "      <td>45079064.0</td>\n",
       "      <td>2992656</td>\n",
       "    </tr>\n",
       "    <tr>\n",
       "      <th>...</th>\n",
       "      <td>...</td>\n",
       "      <td>...</td>\n",
       "      <td>...</td>\n",
       "      <td>...</td>\n",
       "      <td>...</td>\n",
       "      <td>...</td>\n",
       "    </tr>\n",
       "    <tr>\n",
       "      <th>20210112</th>\n",
       "      <td>3.21</td>\n",
       "      <td>3.27</td>\n",
       "      <td>3.19</td>\n",
       "      <td>3.20</td>\n",
       "      <td>27113874.0</td>\n",
       "      <td>8426444</td>\n",
       "    </tr>\n",
       "    <tr>\n",
       "      <th>20210113</th>\n",
       "      <td>3.20</td>\n",
       "      <td>3.21</td>\n",
       "      <td>3.09</td>\n",
       "      <td>3.10</td>\n",
       "      <td>36479128.0</td>\n",
       "      <td>11657165</td>\n",
       "    </tr>\n",
       "    <tr>\n",
       "      <th>20210114</th>\n",
       "      <td>3.12</td>\n",
       "      <td>3.22</td>\n",
       "      <td>3.10</td>\n",
       "      <td>3.16</td>\n",
       "      <td>40964044.0</td>\n",
       "      <td>12927980</td>\n",
       "    </tr>\n",
       "    <tr>\n",
       "      <th>20210115</th>\n",
       "      <td>3.16</td>\n",
       "      <td>3.24</td>\n",
       "      <td>3.15</td>\n",
       "      <td>3.19</td>\n",
       "      <td>29503174.0</td>\n",
       "      <td>9234087</td>\n",
       "    </tr>\n",
       "    <tr>\n",
       "      <th>20210118</th>\n",
       "      <td>3.20</td>\n",
       "      <td>3.27</td>\n",
       "      <td>3.14</td>\n",
       "      <td>3.19</td>\n",
       "      <td>32719820.0</td>\n",
       "      <td>10185080</td>\n",
       "    </tr>\n",
       "  </tbody>\n",
       "</table>\n",
       "<p>1211 rows × 6 columns</p>\n",
       "</div>"
      ],
      "text/plain": [
       "           open   high    low  close      amount    volume\n",
       "dt                                                        \n",
       "20150902  12.88  13.97  12.36  12.92  47733820.0   3669201\n",
       "20150907  13.41  13.85  12.99  13.39  49459196.0   3651018\n",
       "20150908  13.39  14.58  13.10  14.45  47481620.0   3471814\n",
       "20150909  14.94  15.51  14.54  15.31  82191280.0   5435534\n",
       "20150910  15.19  15.34  14.80  15.16  45079064.0   2992656\n",
       "...         ...    ...    ...    ...         ...       ...\n",
       "20210112   3.21   3.27   3.19   3.20  27113874.0   8426444\n",
       "20210113   3.20   3.21   3.09   3.10  36479128.0  11657165\n",
       "20210114   3.12   3.22   3.10   3.16  40964044.0  12927980\n",
       "20210115   3.16   3.24   3.15   3.19  29503174.0   9234087\n",
       "20210118   3.20   3.27   3.14   3.19  32719820.0  10185080\n",
       "\n",
       "[1211 rows x 6 columns]"
      ]
     },
     "execution_count": 11,
     "metadata": {},
     "output_type": "execute_result"
    }
   ],
   "source": [
    "df = result['002717']\n",
    "df"
   ]
  },
  {
   "cell_type": "code",
   "execution_count": 15,
   "metadata": {},
   "outputs": [
    {
     "data": {
      "text/plain": [
       "True"
      ]
     },
     "execution_count": 15,
     "metadata": {},
     "output_type": "execute_result"
    }
   ],
   "source": [
    "today = int(time.strftime('%Y%m%d'))\n",
    "today == df.index[-1]"
   ]
  },
  {
   "cell_type": "code",
   "execution_count": null,
   "metadata": {},
   "outputs": [],
   "source": []
  },
  {
   "cell_type": "code",
   "execution_count": null,
   "metadata": {},
   "outputs": [],
   "source": []
  },
  {
   "cell_type": "code",
   "execution_count": null,
   "metadata": {},
   "outputs": [],
   "source": []
  },
  {
   "cell_type": "code",
   "execution_count": null,
   "metadata": {},
   "outputs": [],
   "source": []
  },
  {
   "cell_type": "code",
   "execution_count": null,
   "metadata": {},
   "outputs": [],
   "source": []
  },
  {
   "cell_type": "code",
   "execution_count": null,
   "metadata": {},
   "outputs": [],
   "source": []
  },
  {
   "cell_type": "code",
   "execution_count": null,
   "metadata": {},
   "outputs": [],
   "source": [
    "time.strftime('%H%M%S', time.localtime(1610673300))"
   ]
  },
  {
   "cell_type": "code",
   "execution_count": 24,
   "metadata": {},
   "outputs": [
    {
     "data": {
      "text/plain": [
       "1610956800.0"
      ]
     },
     "execution_count": 24,
     "metadata": {},
     "output_type": "execute_result"
    }
   ],
   "source": [
    "today = int(time.strftime('%Y%m%d'))\n"
   ]
  },
  {
   "cell_type": "code",
   "execution_count": 23,
   "metadata": {},
   "outputs": [
    {
     "data": {
      "text/plain": [
       "1610979614.103706"
      ]
     },
     "execution_count": 23,
     "metadata": {},
     "output_type": "execute_result"
    }
   ],
   "source": [
    "time.time()"
   ]
  },
  {
   "cell_type": "code",
   "execution_count": 19,
   "metadata": {},
   "outputs": [
    {
     "data": {
      "text/plain": [
       "time.struct_time(tm_year=2021, tm_mon=1, tm_mday=18, tm_hour=16, tm_min=0, tm_sec=0, tm_wday=0, tm_yday=18, tm_isdst=-1)"
      ]
     },
     "execution_count": 19,
     "metadata": {},
     "output_type": "execute_result"
    }
   ],
   "source": [
    "time.strptime(f'{today} 16:00:00', '%Y%m%d %H:%M:%S')"
   ]
  },
  {
   "cell_type": "code",
   "execution_count": null,
   "metadata": {},
   "outputs": [],
   "source": []
  },
  {
   "cell_type": "code",
   "execution_count": null,
   "metadata": {},
   "outputs": [],
   "source": []
  },
  {
   "cell_type": "code",
   "execution_count": null,
   "metadata": {},
   "outputs": [],
   "source": []
  },
  {
   "cell_type": "code",
   "execution_count": 7,
   "metadata": {},
   "outputs": [],
   "source": []
  },
  {
   "cell_type": "code",
   "execution_count": 2,
   "metadata": {},
   "outputs": [],
   "source": []
  },
  {
   "cell_type": "code",
   "execution_count": null,
   "metadata": {},
   "outputs": [],
   "source": []
  },
  {
   "cell_type": "code",
   "execution_count": null,
   "metadata": {},
   "outputs": [],
   "source": []
  },
  {
   "cell_type": "code",
   "execution_count": null,
   "metadata": {},
   "outputs": [],
   "source": []
  },
  {
   "cell_type": "code",
   "execution_count": 20,
   "metadata": {},
   "outputs": [],
   "source": []
  },
  {
   "cell_type": "code",
   "execution_count": null,
   "metadata": {},
   "outputs": [],
   "source": []
  },
  {
   "cell_type": "code",
   "execution_count": null,
   "metadata": {},
   "outputs": [],
   "source": []
  },
  {
   "cell_type": "code",
   "execution_count": null,
   "metadata": {},
   "outputs": [],
   "source": []
  },
  {
   "cell_type": "code",
   "execution_count": null,
   "metadata": {},
   "outputs": [],
   "source": []
  }
 ],
 "metadata": {
  "kernelspec": {
   "display_name": "Python 3",
   "language": "python",
   "name": "python3"
  },
  "language_info": {
   "codemirror_mode": {
    "name": "ipython",
    "version": 3
   },
   "file_extension": ".py",
   "mimetype": "text/x-python",
   "name": "python",
   "nbconvert_exporter": "python",
   "pygments_lexer": "ipython3",
   "version": "3.9.5"
  }
 },
 "nbformat": 4,
 "nbformat_minor": 4
}

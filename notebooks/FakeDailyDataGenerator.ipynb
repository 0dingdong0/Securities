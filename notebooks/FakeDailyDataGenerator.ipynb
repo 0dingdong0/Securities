{
 "cells": [
  {
   "cell_type": "code",
   "execution_count": 1,
   "metadata": {},
   "outputs": [],
   "source": [
    "import os\n",
    "import time\n",
    "import math\n",
    "import json\n",
    "import redis\n",
    "import random\n",
    "import asyncio\n",
    "import traceback\n",
    "from datetime import datetime\n",
    "from aredis import StrictRedis"
   ]
  },
  {
   "cell_type": "code",
   "execution_count": 2,
   "metadata": {},
   "outputs": [],
   "source": [
    "from pathlib import Path\n",
    "os.chdir(Path(os.getcwd()).parent)"
   ]
  },
  {
   "cell_type": "code",
   "execution_count": 3,
   "metadata": {},
   "outputs": [],
   "source": [
    "from libs.utils import Utils\n",
    "from libs.dailydata import DailyData\n",
    "from libs.cython.compute import compute_stats"
   ]
  },
  {
   "cell_type": "code",
   "execution_count": 4,
   "metadata": {},
   "outputs": [],
   "source": [
    "rd = redis.Redis(host='127.0.0.1', port=6379, db=8)\n",
    "ar = StrictRedis(host='127.0.0.1', port=6379, db=8)"
   ]
  },
  {
   "cell_type": "code",
   "execution_count": 5,
   "metadata": {},
   "outputs": [
    {
     "data": {
      "text/plain": [
       "True"
      ]
     },
     "execution_count": 5,
     "metadata": {},
     "output_type": "execute_result"
    }
   ],
   "source": [
    "Utils.update_symbols()\n",
    "symbols = Utils.get_running_symbols()\n",
    "assist_count = math.ceil(len(symbols)/800)+1\n",
    "rd.set(f'hq_assist_count', assist_count)"
   ]
  },
  {
   "cell_type": "code",
   "execution_count": 6,
   "metadata": {},
   "outputs": [
    {
     "data": {
      "text/plain": [
       "'20210712'"
      ]
     },
     "execution_count": 6,
     "metadata": {},
     "output_type": "execute_result"
    }
   ],
   "source": [
    "date = time.strftime('%Y%m%d')\n",
    "date = '20210712'\n",
    "date"
   ]
  },
  {
   "cell_type": "code",
   "execution_count": 7,
   "metadata": {},
   "outputs": [],
   "source": [
    "dd = DailyData.load(dt=date)"
   ]
  },
  {
   "cell_type": "code",
   "execution_count": 8,
   "metadata": {},
   "outputs": [],
   "source": [
    "# dd.close_sharedmemory()\n",
    "# dd.unlink_sharedmemory()"
   ]
  },
  {
   "cell_type": "code",
   "execution_count": 9,
   "metadata": {},
   "outputs": [],
   "source": [
    "async def start_fake_data_generator(assist_count=7, snapshot_interval=5):\n",
    "    assist_indices = list([ _ for _ in range(assist_count)])\n",
    "    \n",
    "    for _, check_point in enumerate(dd.check_points):\n",
    "        random.shuffle(assist_indices)\n",
    "        try:\n",
    "            time_lapse = dd.get_time_lapse(_)\n",
    "            ma5pm_anchor_idx = dd.get_ma5pm_anchor_idx(_)\n",
    "            fs5p = dd.snapshots[ma5pm_anchor_idx]\n",
    "            compute_stats(dd.snapshots[_], dd.basics, dd.statistic[_], fs5p, time_lapse)\n",
    "\n",
    "            for assist_idx in assist_indices:\n",
    "                await ar.publish(\n",
    "                    f'hq_assist_{assist_idx}_snapshotting', \n",
    "                    json.dumps({\"status\":'successful',\"idx\":_,'check_point':int(check_point)})\n",
    "                )\n",
    "                \n",
    "            print(str(_).ljust(5, ' '), datetime.fromtimestamp(dd.check_points[_]).strftime('%Y-%m-%d %H:%M:%S'), 'sussess', end='\\r')\n",
    "\n",
    "        except Exception as e:\n",
    "            error = {\n",
    "                \"status\": 'failed',\n",
    "                \"idx\": _,\n",
    "                'check_point':int(check_point),\n",
    "                \"exception\": str(e),\n",
    "                'traceback': traceback.format_exc()\n",
    "            }\n",
    "\n",
    "            for assist_idx in assist_indices:\n",
    "                await ar.publish(\n",
    "                    f'hq_assist_{assist_idx}_snapshotting', \n",
    "                    json.dumps(error)\n",
    "                )\n",
    "            print(str(_).ljust(5, ' '), datetime.fromtimestamp(dd.check_points[_]).strftime('%Y-%m-%d %H:%M:%S'), 'failed', str(e), end='\\r')\n",
    "        finally:\n",
    "            await asyncio.sleep(snapshot_interval)\n"
   ]
  },
  {
   "cell_type": "code",
   "execution_count": null,
   "metadata": {},
   "outputs": [],
   "source": []
  },
  {
   "cell_type": "code",
   "execution_count": 10,
   "metadata": {},
   "outputs": [
    {
     "name": "stdout",
     "output_type": "stream",
     "text": [
      "1352  2021-07-12 11:12:25 sussess\r"
     ]
    }
   ],
   "source": [
    "task = asyncio.create_task(start_fake_data_generator())"
   ]
  },
  {
   "cell_type": "code",
   "execution_count": 17,
   "metadata": {},
   "outputs": [
    {
     "data": {
      "text/plain": [
       "True"
      ]
     },
     "execution_count": 17,
     "metadata": {},
     "output_type": "execute_result"
    }
   ],
   "source": [
    "task.cancel()"
   ]
  },
  {
   "cell_type": "code",
   "execution_count": null,
   "metadata": {},
   "outputs": [],
   "source": []
  },
  {
   "cell_type": "code",
   "execution_count": null,
   "metadata": {},
   "outputs": [],
   "source": []
  },
  {
   "cell_type": "code",
   "execution_count": null,
   "metadata": {},
   "outputs": [],
   "source": []
  },
  {
   "cell_type": "code",
   "execution_count": null,
   "metadata": {},
   "outputs": [
    {
     "name": "stdout",
     "output_type": "stream",
     "text": [
      "324   2021-07-12 09:46:45 sussess\r"
     ]
    }
   ],
   "source": []
  },
  {
   "cell_type": "code",
   "execution_count": null,
   "metadata": {},
   "outputs": [],
   "source": []
  },
  {
   "cell_type": "code",
   "execution_count": null,
   "metadata": {},
   "outputs": [],
   "source": []
  },
  {
   "cell_type": "code",
   "execution_count": null,
   "metadata": {},
   "outputs": [],
   "source": [
    "for key in rd.keys():\n",
    "    print(key)"
   ]
  },
  {
   "cell_type": "code",
   "execution_count": null,
   "metadata": {},
   "outputs": [],
   "source": [
    "int(rd.get(f'hq_{date}_check_points_length'))"
   ]
  },
  {
   "cell_type": "code",
   "execution_count": null,
   "metadata": {},
   "outputs": [],
   "source": [
    "rd.get(f'hq_{date}_check_points_length')"
   ]
  },
  {
   "cell_type": "code",
   "execution_count": null,
   "metadata": {},
   "outputs": [],
   "source": []
  },
  {
   "cell_type": "code",
   "execution_count": null,
   "metadata": {},
   "outputs": [],
   "source": []
  },
  {
   "cell_type": "code",
   "execution_count": null,
   "metadata": {},
   "outputs": [],
   "source": []
  },
  {
   "cell_type": "code",
   "execution_count": null,
   "metadata": {},
   "outputs": [
    {
     "name": "stdout",
     "output_type": "stream",
     "text": [
      "319   2021-07-12 09:46:20 sussess\r"
     ]
    }
   ],
   "source": []
  },
  {
   "cell_type": "code",
   "execution_count": null,
   "metadata": {},
   "outputs": [],
   "source": []
  },
  {
   "cell_type": "code",
   "execution_count": null,
   "metadata": {},
   "outputs": [
    {
     "name": "stdout",
     "output_type": "stream",
     "text": [
      "1728  2021-07-12 13:13:35 sussess\r"
     ]
    }
   ],
   "source": []
  },
  {
   "cell_type": "code",
   "execution_count": null,
   "metadata": {},
   "outputs": [],
   "source": []
  },
  {
   "cell_type": "code",
   "execution_count": null,
   "metadata": {},
   "outputs": [],
   "source": []
  },
  {
   "cell_type": "code",
   "execution_count": null,
   "metadata": {},
   "outputs": [],
   "source": []
  },
  {
   "cell_type": "code",
   "execution_count": 22,
   "metadata": {},
   "outputs": [
    {
     "data": {
      "text/plain": [
       "'2021-07-26 22:04:18'"
      ]
     },
     "execution_count": 22,
     "metadata": {},
     "output_type": "execute_result"
    },
    {
     "name": "stdout",
     "output_type": "stream",
     "text": [
      "1808  2021-07-12 13:20:15 sussess\r"
     ]
    }
   ],
   "source": [
    "time.strftime(\"%Y-%m-%d %H:%M:%S\", time.localtime(float(ts)))"
   ]
  },
  {
   "cell_type": "code",
   "execution_count": null,
   "metadata": {},
   "outputs": [],
   "source": []
  },
  {
   "cell_type": "code",
   "execution_count": 86,
   "metadata": {},
   "outputs": [
    {
     "data": {
      "text/plain": [
       "array([0.00, 0.00, 1.00, ..., 0.00, 0.00, 0.00])"
      ]
     },
     "execution_count": 86,
     "metadata": {},
     "output_type": "execute_result"
    },
    {
     "name": "stdout",
     "output_type": "stream",
     "text": [
      "1986  2021-07-12 13:35:05 sussess\r"
     ]
    }
   ],
   "source": [
    "dd.statistic[1000,:,4]"
   ]
  },
  {
   "cell_type": "code",
   "execution_count": 10,
   "metadata": {},
   "outputs": [],
   "source": [
    "import numpy as np"
   ]
  },
  {
   "cell_type": "code",
   "execution_count": 13,
   "metadata": {
    "scrolled": true
   },
   "outputs": [
    {
     "data": {
      "text/plain": [
       "[]"
      ]
     },
     "execution_count": 13,
     "metadata": {},
     "output_type": "execute_result"
    }
   ],
   "source": [
    "[\n",
    "    [\n",
    "        idx[0], \n",
    "        dd.check_points[np.argmax(dd.statistic[:,idx[0],4]>0)]\n",
    "    ] for idx in np.argwhere(dd.statistic[2000,:,4]>0)\n",
    "]\n"
   ]
  },
  {
   "cell_type": "code",
   "execution_count": 181,
   "metadata": {},
   "outputs": [
    {
     "data": {
      "text/plain": [
       "0.023999691009521484"
      ]
     },
     "execution_count": 181,
     "metadata": {},
     "output_type": "execute_result"
    },
    {
     "name": "stdout",
     "output_type": "stream",
     "text": [
      "2532  2021-07-12 14:20:35 sussess\r"
     ]
    }
   ],
   "source": [
    "start = time.time()\n",
    "json.dumps(list([\n",
    "    (\n",
    "        int(idx[0]), \n",
    "        int(dd.check_points[np.argmax(dd.statistic[:,idx[0],4]>0)])\n",
    "    ) for idx in np.argwhere(dd.statistic[2103,:,4]>0)\n",
    "]))\n",
    "time.time()-start"
   ]
  },
  {
   "cell_type": "code",
   "execution_count": null,
   "metadata": {},
   "outputs": [],
   "source": []
  },
  {
   "cell_type": "code",
   "execution_count": 45,
   "metadata": {},
   "outputs": [
    {
     "data": {
      "text/plain": [
       "'2021-07-12 15:32:16'"
      ]
     },
     "execution_count": 45,
     "metadata": {},
     "output_type": "execute_result"
    },
    {
     "name": "stdout",
     "output_type": "stream",
     "text": [
      "457   2021-07-12 09:57:50 sussess\r"
     ]
    }
   ],
   "source": [
    "delta = 1926\n",
    "time.strftime(\"%Y-%m-%d %H:%M:%S\", time.localtime(1626073210+delta))"
   ]
  },
  {
   "cell_type": "code",
   "execution_count": null,
   "metadata": {},
   "outputs": [],
   "source": []
  },
  {
   "cell_type": "code",
   "execution_count": 166,
   "metadata": {},
   "outputs": [
    {
     "data": {
      "text/plain": [
       "1626068690"
      ]
     },
     "execution_count": 166,
     "metadata": {},
     "output_type": "execute_result"
    },
    {
     "name": "stdout",
     "output_type": "stream",
     "text": [
      "2411  2021-07-12 14:10:30 sussess\r"
     ]
    }
   ],
   "source": [
    "dd.check_points[2103]"
   ]
  },
  {
   "cell_type": "code",
   "execution_count": 38,
   "metadata": {},
   "outputs": [
    {
     "data": {
      "text/plain": [
       "1626054426"
      ]
     },
     "execution_count": 38,
     "metadata": {},
     "output_type": "execute_result"
    },
    {
     "name": "stdout",
     "output_type": "stream",
     "text": [
      "409   2021-07-12 09:53:50 sussess\r"
     ]
    }
   ],
   "source": [
    "1626052500+delta"
   ]
  },
  {
   "cell_type": "code",
   "execution_count": 67,
   "metadata": {},
   "outputs": [
    {
     "data": {
      "text/plain": [
       "1626073210"
      ]
     },
     "execution_count": 67,
     "metadata": {},
     "output_type": "execute_result"
    },
    {
     "name": "stdout",
     "output_type": "stream",
     "text": [
      "1480  2021-07-12 11:23:05 sussess\r"
     ]
    }
   ],
   "source": [
    "dd.check_points[-1]"
   ]
  },
  {
   "cell_type": "code",
   "execution_count": null,
   "metadata": {},
   "outputs": [],
   "source": []
  },
  {
   "cell_type": "code",
   "execution_count": null,
   "metadata": {},
   "outputs": [],
   "source": []
  },
  {
   "cell_type": "code",
   "execution_count": null,
   "metadata": {},
   "outputs": [],
   "source": []
  },
  {
   "cell_type": "code",
   "execution_count": 12,
   "metadata": {},
   "outputs": [],
   "source": [
    "import numpy as np"
   ]
  },
  {
   "cell_type": "code",
   "execution_count": 14,
   "metadata": {},
   "outputs": [
    {
     "data": {
      "text/plain": [
       "[[2],\n",
       " [10],\n",
       " [13],\n",
       " [46],\n",
       " [62],\n",
       " [68],\n",
       " [138],\n",
       " [166],\n",
       " [184],\n",
       " [187],\n",
       " [235],\n",
       " [248],\n",
       " [334],\n",
       " [339],\n",
       " [341],\n",
       " [376],\n",
       " [390],\n",
       " [434],\n",
       " [534],\n",
       " [547],\n",
       " [549],\n",
       " [567],\n",
       " [577],\n",
       " [594],\n",
       " [598],\n",
       " [633],\n",
       " [641],\n",
       " [649],\n",
       " [663],\n",
       " [669],\n",
       " [696],\n",
       " [722],\n",
       " [723],\n",
       " [734],\n",
       " [777],\n",
       " [810],\n",
       " [892],\n",
       " [907],\n",
       " [909],\n",
       " [936],\n",
       " [968],\n",
       " [1024],\n",
       " [1067],\n",
       " [1068],\n",
       " [1070],\n",
       " [1147],\n",
       " [1175],\n",
       " [1197],\n",
       " [1247],\n",
       " [1250],\n",
       " [1284],\n",
       " [1324],\n",
       " [1326],\n",
       " [1333],\n",
       " [1370],\n",
       " [1668],\n",
       " [1767],\n",
       " [1789],\n",
       " [1932],\n",
       " [1957],\n",
       " [2064],\n",
       " [2450],\n",
       " [2502],\n",
       " [2517],\n",
       " [2530],\n",
       " [2531],\n",
       " [2541],\n",
       " [2556],\n",
       " [2557],\n",
       " [2560],\n",
       " [2590],\n",
       " [2643],\n",
       " [2644],\n",
       " [2650],\n",
       " [2656],\n",
       " [2716],\n",
       " [2728],\n",
       " [2762],\n",
       " [2780],\n",
       " [2783],\n",
       " [2902],\n",
       " [2911],\n",
       " [2933],\n",
       " [2937],\n",
       " [3020],\n",
       " [3033],\n",
       " [3052],\n",
       " [3083],\n",
       " [3084],\n",
       " [3114],\n",
       " [3160],\n",
       " [3161],\n",
       " [3167],\n",
       " [3206],\n",
       " [3258],\n",
       " [3282],\n",
       " [3487],\n",
       " [3562],\n",
       " [3585],\n",
       " [3671],\n",
       " [3701],\n",
       " [3721],\n",
       " [3758],\n",
       " [3765],\n",
       " [3780],\n",
       " [3853],\n",
       " [3859],\n",
       " [3880],\n",
       " [3904],\n",
       " [3967],\n",
       " [3978],\n",
       " [3981],\n",
       " [3982],\n",
       " [4012],\n",
       " [4280]]"
      ]
     },
     "execution_count": 14,
     "metadata": {},
     "output_type": "execute_result"
    },
    {
     "name": "stdout",
     "output_type": "stream",
     "text": [
      "1387  2021-07-12 11:15:20 sussess\r"
     ]
    }
   ],
   "source": [
    "np.argwhere(dd.statistic[1358, :, 4] > 0).tolist()"
   ]
  },
  {
   "cell_type": "code",
   "execution_count": null,
   "metadata": {},
   "outputs": [],
   "source": []
  },
  {
   "cell_type": "code",
   "execution_count": 15,
   "metadata": {},
   "outputs": [
    {
     "data": {
      "text/plain": [
       "1626059575"
      ]
     },
     "execution_count": 15,
     "metadata": {},
     "output_type": "execute_result"
    },
    {
     "name": "stdout",
     "output_type": "stream",
     "text": [
      "1870  2021-07-12 13:25:25 sussess\r"
     ]
    }
   ],
   "source": [
    "dd.check_points[1358]"
   ]
  },
  {
   "cell_type": "code",
   "execution_count": null,
   "metadata": {},
   "outputs": [],
   "source": []
  }
 ],
 "metadata": {
  "kernelspec": {
   "display_name": "Python 3",
   "language": "python",
   "name": "python3"
  },
  "language_info": {
   "codemirror_mode": {
    "name": "ipython",
    "version": 3
   },
   "file_extension": ".py",
   "mimetype": "text/x-python",
   "name": "python",
   "nbconvert_exporter": "python",
   "pygments_lexer": "ipython3",
   "version": "3.8.5"
  }
 },
 "nbformat": 4,
 "nbformat_minor": 4
}

{
 "cells": [
  {
   "cell_type": "code",
   "execution_count": 1,
   "metadata": {},
   "outputs": [],
   "source": [
    "import os\n",
    "import time\n",
    "import math\n",
    "import json\n",
    "import redis\n",
    "import random\n",
    "import asyncio\n",
    "import traceback\n",
    "from datetime import datetime\n",
    "from aredis import StrictRedis"
   ]
  },
  {
   "cell_type": "code",
   "execution_count": 2,
   "metadata": {},
   "outputs": [],
   "source": [
    "from pathlib import Path\n",
    "os.chdir(Path(os.getcwd()).parent)"
   ]
  },
  {
   "cell_type": "code",
   "execution_count": 3,
   "metadata": {},
   "outputs": [],
   "source": [
    "from libs.utils import Utils\n",
    "from libs.dailydata import DailyData\n",
    "from libs.cython.compute import compute_stats"
   ]
  },
  {
   "cell_type": "code",
   "execution_count": 4,
   "metadata": {},
   "outputs": [],
   "source": [
    "rd = redis.Redis(host='127.0.0.1', port=6379, db=8)\n",
    "ar = StrictRedis(host='127.0.0.1', port=6379, db=8)"
   ]
  },
  {
   "cell_type": "code",
   "execution_count": 5,
   "metadata": {},
   "outputs": [
    {
     "data": {
      "text/plain": [
       "True"
      ]
     },
     "execution_count": 5,
     "metadata": {},
     "output_type": "execute_result"
    }
   ],
   "source": [
    "Utils.update_symbols()\n",
    "symbols = Utils.get_running_symbols()\n",
    "assist_count = math.ceil(len(symbols)/800)+1\n",
    "rd.set(f'hq_assist_count', assist_count)"
   ]
  },
  {
   "cell_type": "code",
   "execution_count": 6,
   "metadata": {},
   "outputs": [
    {
     "data": {
      "text/plain": [
       "'20210810'"
      ]
     },
     "execution_count": 6,
     "metadata": {},
     "output_type": "execute_result"
    }
   ],
   "source": [
    "date = time.strftime('%Y%m%d')\n",
    "date = '20210810'\n",
    "date"
   ]
  },
  {
   "cell_type": "code",
   "execution_count": 7,
   "metadata": {},
   "outputs": [],
   "source": [
    "dd = DailyData.load(dt=date)"
   ]
  },
  {
   "cell_type": "code",
   "execution_count": 17,
   "metadata": {},
   "outputs": [],
   "source": [
    "dd.close_sharedmemory()\n",
    "dd.unlink_sharedmemory()"
   ]
  },
  {
   "cell_type": "code",
   "execution_count": 8,
   "metadata": {},
   "outputs": [],
   "source": [
    "async def start_fake_data_generator(assist_count=7, snapshot_interval=5):\n",
    "    assist_indices = list([ _ for _ in range(assist_count)])\n",
    "    \n",
    "    for _, check_point in enumerate(dd.check_points):\n",
    "        random.shuffle(assist_indices)\n",
    "        try:\n",
    "            time_lapse = dd.get_time_lapse(_)\n",
    "            ma5pm_anchor_idx = dd.get_ma5pm_anchor_idx(_)\n",
    "            fs5p = dd.snapshots[ma5pm_anchor_idx]\n",
    "            compute_stats(dd.snapshots[_], dd.basics, dd.statistic[_], fs5p, time_lapse)\n",
    "\n",
    "            for assist_idx in assist_indices:\n",
    "                await ar.publish(\n",
    "                    f'hq_assist_{assist_idx}_snapshotting', \n",
    "                    json.dumps({\"status\":'successful',\"date\":date,\"idx\":_,'check_point':int(check_point)})\n",
    "                )\n",
    "                \n",
    "            print(str(_).ljust(5, ' '), datetime.fromtimestamp(dd.check_points[_]).strftime('%Y-%m-%d %H:%M:%S'), 'sussess', end='\\r')\n",
    "\n",
    "        except Exception as e:\n",
    "            error = {\n",
    "                \"status\": 'failed',\n",
    "                \"idx\": _,\n",
    "                'check_point':int(check_point),\n",
    "                \"exception\": str(e),\n",
    "                'traceback': traceback.format_exc()\n",
    "            }\n",
    "\n",
    "            for assist_idx in assist_indices:\n",
    "                await ar.publish(\n",
    "                    f'hq_assist_{assist_idx}_snapshotting', \n",
    "                    json.dumps(error)\n",
    "                )\n",
    "            print(str(_).ljust(5, ' '), datetime.fromtimestamp(dd.check_points[_]).strftime('%Y-%m-%d %H:%M:%S'), 'failed', str(e), end='\\r')\n",
    "        finally:\n",
    "            if _ > 190:\n",
    "                await asyncio.sleep(snapshot_interval)\n"
   ]
  },
  {
   "cell_type": "code",
   "execution_count": null,
   "metadata": {},
   "outputs": [],
   "source": []
  },
  {
   "cell_type": "code",
   "execution_count": 9,
   "metadata": {},
   "outputs": [
    {
     "name": "stdout",
     "output_type": "stream",
     "text": [
      "1554  2021-08-10 11:29:15 sussess\r"
     ]
    }
   ],
   "source": [
    "task = asyncio.create_task(start_fake_data_generator())"
   ]
  },
  {
   "cell_type": "code",
   "execution_count": 17,
   "metadata": {},
   "outputs": [
    {
     "data": {
      "text/plain": [
       "True"
      ]
     },
     "execution_count": 17,
     "metadata": {},
     "output_type": "execute_result"
    }
   ],
   "source": [
    "task.cancel()"
   ]
  },
  {
   "cell_type": "code",
   "execution_count": null,
   "metadata": {},
   "outputs": [],
   "source": []
  },
  {
   "cell_type": "code",
   "execution_count": 11,
   "metadata": {},
   "outputs": [],
   "source": [
    "import numpy as np"
   ]
  },
  {
   "cell_type": "code",
   "execution_count": 14,
   "metadata": {},
   "outputs": [],
   "source": [
    "_ = 3006"
   ]
  },
  {
   "cell_type": "code",
   "execution_count": 16,
   "metadata": {},
   "outputs": [
    {
     "data": {
      "text/html": [
       "<div>\n",
       "<style scoped>\n",
       "    .dataframe tbody tr th:only-of-type {\n",
       "        vertical-align: middle;\n",
       "    }\n",
       "\n",
       "    .dataframe tbody tr th {\n",
       "        vertical-align: top;\n",
       "    }\n",
       "\n",
       "    .dataframe thead th {\n",
       "        text-align: right;\n",
       "    }\n",
       "</style>\n",
       "<table border=\"1\" class=\"dataframe\">\n",
       "  <thead>\n",
       "    <tr style=\"text-align: right;\">\n",
       "      <th></th>\n",
       "      <th>datetime</th>\n",
       "      <th>timestamp</th>\n",
       "      <th>name</th>\n",
       "      <th>open</th>\n",
       "      <th>close</th>\n",
       "      <th>now</th>\n",
       "      <th>high</th>\n",
       "      <th>low</th>\n",
       "      <th>turnover</th>\n",
       "      <th>volume</th>\n",
       "      <th>bid1</th>\n",
       "      <th>bid1_volume</th>\n",
       "      <th>zhangfu</th>\n",
       "      <th>junjia</th>\n",
       "      <th>liangbi</th>\n",
       "      <th>zhangsu</th>\n",
       "      <th>tingban</th>\n",
       "      <th>ma5</th>\n",
       "    </tr>\n",
       "    <tr>\n",
       "      <th>symbol</th>\n",
       "      <th></th>\n",
       "      <th></th>\n",
       "      <th></th>\n",
       "      <th></th>\n",
       "      <th></th>\n",
       "      <th></th>\n",
       "      <th></th>\n",
       "      <th></th>\n",
       "      <th></th>\n",
       "      <th></th>\n",
       "      <th></th>\n",
       "      <th></th>\n",
       "      <th></th>\n",
       "      <th></th>\n",
       "      <th></th>\n",
       "      <th></th>\n",
       "      <th></th>\n",
       "      <th></th>\n",
       "    </tr>\n",
       "  </thead>\n",
       "  <tbody>\n",
       "    <tr>\n",
       "      <th>000001</th>\n",
       "      <td>08:50:06</td>\n",
       "      <td>3006</td>\n",
       "      <td>平安银行</td>\n",
       "      <td>17.91</td>\n",
       "      <td>17.86</td>\n",
       "      <td>19.06</td>\n",
       "      <td>19.25</td>\n",
       "      <td>17.84</td>\n",
       "      <td>175,279,800.00</td>\n",
       "      <td>3,313,803,230.96</td>\n",
       "      <td>19.06</td>\n",
       "      <td>57,388.00</td>\n",
       "      <td>6.72</td>\n",
       "      <td>18.91</td>\n",
       "      <td>2.20</td>\n",
       "      <td>-0.16</td>\n",
       "      <td>0.00</td>\n",
       "      <td>18.06</td>\n",
       "    </tr>\n",
       "    <tr>\n",
       "      <th>000002</th>\n",
       "      <td>08:50:06</td>\n",
       "      <td>3006</td>\n",
       "      <td>万 科Ａ</td>\n",
       "      <td>21.00</td>\n",
       "      <td>21.10</td>\n",
       "      <td>22.28</td>\n",
       "      <td>22.76</td>\n",
       "      <td>20.98</td>\n",
       "      <td>138,908,123.00</td>\n",
       "      <td>3,081,214,270.26</td>\n",
       "      <td>22.27</td>\n",
       "      <td>44,700.00</td>\n",
       "      <td>5.59</td>\n",
       "      <td>22.18</td>\n",
       "      <td>1.83</td>\n",
       "      <td>-0.13</td>\n",
       "      <td>0.00</td>\n",
       "      <td>21.16</td>\n",
       "    </tr>\n",
       "    <tr>\n",
       "      <th>000004</th>\n",
       "      <td>08:50:06</td>\n",
       "      <td>3006</td>\n",
       "      <td>国华网安</td>\n",
       "      <td>21.90</td>\n",
       "      <td>22.31</td>\n",
       "      <td>22.65</td>\n",
       "      <td>22.81</td>\n",
       "      <td>21.69</td>\n",
       "      <td>5,462,759.00</td>\n",
       "      <td>122,886,445.43</td>\n",
       "      <td>22.64</td>\n",
       "      <td>2,000.00</td>\n",
       "      <td>1.52</td>\n",
       "      <td>22.50</td>\n",
       "      <td>0.54</td>\n",
       "      <td>0.35</td>\n",
       "      <td>0.00</td>\n",
       "      <td>22.88</td>\n",
       "    </tr>\n",
       "    <tr>\n",
       "      <th>000005</th>\n",
       "      <td>08:50:06</td>\n",
       "      <td>3006</td>\n",
       "      <td>ST星源</td>\n",
       "      <td>1.98</td>\n",
       "      <td>1.98</td>\n",
       "      <td>2.05</td>\n",
       "      <td>2.07</td>\n",
       "      <td>1.98</td>\n",
       "      <td>11,331,887.00</td>\n",
       "      <td>23,091,657.52</td>\n",
       "      <td>2.05</td>\n",
       "      <td>40,800.00</td>\n",
       "      <td>3.54</td>\n",
       "      <td>2.04</td>\n",
       "      <td>1.04</td>\n",
       "      <td>0.00</td>\n",
       "      <td>0.00</td>\n",
       "      <td>2.03</td>\n",
       "    </tr>\n",
       "    <tr>\n",
       "      <th>000006</th>\n",
       "      <td>08:50:06</td>\n",
       "      <td>3006</td>\n",
       "      <td>深振业Ａ</td>\n",
       "      <td>4.54</td>\n",
       "      <td>4.54</td>\n",
       "      <td>4.60</td>\n",
       "      <td>4.68</td>\n",
       "      <td>4.50</td>\n",
       "      <td>10,007,143.00</td>\n",
       "      <td>46,121,945.80</td>\n",
       "      <td>4.60</td>\n",
       "      <td>214,857.00</td>\n",
       "      <td>1.32</td>\n",
       "      <td>4.61</td>\n",
       "      <td>1.45</td>\n",
       "      <td>0.00</td>\n",
       "      <td>0.00</td>\n",
       "      <td>4.52</td>\n",
       "    </tr>\n",
       "    <tr>\n",
       "      <th>...</th>\n",
       "      <td>...</td>\n",
       "      <td>...</td>\n",
       "      <td>...</td>\n",
       "      <td>...</td>\n",
       "      <td>...</td>\n",
       "      <td>...</td>\n",
       "      <td>...</td>\n",
       "      <td>...</td>\n",
       "      <td>...</td>\n",
       "      <td>...</td>\n",
       "      <td>...</td>\n",
       "      <td>...</td>\n",
       "      <td>...</td>\n",
       "      <td>...</td>\n",
       "      <td>...</td>\n",
       "      <td>...</td>\n",
       "      <td>...</td>\n",
       "      <td>...</td>\n",
       "    </tr>\n",
       "    <tr>\n",
       "      <th>688799</th>\n",
       "      <td>08:50:06</td>\n",
       "      <td>3006</td>\n",
       "      <td>华纳药厂</td>\n",
       "      <td>43.39</td>\n",
       "      <td>43.52</td>\n",
       "      <td>44.00</td>\n",
       "      <td>44.10</td>\n",
       "      <td>42.86</td>\n",
       "      <td>1,372,054.00</td>\n",
       "      <td>59,548,997.00</td>\n",
       "      <td>43.98</td>\n",
       "      <td>1,200.00</td>\n",
       "      <td>1.10</td>\n",
       "      <td>43.40</td>\n",
       "      <td>0.65</td>\n",
       "      <td>-0.05</td>\n",
       "      <td>0.00</td>\n",
       "      <td>45.39</td>\n",
       "    </tr>\n",
       "    <tr>\n",
       "      <th>688800</th>\n",
       "      <td>08:50:06</td>\n",
       "      <td>3006</td>\n",
       "      <td>瑞可达</td>\n",
       "      <td>85.88</td>\n",
       "      <td>87.90</td>\n",
       "      <td>84.00</td>\n",
       "      <td>86.98</td>\n",
       "      <td>78.75</td>\n",
       "      <td>2,529,922.00</td>\n",
       "      <td>206,744,028.00</td>\n",
       "      <td>83.88</td>\n",
       "      <td>600.00</td>\n",
       "      <td>-4.44</td>\n",
       "      <td>81.72</td>\n",
       "      <td>0.88</td>\n",
       "      <td>1.86</td>\n",
       "      <td>0.00</td>\n",
       "      <td>86.66</td>\n",
       "    </tr>\n",
       "    <tr>\n",
       "      <th>688819</th>\n",
       "      <td>08:50:06</td>\n",
       "      <td>3006</td>\n",
       "      <td>天能股份</td>\n",
       "      <td>55.21</td>\n",
       "      <td>55.95</td>\n",
       "      <td>56.25</td>\n",
       "      <td>58.30</td>\n",
       "      <td>54.50</td>\n",
       "      <td>9,510,473.00</td>\n",
       "      <td>535,466,854.00</td>\n",
       "      <td>56.25</td>\n",
       "      <td>37,632.00</td>\n",
       "      <td>0.54</td>\n",
       "      <td>56.30</td>\n",
       "      <td>0.63</td>\n",
       "      <td>0.12</td>\n",
       "      <td>0.00</td>\n",
       "      <td>55.31</td>\n",
       "    </tr>\n",
       "    <tr>\n",
       "      <th>688981</th>\n",
       "      <td>08:50:06</td>\n",
       "      <td>3006</td>\n",
       "      <td>中芯国际</td>\n",
       "      <td>65.79</td>\n",
       "      <td>67.46</td>\n",
       "      <td>64.03</td>\n",
       "      <td>66.16</td>\n",
       "      <td>63.50</td>\n",
       "      <td>94,201,217.00</td>\n",
       "      <td>6,073,021,844.00</td>\n",
       "      <td>64.03</td>\n",
       "      <td>352,935.00</td>\n",
       "      <td>-5.08</td>\n",
       "      <td>64.47</td>\n",
       "      <td>0.79</td>\n",
       "      <td>0.08</td>\n",
       "      <td>0.00</td>\n",
       "      <td>65.08</td>\n",
       "    </tr>\n",
       "    <tr>\n",
       "      <th>689009</th>\n",
       "      <td>08:50:06</td>\n",
       "      <td>3006</td>\n",
       "      <td>九号公司</td>\n",
       "      <td>63.00</td>\n",
       "      <td>62.96</td>\n",
       "      <td>63.52</td>\n",
       "      <td>64.44</td>\n",
       "      <td>61.50</td>\n",
       "      <td>933,773.00</td>\n",
       "      <td>58,665,194.00</td>\n",
       "      <td>63.51</td>\n",
       "      <td>200.00</td>\n",
       "      <td>0.89</td>\n",
       "      <td>62.83</td>\n",
       "      <td>0.97</td>\n",
       "      <td>0.05</td>\n",
       "      <td>0.00</td>\n",
       "      <td>64.05</td>\n",
       "    </tr>\n",
       "  </tbody>\n",
       "</table>\n",
       "<p>4419 rows × 18 columns</p>\n",
       "</div>"
      ],
      "text/plain": [
       "        datetime  timestamp  name  open  close   now  high   low  \\\n",
       "symbol                                                             \n",
       "000001  08:50:06       3006  平安银行 17.91  17.86 19.06 19.25 17.84   \n",
       "000002  08:50:06       3006  万 科Ａ 21.00  21.10 22.28 22.76 20.98   \n",
       "000004  08:50:06       3006  国华网安 21.90  22.31 22.65 22.81 21.69   \n",
       "000005  08:50:06       3006  ST星源  1.98   1.98  2.05  2.07  1.98   \n",
       "000006  08:50:06       3006  深振业Ａ  4.54   4.54  4.60  4.68  4.50   \n",
       "...          ...        ...   ...   ...    ...   ...   ...   ...   \n",
       "688799  08:50:06       3006  华纳药厂 43.39  43.52 44.00 44.10 42.86   \n",
       "688800  08:50:06       3006   瑞可达 85.88  87.90 84.00 86.98 78.75   \n",
       "688819  08:50:06       3006  天能股份 55.21  55.95 56.25 58.30 54.50   \n",
       "688981  08:50:06       3006  中芯国际 65.79  67.46 64.03 66.16 63.50   \n",
       "689009  08:50:06       3006  九号公司 63.00  62.96 63.52 64.44 61.50   \n",
       "\n",
       "             turnover           volume  bid1  bid1_volume  zhangfu  junjia  \\\n",
       "symbol                                                                       \n",
       "000001 175,279,800.00 3,313,803,230.96 19.06    57,388.00     6.72   18.91   \n",
       "000002 138,908,123.00 3,081,214,270.26 22.27    44,700.00     5.59   22.18   \n",
       "000004   5,462,759.00   122,886,445.43 22.64     2,000.00     1.52   22.50   \n",
       "000005  11,331,887.00    23,091,657.52  2.05    40,800.00     3.54    2.04   \n",
       "000006  10,007,143.00    46,121,945.80  4.60   214,857.00     1.32    4.61   \n",
       "...               ...              ...   ...          ...      ...     ...   \n",
       "688799   1,372,054.00    59,548,997.00 43.98     1,200.00     1.10   43.40   \n",
       "688800   2,529,922.00   206,744,028.00 83.88       600.00    -4.44   81.72   \n",
       "688819   9,510,473.00   535,466,854.00 56.25    37,632.00     0.54   56.30   \n",
       "688981  94,201,217.00 6,073,021,844.00 64.03   352,935.00    -5.08   64.47   \n",
       "689009     933,773.00    58,665,194.00 63.51       200.00     0.89   62.83   \n",
       "\n",
       "        liangbi  zhangsu  tingban   ma5  \n",
       "symbol                                   \n",
       "000001     2.20    -0.16     0.00 18.06  \n",
       "000002     1.83    -0.13     0.00 21.16  \n",
       "000004     0.54     0.35     0.00 22.88  \n",
       "000005     1.04     0.00     0.00  2.03  \n",
       "000006     1.45     0.00     0.00  4.52  \n",
       "...         ...      ...      ...   ...  \n",
       "688799     0.65    -0.05     0.00 45.39  \n",
       "688800     0.88     1.86     0.00 86.66  \n",
       "688819     0.63     0.12     0.00 55.31  \n",
       "688981     0.79     0.08     0.00 65.08  \n",
       "689009     0.97     0.05     0.00 64.05  \n",
       "\n",
       "[4419 rows x 18 columns]"
      ]
     },
     "execution_count": 16,
     "metadata": {},
     "output_type": "execute_result"
    }
   ],
   "source": [
    "dd.get_snapshot(_)"
   ]
  },
  {
   "cell_type": "code",
   "execution_count": null,
   "metadata": {},
   "outputs": [],
   "source": []
  },
  {
   "cell_type": "code",
   "execution_count": 18,
   "metadata": {},
   "outputs": [
    {
     "data": {
      "text/plain": [
       "2945"
      ]
     },
     "execution_count": 18,
     "metadata": {},
     "output_type": "execute_result"
    }
   ],
   "source": [
    "ma5pm_anchor_idx = dd.get_ma5pm_anchor_idx(_)\n",
    "ma5pm_anchor_idx"
   ]
  },
  {
   "cell_type": "code",
   "execution_count": 19,
   "metadata": {},
   "outputs": [
    {
     "data": {
      "text/html": [
       "<div>\n",
       "<style scoped>\n",
       "    .dataframe tbody tr th:only-of-type {\n",
       "        vertical-align: middle;\n",
       "    }\n",
       "\n",
       "    .dataframe tbody tr th {\n",
       "        vertical-align: top;\n",
       "    }\n",
       "\n",
       "    .dataframe thead th {\n",
       "        text-align: right;\n",
       "    }\n",
       "</style>\n",
       "<table border=\"1\" class=\"dataframe\">\n",
       "  <thead>\n",
       "    <tr style=\"text-align: right;\">\n",
       "      <th></th>\n",
       "      <th>datetime</th>\n",
       "      <th>timestamp</th>\n",
       "      <th>name</th>\n",
       "      <th>open</th>\n",
       "      <th>close</th>\n",
       "      <th>now</th>\n",
       "      <th>high</th>\n",
       "      <th>low</th>\n",
       "      <th>turnover</th>\n",
       "      <th>volume</th>\n",
       "      <th>bid1</th>\n",
       "      <th>bid1_volume</th>\n",
       "      <th>zhangfu</th>\n",
       "      <th>junjia</th>\n",
       "      <th>liangbi</th>\n",
       "      <th>zhangsu</th>\n",
       "      <th>tingban</th>\n",
       "      <th>ma5</th>\n",
       "    </tr>\n",
       "    <tr>\n",
       "      <th>symbol</th>\n",
       "      <th></th>\n",
       "      <th></th>\n",
       "      <th></th>\n",
       "      <th></th>\n",
       "      <th></th>\n",
       "      <th></th>\n",
       "      <th></th>\n",
       "      <th></th>\n",
       "      <th></th>\n",
       "      <th></th>\n",
       "      <th></th>\n",
       "      <th></th>\n",
       "      <th></th>\n",
       "      <th></th>\n",
       "      <th></th>\n",
       "      <th></th>\n",
       "      <th></th>\n",
       "      <th></th>\n",
       "    </tr>\n",
       "  </thead>\n",
       "  <tbody>\n",
       "    <tr>\n",
       "      <th>000001</th>\n",
       "      <td>08:49:05</td>\n",
       "      <td>2945</td>\n",
       "      <td>平安银行</td>\n",
       "      <td>17.91</td>\n",
       "      <td>17.86</td>\n",
       "      <td>19.09</td>\n",
       "      <td>19.25</td>\n",
       "      <td>17.84</td>\n",
       "      <td>173,596,688.00</td>\n",
       "      <td>3,281,710,779.30</td>\n",
       "      <td>19.08</td>\n",
       "      <td>139,600.00</td>\n",
       "      <td>6.89</td>\n",
       "      <td>18.90</td>\n",
       "      <td>2.23</td>\n",
       "      <td>6.59</td>\n",
       "      <td>0.00</td>\n",
       "      <td>18.07</td>\n",
       "    </tr>\n",
       "    <tr>\n",
       "      <th>000002</th>\n",
       "      <td>08:49:05</td>\n",
       "      <td>2945</td>\n",
       "      <td>万 科Ａ</td>\n",
       "      <td>21.00</td>\n",
       "      <td>21.10</td>\n",
       "      <td>22.31</td>\n",
       "      <td>22.76</td>\n",
       "      <td>20.98</td>\n",
       "      <td>136,288,483.00</td>\n",
       "      <td>3,022,826,808.26</td>\n",
       "      <td>22.30</td>\n",
       "      <td>230,640.00</td>\n",
       "      <td>5.73</td>\n",
       "      <td>22.18</td>\n",
       "      <td>1.83</td>\n",
       "      <td>6.24</td>\n",
       "      <td>0.00</td>\n",
       "      <td>21.17</td>\n",
       "    </tr>\n",
       "    <tr>\n",
       "      <th>000004</th>\n",
       "      <td>08:49:05</td>\n",
       "      <td>2945</td>\n",
       "      <td>国华网安</td>\n",
       "      <td>21.90</td>\n",
       "      <td>22.31</td>\n",
       "      <td>22.57</td>\n",
       "      <td>22.81</td>\n",
       "      <td>21.69</td>\n",
       "      <td>4,999,159.00</td>\n",
       "      <td>112,394,527.43</td>\n",
       "      <td>22.57</td>\n",
       "      <td>2,300.00</td>\n",
       "      <td>1.17</td>\n",
       "      <td>22.48</td>\n",
       "      <td>0.51</td>\n",
       "      <td>3.06</td>\n",
       "      <td>0.00</td>\n",
       "      <td>22.86</td>\n",
       "    </tr>\n",
       "    <tr>\n",
       "      <th>000005</th>\n",
       "      <td>08:49:05</td>\n",
       "      <td>2945</td>\n",
       "      <td>ST星源</td>\n",
       "      <td>1.98</td>\n",
       "      <td>1.98</td>\n",
       "      <td>2.05</td>\n",
       "      <td>2.07</td>\n",
       "      <td>1.98</td>\n",
       "      <td>11,051,887.00</td>\n",
       "      <td>22,516,883.52</td>\n",
       "      <td>2.05</td>\n",
       "      <td>7,600.00</td>\n",
       "      <td>3.54</td>\n",
       "      <td>2.04</td>\n",
       "      <td>1.03</td>\n",
       "      <td>3.54</td>\n",
       "      <td>0.00</td>\n",
       "      <td>2.03</td>\n",
       "    </tr>\n",
       "    <tr>\n",
       "      <th>000006</th>\n",
       "      <td>08:49:05</td>\n",
       "      <td>2945</td>\n",
       "      <td>深振业Ａ</td>\n",
       "      <td>4.54</td>\n",
       "      <td>4.54</td>\n",
       "      <td>4.60</td>\n",
       "      <td>4.68</td>\n",
       "      <td>4.50</td>\n",
       "      <td>9,711,243.00</td>\n",
       "      <td>44,759,294.80</td>\n",
       "      <td>4.60</td>\n",
       "      <td>88,957.00</td>\n",
       "      <td>1.32</td>\n",
       "      <td>4.61</td>\n",
       "      <td>1.44</td>\n",
       "      <td>1.32</td>\n",
       "      <td>0.00</td>\n",
       "      <td>4.52</td>\n",
       "    </tr>\n",
       "    <tr>\n",
       "      <th>...</th>\n",
       "      <td>...</td>\n",
       "      <td>...</td>\n",
       "      <td>...</td>\n",
       "      <td>...</td>\n",
       "      <td>...</td>\n",
       "      <td>...</td>\n",
       "      <td>...</td>\n",
       "      <td>...</td>\n",
       "      <td>...</td>\n",
       "      <td>...</td>\n",
       "      <td>...</td>\n",
       "      <td>...</td>\n",
       "      <td>...</td>\n",
       "      <td>...</td>\n",
       "      <td>...</td>\n",
       "      <td>...</td>\n",
       "      <td>...</td>\n",
       "      <td>...</td>\n",
       "    </tr>\n",
       "    <tr>\n",
       "      <th>688799</th>\n",
       "      <td>08:49:05</td>\n",
       "      <td>2945</td>\n",
       "      <td>华纳药厂</td>\n",
       "      <td>43.39</td>\n",
       "      <td>43.52</td>\n",
       "      <td>44.02</td>\n",
       "      <td>44.10</td>\n",
       "      <td>42.86</td>\n",
       "      <td>1,324,727.00</td>\n",
       "      <td>57,466,796.00</td>\n",
       "      <td>44.02</td>\n",
       "      <td>600.00</td>\n",
       "      <td>1.15</td>\n",
       "      <td>43.38</td>\n",
       "      <td>0.64</td>\n",
       "      <td>1.45</td>\n",
       "      <td>0.00</td>\n",
       "      <td>45.39</td>\n",
       "    </tr>\n",
       "    <tr>\n",
       "      <th>688800</th>\n",
       "      <td>08:49:05</td>\n",
       "      <td>2945</td>\n",
       "      <td>瑞可达</td>\n",
       "      <td>85.88</td>\n",
       "      <td>87.90</td>\n",
       "      <td>82.47</td>\n",
       "      <td>86.98</td>\n",
       "      <td>78.75</td>\n",
       "      <td>2,475,652.00</td>\n",
       "      <td>202,190,389.00</td>\n",
       "      <td>82.48</td>\n",
       "      <td>1,534.00</td>\n",
       "      <td>-6.18</td>\n",
       "      <td>81.67</td>\n",
       "      <td>0.88</td>\n",
       "      <td>-3.97</td>\n",
       "      <td>0.00</td>\n",
       "      <td>86.35</td>\n",
       "    </tr>\n",
       "    <tr>\n",
       "      <th>688819</th>\n",
       "      <td>08:49:05</td>\n",
       "      <td>2945</td>\n",
       "      <td>天能股份</td>\n",
       "      <td>55.21</td>\n",
       "      <td>55.95</td>\n",
       "      <td>56.18</td>\n",
       "      <td>58.30</td>\n",
       "      <td>54.50</td>\n",
       "      <td>9,328,992.00</td>\n",
       "      <td>525,264,060.00</td>\n",
       "      <td>56.17</td>\n",
       "      <td>5,576.00</td>\n",
       "      <td>0.41</td>\n",
       "      <td>56.30</td>\n",
       "      <td>0.63</td>\n",
       "      <td>1.76</td>\n",
       "      <td>0.00</td>\n",
       "      <td>55.29</td>\n",
       "    </tr>\n",
       "    <tr>\n",
       "      <th>688981</th>\n",
       "      <td>08:49:05</td>\n",
       "      <td>2945</td>\n",
       "      <td>中芯国际</td>\n",
       "      <td>65.79</td>\n",
       "      <td>67.46</td>\n",
       "      <td>63.98</td>\n",
       "      <td>66.16</td>\n",
       "      <td>63.50</td>\n",
       "      <td>92,879,204.00</td>\n",
       "      <td>5,988,397,897.00</td>\n",
       "      <td>63.97</td>\n",
       "      <td>6,603.00</td>\n",
       "      <td>-5.16</td>\n",
       "      <td>64.48</td>\n",
       "      <td>0.80</td>\n",
       "      <td>-2.75</td>\n",
       "      <td>0.00</td>\n",
       "      <td>65.07</td>\n",
       "    </tr>\n",
       "    <tr>\n",
       "      <th>689009</th>\n",
       "      <td>08:49:05</td>\n",
       "      <td>2945</td>\n",
       "      <td>九号公司</td>\n",
       "      <td>63.00</td>\n",
       "      <td>62.96</td>\n",
       "      <td>63.49</td>\n",
       "      <td>64.44</td>\n",
       "      <td>61.50</td>\n",
       "      <td>910,025.00</td>\n",
       "      <td>57,157,237.00</td>\n",
       "      <td>63.42</td>\n",
       "      <td>674.00</td>\n",
       "      <td>0.84</td>\n",
       "      <td>62.81</td>\n",
       "      <td>0.96</td>\n",
       "      <td>0.78</td>\n",
       "      <td>0.00</td>\n",
       "      <td>64.04</td>\n",
       "    </tr>\n",
       "  </tbody>\n",
       "</table>\n",
       "<p>4419 rows × 18 columns</p>\n",
       "</div>"
      ],
      "text/plain": [
       "        datetime  timestamp  name  open  close   now  high   low  \\\n",
       "symbol                                                             \n",
       "000001  08:49:05       2945  平安银行 17.91  17.86 19.09 19.25 17.84   \n",
       "000002  08:49:05       2945  万 科Ａ 21.00  21.10 22.31 22.76 20.98   \n",
       "000004  08:49:05       2945  国华网安 21.90  22.31 22.57 22.81 21.69   \n",
       "000005  08:49:05       2945  ST星源  1.98   1.98  2.05  2.07  1.98   \n",
       "000006  08:49:05       2945  深振业Ａ  4.54   4.54  4.60  4.68  4.50   \n",
       "...          ...        ...   ...   ...    ...   ...   ...   ...   \n",
       "688799  08:49:05       2945  华纳药厂 43.39  43.52 44.02 44.10 42.86   \n",
       "688800  08:49:05       2945   瑞可达 85.88  87.90 82.47 86.98 78.75   \n",
       "688819  08:49:05       2945  天能股份 55.21  55.95 56.18 58.30 54.50   \n",
       "688981  08:49:05       2945  中芯国际 65.79  67.46 63.98 66.16 63.50   \n",
       "689009  08:49:05       2945  九号公司 63.00  62.96 63.49 64.44 61.50   \n",
       "\n",
       "             turnover           volume  bid1  bid1_volume  zhangfu  junjia  \\\n",
       "symbol                                                                       \n",
       "000001 173,596,688.00 3,281,710,779.30 19.08   139,600.00     6.89   18.90   \n",
       "000002 136,288,483.00 3,022,826,808.26 22.30   230,640.00     5.73   22.18   \n",
       "000004   4,999,159.00   112,394,527.43 22.57     2,300.00     1.17   22.48   \n",
       "000005  11,051,887.00    22,516,883.52  2.05     7,600.00     3.54    2.04   \n",
       "000006   9,711,243.00    44,759,294.80  4.60    88,957.00     1.32    4.61   \n",
       "...               ...              ...   ...          ...      ...     ...   \n",
       "688799   1,324,727.00    57,466,796.00 44.02       600.00     1.15   43.38   \n",
       "688800   2,475,652.00   202,190,389.00 82.48     1,534.00    -6.18   81.67   \n",
       "688819   9,328,992.00   525,264,060.00 56.17     5,576.00     0.41   56.30   \n",
       "688981  92,879,204.00 5,988,397,897.00 63.97     6,603.00    -5.16   64.48   \n",
       "689009     910,025.00    57,157,237.00 63.42       674.00     0.84   62.81   \n",
       "\n",
       "        liangbi  zhangsu  tingban   ma5  \n",
       "symbol                                   \n",
       "000001     2.23     6.59     0.00 18.07  \n",
       "000002     1.83     6.24     0.00 21.17  \n",
       "000004     0.51     3.06     0.00 22.86  \n",
       "000005     1.03     3.54     0.00  2.03  \n",
       "000006     1.44     1.32     0.00  4.52  \n",
       "...         ...      ...      ...   ...  \n",
       "688799     0.64     1.45     0.00 45.39  \n",
       "688800     0.88    -3.97     0.00 86.35  \n",
       "688819     0.63     1.76     0.00 55.29  \n",
       "688981     0.80    -2.75     0.00 65.07  \n",
       "689009     0.96     0.78     0.00 64.04  \n",
       "\n",
       "[4419 rows x 18 columns]"
      ]
     },
     "execution_count": 19,
     "metadata": {},
     "output_type": "execute_result"
    }
   ],
   "source": [
    "dd.get_snapshot(2945)"
   ]
  },
  {
   "cell_type": "code",
   "execution_count": null,
   "metadata": {},
   "outputs": [],
   "source": []
  },
  {
   "cell_type": "code",
   "execution_count": 23,
   "metadata": {},
   "outputs": [
    {
     "data": {
      "text/plain": [
       "1628492100"
      ]
     },
     "execution_count": 23,
     "metadata": {},
     "output_type": "execute_result"
    }
   ],
   "source": [
    "dd.check_points[2945]"
   ]
  },
  {
   "cell_type": "code",
   "execution_count": 22,
   "metadata": {},
   "outputs": [
    {
     "data": {
      "text/plain": [
       "'2021-08-09 14:55:00'"
      ]
     },
     "execution_count": 22,
     "metadata": {},
     "output_type": "execute_result"
    }
   ],
   "source": [
    "time.strftime(\"%Y-%m-%d %H:%M:%S\", time.localtime(1628492100))"
   ]
  },
  {
   "cell_type": "code",
   "execution_count": 30,
   "metadata": {},
   "outputs": [
    {
     "data": {
      "text/plain": [
       "array([[17.91, 17.86, 19.06, ..., 3313803230.96, 19.06, 57388.00],\n",
       "       [21.00, 21.10, 22.28, ..., 3081214270.26, 22.27, 44700.00],\n",
       "       [21.90, 22.31, 22.65, ..., 122886445.43, 22.64, 2000.00],\n",
       "       ...,\n",
       "       [55.21, 55.95, 56.25, ..., 535466854.00, 56.25, 37632.00],\n",
       "       [65.79, 67.46, 64.03, ..., 6073021844.00, 64.03, 352935.00],\n",
       "       [63.00, 62.96, 63.52, ..., 58665194.00, 63.51, 200.00]])"
      ]
     },
     "execution_count": 30,
     "metadata": {},
     "output_type": "execute_result"
    }
   ],
   "source": [
    "ms = dd.snapshots[_]\n",
    "ms"
   ]
  },
  {
   "cell_type": "code",
   "execution_count": 28,
   "metadata": {},
   "outputs": [
    {
     "data": {
      "text/plain": [
       "array([[17.91, 17.86, 19.09, ..., 3281710779.30, 19.08, 139600.00],\n",
       "       [21.00, 21.10, 22.31, ..., 3022826808.26, 22.30, 230640.00],\n",
       "       [21.90, 22.31, 22.57, ..., 112394527.43, 22.57, 2300.00],\n",
       "       ...,\n",
       "       [55.21, 55.95, 56.18, ..., 525264060.00, 56.17, 5576.00],\n",
       "       [65.79, 67.46, 63.98, ..., 5988397897.00, 63.97, 6603.00],\n",
       "       [63.00, 62.96, 63.49, ..., 57157237.00, 63.42, 674.00]])"
      ]
     },
     "execution_count": 28,
     "metadata": {},
     "output_type": "execute_result"
    }
   ],
   "source": [
    "fs5p = dd.snapshots[2945]\n",
    "fs5p"
   ]
  },
  {
   "cell_type": "code",
   "execution_count": 35,
   "metadata": {},
   "outputs": [
    {
     "data": {
      "text/plain": [
       "0.013215859030836885"
      ]
     },
     "execution_count": 35,
     "metadata": {},
     "output_type": "execute_result"
    }
   ],
   "source": [
    "(ms[4,2]/fs5p[4,0]-1)*"
   ]
  },
  {
   "cell_type": "code",
   "execution_count": 32,
   "metadata": {},
   "outputs": [
    {
     "data": {
      "text/plain": [
       "4.54"
      ]
     },
     "execution_count": 32,
     "metadata": {},
     "output_type": "execute_result"
    }
   ],
   "source": []
  },
  {
   "cell_type": "code",
   "execution_count": null,
   "metadata": {},
   "outputs": [],
   "source": []
  },
  {
   "cell_type": "code",
   "execution_count": null,
   "metadata": {},
   "outputs": [],
   "source": []
  },
  {
   "cell_type": "code",
   "execution_count": null,
   "metadata": {},
   "outputs": [],
   "source": []
  },
  {
   "cell_type": "code",
   "execution_count": 13,
   "metadata": {},
   "outputs": [],
   "source": [
    "for key in rd.keys():\n",
    "    print(key)\n",
    "    if key.decode(\"utf-8\") .startswith('test'):\n",
    "        continue\n",
    "    rd.delete(key)"
   ]
  },
  {
   "cell_type": "code",
   "execution_count": null,
   "metadata": {},
   "outputs": [],
   "source": [
    "int(rd.get(f'hq_{date}_check_points_length'))"
   ]
  },
  {
   "cell_type": "code",
   "execution_count": null,
   "metadata": {},
   "outputs": [],
   "source": [
    "rd.get(f'hq_{date}_check_points_length')"
   ]
  },
  {
   "cell_type": "code",
   "execution_count": null,
   "metadata": {},
   "outputs": [],
   "source": []
  },
  {
   "cell_type": "code",
   "execution_count": 120,
   "metadata": {},
   "outputs": [],
   "source": [
    "idx = 2661"
   ]
  },
  {
   "cell_type": "code",
   "execution_count": 121,
   "metadata": {},
   "outputs": [
    {
     "data": {
      "text/plain": [
       "array([False, False,  True, ..., False, False, False])"
      ]
     },
     "execution_count": 121,
     "metadata": {},
     "output_type": "execute_result"
    }
   ],
   "source": [
    "result = dd.statistic[idx, :, 4] > 0\n",
    "result"
   ]
  },
  {
   "cell_type": "code",
   "execution_count": 122,
   "metadata": {},
   "outputs": [
    {
     "data": {
      "text/plain": [
       "154"
      ]
     },
     "execution_count": 122,
     "metadata": {},
     "output_type": "execute_result"
    }
   ],
   "source": [
    "len(np.argwhere(result))"
   ]
  },
  {
   "cell_type": "code",
   "execution_count": 123,
   "metadata": {},
   "outputs": [
    {
     "data": {
      "text/plain": [
       "array([ True,  True, False, ...,  True,  True,  True])"
      ]
     },
     "execution_count": 123,
     "metadata": {},
     "output_type": "execute_result"
    },
    {
     "name": "stdout",
     "output_type": "stream",
     "text": [
      "2773  2021-07-12 14:40:40 sussess\r"
     ]
    }
   ],
   "source": [
    "result2 = dd.statistic[idx-1, :, 4] <= 0\n",
    "result2"
   ]
  },
  {
   "cell_type": "code",
   "execution_count": 124,
   "metadata": {},
   "outputs": [
    {
     "data": {
      "text/plain": [
       "4222"
      ]
     },
     "execution_count": 124,
     "metadata": {},
     "output_type": "execute_result"
    }
   ],
   "source": [
    "len(np.argwhere(result2))"
   ]
  },
  {
   "cell_type": "code",
   "execution_count": 125,
   "metadata": {},
   "outputs": [
    {
     "name": "stdout",
     "output_type": "stream",
     "text": [
      "2774  2021-07-12 14:40:45 sussess\r"
     ]
    },
    {
     "data": {
      "text/plain": [
       "array([[3348]], dtype=int64)"
      ]
     },
     "execution_count": 125,
     "metadata": {},
     "output_type": "execute_result"
    },
    {
     "name": "stdout",
     "output_type": "stream",
     "text": [
      "2781  2021-07-12 14:41:20 sussess\r"
     ]
    }
   ],
   "source": [
    "np.argwhere(result == result2)"
   ]
  },
  {
   "cell_type": "code",
   "execution_count": 126,
   "metadata": {},
   "outputs": [
    {
     "data": {
      "text/plain": [
       "True"
      ]
     },
     "execution_count": 126,
     "metadata": {},
     "output_type": "execute_result"
    },
    {
     "name": "stdout",
     "output_type": "stream",
     "text": [
      "2958  2021-07-12 14:56:05 sussess\r"
     ]
    }
   ],
   "source": [
    "result2[3448]"
   ]
  },
  {
   "cell_type": "code",
   "execution_count": 119,
   "metadata": {},
   "outputs": [
    {
     "data": {
      "text/plain": [
       "1626071480"
      ]
     },
     "execution_count": 119,
     "metadata": {},
     "output_type": "execute_result"
    },
    {
     "name": "stdout",
     "output_type": "stream",
     "text": [
      "2772  2021-07-12 14:40:35 sussess\r"
     ]
    }
   ],
   "source": [
    "dd.check_points[np.argmax(dd.statistic[:2703, 3348, 4] > 0)]"
   ]
  },
  {
   "cell_type": "code",
   "execution_count": null,
   "metadata": {},
   "outputs": [],
   "source": []
  },
  {
   "cell_type": "code",
   "execution_count": null,
   "metadata": {},
   "outputs": [],
   "source": []
  },
  {
   "cell_type": "code",
   "execution_count": null,
   "metadata": {},
   "outputs": [],
   "source": [
    "time.strftime(\"%Y-%m-%d %H:%M:%S\", time.localtime(float(ts)))"
   ]
  },
  {
   "cell_type": "code",
   "execution_count": null,
   "metadata": {},
   "outputs": [],
   "source": []
  },
  {
   "cell_type": "code",
   "execution_count": null,
   "metadata": {},
   "outputs": [],
   "source": [
    "dd.statistic[1000,:,4]"
   ]
  },
  {
   "cell_type": "code",
   "execution_count": null,
   "metadata": {},
   "outputs": [],
   "source": [
    "import numpy as np"
   ]
  },
  {
   "cell_type": "code",
   "execution_count": null,
   "metadata": {
    "scrolled": true
   },
   "outputs": [],
   "source": [
    "[\n",
    "    [\n",
    "        idx[0], \n",
    "        dd.check_points[np.argmax(dd.statistic[:,idx[0],4]>0)]\n",
    "    ] for idx in np.argwhere(dd.statistic[2000,:,4]>0)\n",
    "]\n"
   ]
  },
  {
   "cell_type": "code",
   "execution_count": null,
   "metadata": {},
   "outputs": [],
   "source": [
    "start = time.time()\n",
    "json.dumps(list([\n",
    "    (\n",
    "        int(idx[0]), \n",
    "        int(dd.check_points[np.argmax(dd.statistic[:,idx[0],4]>0)])\n",
    "    ) for idx in np.argwhere(dd.statistic[2103,:,4]>0)\n",
    "]))\n",
    "time.time()-start"
   ]
  },
  {
   "cell_type": "code",
   "execution_count": null,
   "metadata": {},
   "outputs": [],
   "source": []
  },
  {
   "cell_type": "code",
   "execution_count": null,
   "metadata": {},
   "outputs": [],
   "source": [
    "delta = 1926\n",
    "time.strftime(\"%Y-%m-%d %H:%M:%S\", time.localtime(1626073210+delta))"
   ]
  },
  {
   "cell_type": "code",
   "execution_count": null,
   "metadata": {},
   "outputs": [],
   "source": []
  },
  {
   "cell_type": "code",
   "execution_count": null,
   "metadata": {},
   "outputs": [],
   "source": [
    "dd.check_points[2103]"
   ]
  },
  {
   "cell_type": "code",
   "execution_count": null,
   "metadata": {},
   "outputs": [],
   "source": [
    "1626052500+delta"
   ]
  },
  {
   "cell_type": "code",
   "execution_count": null,
   "metadata": {},
   "outputs": [],
   "source": [
    "dd.check_points[-1]"
   ]
  },
  {
   "cell_type": "code",
   "execution_count": null,
   "metadata": {},
   "outputs": [],
   "source": []
  },
  {
   "cell_type": "code",
   "execution_count": null,
   "metadata": {},
   "outputs": [],
   "source": []
  },
  {
   "cell_type": "code",
   "execution_count": null,
   "metadata": {},
   "outputs": [],
   "source": []
  },
  {
   "cell_type": "code",
   "execution_count": null,
   "metadata": {},
   "outputs": [],
   "source": [
    "import numpy as np"
   ]
  },
  {
   "cell_type": "code",
   "execution_count": null,
   "metadata": {},
   "outputs": [],
   "source": [
    "np.argwhere(dd.statistic[1358, :, 4] > 0).tolist()"
   ]
  },
  {
   "cell_type": "code",
   "execution_count": null,
   "metadata": {},
   "outputs": [],
   "source": []
  },
  {
   "cell_type": "code",
   "execution_count": null,
   "metadata": {},
   "outputs": [],
   "source": [
    "dd.check_points[1358]"
   ]
  },
  {
   "cell_type": "code",
   "execution_count": null,
   "metadata": {},
   "outputs": [],
   "source": []
  }
 ],
 "metadata": {
  "kernelspec": {
   "display_name": "Python 3",
   "language": "python",
   "name": "python3"
  },
  "language_info": {
   "codemirror_mode": {
    "name": "ipython",
    "version": 3
   },
   "file_extension": ".py",
   "mimetype": "text/x-python",
   "name": "python",
   "nbconvert_exporter": "python",
   "pygments_lexer": "ipython3",
   "version": "3.8.5"
  }
 },
 "nbformat": 4,
 "nbformat_minor": 4
}

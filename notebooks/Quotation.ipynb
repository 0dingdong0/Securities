{
 "cells": [
  {
   "cell_type": "code",
   "execution_count": 1,
   "metadata": {},
   "outputs": [],
   "source": [
    "import os\n",
    "import re\n",
    "import time\n",
    "import math\n",
    "import json\n",
    "import random\n",
    "import asyncio\n",
    "import aiohttp\n",
    "import numpy as np\n",
    "import pandas as pd"
   ]
  },
  {
   "cell_type": "code",
   "execution_count": 2,
   "metadata": {},
   "outputs": [],
   "source": [
    "from pathlib import Path\n",
    "os.chdir(Path(os.getcwd()).parent)"
   ]
  },
  {
   "cell_type": "code",
   "execution_count": 3,
   "metadata": {},
   "outputs": [],
   "source": [
    "from libs.utils import Utils"
   ]
  },
  {
   "cell_type": "code",
   "execution_count": 4,
   "metadata": {},
   "outputs": [],
   "source": [
    "np.set_printoptions(formatter={'float': lambda x: \"{0:0.2f}\".format(x)})\n",
    "pd.options.display.float_format = '{:,.2f}'.format"
   ]
  },
  {
   "cell_type": "code",
   "execution_count": null,
   "metadata": {},
   "outputs": [],
   "source": []
  },
  {
   "cell_type": "code",
   "execution_count": 5,
   "metadata": {},
   "outputs": [],
   "source": [
    "policy = asyncio.WindowsSelectorEventLoopPolicy()\n",
    "asyncio.set_event_loop_policy(policy)"
   ]
  },
  {
   "cell_type": "code",
   "execution_count": 6,
   "metadata": {},
   "outputs": [],
   "source": [
    "HEADERS = [\n",
    "    ('User-Agent','User-Agent: Mozilla/5.0 (Windows NT 10.0; Win64; x64) AppleWebKit/537.36 (KHTML, like Gecko) Chrome/87.0.4280.141 Safari/537.36'),\n",
    "    ('Accept','text/html,application/xhtml+xml,application/xml;q=0.9,image/webp,*/*;q=0.8'),\n",
    "    ('Accept-Encoding','gzip, deflate'),\n",
    "    ('Accept-Language','zh-CN,zh;q=0.8,en-US;q=0.6,en;q=0.5;q=0.4')\n",
    "]"
   ]
  },
  {
   "cell_type": "code",
   "execution_count": 7,
   "metadata": {},
   "outputs": [],
   "source": [
    "async def get(session, url, ssl=False):\n",
    "    async with session.get(url, ssl=ssl) as resp:\n",
    "        assert resp.status == 200\n",
    "        return await resp.text()"
   ]
  },
  {
   "cell_type": "code",
   "execution_count": null,
   "metadata": {},
   "outputs": [],
   "source": []
  },
  {
   "cell_type": "code",
   "execution_count": 8,
   "metadata": {},
   "outputs": [],
   "source": [
    "class Quotation:\n",
    "\n",
    "    api = 'http://hq.sinajs.cn/list='\n",
    "    max_group_size = 800\n",
    "    symbols = []\n",
    "\n",
    "    def __init__(self, symbols=None, group_count=1):\n",
    "        if symbols:\n",
    "            self.symbols = symbols\n",
    "        else:\n",
    "            self.symbols = Utils.get_running_symbols()\n",
    "\n",
    "        min_group_count = math.ceil(len(self.symbols)/self.max_group_size)\n",
    "        if group_count < min_group_count:\n",
    "            self.group_count = min_group_count\n",
    "        else:\n",
    "            self.group_count = group_count\n",
    "        self.group_size = math.ceil(len(self.symbols)/self.group_count)\n",
    "\n",
    "        symbols_with_prefix = list(\n",
    "            map(lambda x: 'sh'+x[-6:] if x[0] == '6' else 'sz'+x[-6:], self.symbols))\n",
    "        self.symbol_groups = list([\n",
    "            ','.join(\n",
    "                symbols_with_prefix[idx*self.group_size:min(\n",
    "                    (idx+1)*self.group_size, len(self.symbols))]\n",
    "            ) for idx in range(self.group_count)\n",
    "        ])\n",
    "\n",
    "        timeout = aiohttp.ClientTimeout(total=2)\n",
    "        self.sessions = [aiohttp.ClientSession(\n",
    "            headers=HEADERS, timeout=timeout) for _ in range(self.group_count)]\n",
    "\n",
    "    def parse_real_data(self, data_str, array=None):\n",
    "\n",
    "        grep_str = re.compile(\n",
    "            r'(\\d+)=\"([^,=]+)%s%s'\n",
    "            % (r\",([\\.\\d]+)\" * 29, r\",([-\\.\\d:]+)\" * 2)\n",
    "        )\n",
    "\n",
    "        results = grep_str.finditer(data_str)\n",
    "\n",
    "        if array is not None:\n",
    "            idx = -1\n",
    "            for stock_match_object in results:\n",
    "                idx += 1\n",
    "                stock = stock_match_object.groups()\n",
    "\n",
    "                array[idx, 0] = float(stock[2])   # open\n",
    "                array[idx, 1] = float(stock[3])   # close\n",
    "                array[idx, 2] = float(stock[4])   # now\n",
    "                array[idx, 3] = float(stock[5])   # high\n",
    "                array[idx, 4] = float(stock[6])   # low\n",
    "                array[idx, 5] = float(stock[9])   # turnover\n",
    "                if array[idx, 5] == 0 and stock[4] != stock[7] and stock[7] == stock[8]:\n",
    "                    array[idx, 2] = float(stock[7])\n",
    "                    array[idx, 5] = float(stock[11])\n",
    "                array[idx, 6] = float(stock[10])   # volume\n",
    "                array[idx, 7] = float(stock[12])   # bid1\n",
    "                array[idx, 8] = float(stock[11])   # bid1_volume\n",
    "\n",
    "        else:\n",
    "            stock_dict = dict()\n",
    "            for stock_match_object in results:\n",
    "                stock = stock_match_object.groups()\n",
    "                stock_dict[stock[0]] = dict(\n",
    "                    name=stock[1],\n",
    "                    open=float(stock[2]),\n",
    "                    close=float(stock[3]),\n",
    "                    now=float(stock[4]),\n",
    "                    high=float(stock[5]),\n",
    "                    low=float(stock[6]),\n",
    "                    buy=float(stock[7]),\n",
    "                    sell=float(stock[8]),\n",
    "                    turnover=int(stock[9]),\n",
    "                    volume=float(stock[10]),\n",
    "                    bid1_volume=int(stock[11]),\n",
    "                    bid1=float(stock[12]),\n",
    "                    bid2_volume=int(stock[13]),\n",
    "                    bid2=float(stock[14]),\n",
    "                    bid3_volume=int(stock[15]),\n",
    "                    bid3=float(stock[16]),\n",
    "                    bid4_volume=int(stock[17]),\n",
    "                    bid4=float(stock[18]),\n",
    "                    bid5_volume=int(stock[19]),\n",
    "                    bid5=float(stock[20]),\n",
    "                    ask1_volume=int(stock[21]),\n",
    "                    ask1=float(stock[22]),\n",
    "                    ask2_volume=int(stock[23]),\n",
    "                    ask2=float(stock[24]),\n",
    "                    ask3_volume=int(stock[25]),\n",
    "                    ask3=float(stock[26]),\n",
    "                    ask4_volume=int(stock[27]),\n",
    "                    ask4=float(stock[28]),\n",
    "                    ask5_volume=int(stock[29]),\n",
    "                    ask5=float(stock[30]),\n",
    "                    date=stock[31],\n",
    "                    time=stock[32],\n",
    "                )\n",
    "\n",
    "            return stock_dict\n",
    "\n",
    "    async def exit(self):\n",
    "        for session in self.sessions:\n",
    "            await session.close()\n",
    "\n",
    "    async def snapshot(self, array=None):\n",
    "        urls = [f'{self.api}{symbols}' for symbols in self.symbol_groups]\n",
    "        results = await asyncio.gather(*[get(self.sessions[_], urls[_]) for _ in range(self.group_count)])\n",
    "        return self.parse_real_data(''.join(results), array=array)\n",
    "\n",
    "    async def get_market_values(self):\n",
    "\n",
    "        urls = [\n",
    "            f'http://sqt.gtimg.cn/utf8/offset=1,2,3,45,46,31,48,49&q={symbols}' for symbols in self.symbol_groups]\n",
    "        results = await asyncio.gather(*[get(self.sessions[_], urls[_]) for _ in range(self.group_count)])\n",
    "        # grep_str = re.compile(r'\\d+=\"(\\d+)~([^~]+)~(\\d+)~([.\\d]+)~([.\\d]+)~(\\d+)~([-.\\d]+)~([-.\\d]+)\";\\n')\n",
    "        grep_str = re.compile(\n",
    "            r'\\d+=\"(\\d+)~([^~]+)~(\\d*)~([.\\d]*)~([.\\d]*)~(\\d+)~([-.\\d]+)~([-.\\d]+)\";\\n')\n",
    "        results = grep_str.finditer(''.join(results))\n",
    "        stock_dict = dict()\n",
    "        for stock_match_object in results:\n",
    "            stock = stock_match_object.groups()\n",
    "            stock_dict[stock[2]] = dict(\n",
    "                name=stock[1],\n",
    "                symbol=stock[2],\n",
    "                # mcap=float(stock[3]),\n",
    "                # tcap=float(stock[4]),\n",
    "                mcap=float(stock[3]) if stock[3] else np.nan,\n",
    "                tcap=float(stock[4]) if stock[4] else np.nan,\n",
    "                zt_price=np.nan if stock[6].startswith(\n",
    "                    '-') else float(stock[6]),\n",
    "                dt_price=np.nan if stock[6].startswith(\n",
    "                    '-') else float(stock[7]),\n",
    "                dt=stock[5],\n",
    "            )\n",
    "        return stock_dict\n",
    "\n",
    "    async def real(self, symbols):\n",
    "        length = len(symbols)\n",
    "        symbols_with_prefix = list(\n",
    "            map(lambda x: 'sh'+x[-6:] if x[0] == '6' else 'sz'+x[-6:], symbols))\n",
    "        group_count = math.ceil(length/self.max_group_size)\n",
    "        group_size = math.ceil(length/group_count)\n",
    "        symbol_groups = list([\n",
    "            ','.join(\n",
    "                symbols_with_prefix[idx *\n",
    "                                    group_size:min((idx+1)*group_size, length)]\n",
    "            ) for idx in range(group_count)\n",
    "        ])\n",
    "        urls = [f'{self.api}{item}' for item in symbol_groups]\n",
    "        results = await asyncio.gather(*[get(self.sessions[_], urls[_]) for _ in range(group_count)])\n",
    "        return self.parse_real_data(''.join(results))\n",
    "\n",
    "    async def kline(self, symbols, scale=240, ma=5, length=1023):\n",
    "        args = (scale, ma, length)\n",
    "        url = 'http://money.finance.sina.com.cn/quotes_service/api/json_v2.php/CN_MarketData.getKLineData?symbol={}&scale={}&ma={}&datalen={}'\n",
    "        urls = list(map(\n",
    "            lambda x: url.format('sh'+x[-6:], *args) if x[0] == '6' else\n",
    "            url.format('sz'+x[-6:], *args),\n",
    "            symbols\n",
    "        ))\n",
    "\n",
    "        sessions = [aiohttp.ClientSession(headers=HEADERS)\n",
    "                    for _ in range(len(urls))]\n",
    "        results = await asyncio.gather(*[get(sessions[_], urls[_]) for _ in range(len(urls))])\n",
    "        for session in sessions:\n",
    "            await session.close()\n",
    "\n",
    "        klines = list(map(\n",
    "            lambda x: json.loads(\n",
    "                re.sub('(\\w+)\\s?:\\s?(\"?[^\",]+\"?,?)', \"\\\"\\g<1>\\\":\\g<2>\", x)),\n",
    "            results\n",
    "        ))\n",
    "\n",
    "        securities = {}\n",
    "        for idx, symbol in enumerate(symbols):\n",
    "            securities[symbol] = klines[idx]\n",
    "\n",
    "        return securities\n",
    "    \n",
    "    \n",
    "    async def min_data(self, symbols=[], coroutines=50, max_retries=2):\n",
    "        if not symbols:\n",
    "            symbols = self.symbols\n",
    "        url = 'https://data.gtimg.cn/flashdata/hushen/minute/{}.js'    \n",
    "        urls = list(map(\n",
    "\n",
    "            lambda x: url.format('sh'+x[-6:]) if x[0]=='6' else \\\n",
    "                      url.format('sz'+x[-6:]),\n",
    "            symbols\n",
    "        ))\n",
    "\n",
    "        sessions = [ aiohttp.ClientSession(headers=HEADERS) for _ in range(min(coroutines, len(urls))) ]\n",
    "\n",
    "        tasks = [\n",
    "            asyncio.create_task(get(sessions[_], urls[_]), name=str(_)+'-0'+urls[_])\n",
    "            for _ in range(len(sessions))\n",
    "        ]\n",
    "\n",
    "        urls = urls[len(sessions):]\n",
    "\n",
    "        results = {}\n",
    "        while True:\n",
    "\n",
    "            done, pending = await asyncio.wait(tasks, return_when=asyncio.FIRST_COMPLETED)\n",
    "\n",
    "            tasks = list(pending)\n",
    "\n",
    "            for task in done:\n",
    "\n",
    "                name = task.get_name()\n",
    "                _ = name.index('https')\n",
    "                url = name[_:]\n",
    "                symbol = url[-9:-3]\n",
    "                _, retries = [ int(x) for x in name[:_].split('-')]\n",
    "\n",
    "                if task.exception():\n",
    "                    print('failed:', _, retries, url)\n",
    "                    if retries < max_retries:\n",
    "                        retries += 1\n",
    "                    else:\n",
    "                        url = None\n",
    "                else:\n",
    "                    results[symbol] = task.result()\n",
    "                    url = None\n",
    "\n",
    "                if (not url) and urls:\n",
    "                    url = urls.pop()\n",
    "                    retries = 0\n",
    "\n",
    "                if url:\n",
    "                    tasks.append(asyncio.create_task(get(sessions[_], url), name=str(_)+'-'+str(retries)+url))\n",
    "\n",
    "\n",
    "            if not tasks:\n",
    "                break\n",
    "\n",
    "\n",
    "        for session in sessions:\n",
    "            await session.close()\n",
    "\n",
    "        mdata = {}\n",
    "\n",
    "        for symbol in results:\n",
    "            result = results[symbol]\n",
    "\n",
    "            date = re.search('date:(\\d+)', result).group(1)\n",
    "            grep_str = re.compile(r'(\\d+) ([\\d.]+) (\\d+)\\\\n')\n",
    "            grep_results = grep_str.finditer(result)\n",
    "\n",
    "            data = []\n",
    "            for match_object in grep_results:\n",
    "                item = match_object.groups()\n",
    "                data.append((item[0], float(item[1]), int(item[2])))\n",
    "\n",
    "            mdata[symbol] = {\n",
    "                'date': date,\n",
    "                'data': data\n",
    "            }\n",
    "        return mdata"
   ]
  },
  {
   "cell_type": "code",
   "execution_count": null,
   "metadata": {},
   "outputs": [],
   "source": [
    "Utils.update_symbols()"
   ]
  },
  {
   "cell_type": "code",
   "execution_count": null,
   "metadata": {},
   "outputs": [],
   "source": [
    "await q.exit()"
   ]
  },
  {
   "cell_type": "code",
   "execution_count": null,
   "metadata": {},
   "outputs": [],
   "source": [
    "q = Quotation()"
   ]
  },
  {
   "cell_type": "code",
   "execution_count": null,
   "metadata": {},
   "outputs": [],
   "source": [
    "len(q.symbols)"
   ]
  },
  {
   "cell_type": "code",
   "execution_count": null,
   "metadata": {},
   "outputs": [],
   "source": [
    "ss = await q.snapshot()"
   ]
  },
  {
   "cell_type": "code",
   "execution_count": null,
   "metadata": {},
   "outputs": [],
   "source": [
    "await q.real(['002717', '002116'])"
   ]
  },
  {
   "cell_type": "code",
   "execution_count": null,
   "metadata": {},
   "outputs": [],
   "source": [
    "results = await q.kline(['002717', '002116'])"
   ]
  },
  {
   "cell_type": "code",
   "execution_count": null,
   "metadata": {},
   "outputs": [],
   "source": [
    "ss['002136']"
   ]
  },
  {
   "cell_type": "code",
   "execution_count": null,
   "metadata": {},
   "outputs": [],
   "source": [
    "ss['688819']"
   ]
  },
  {
   "cell_type": "code",
   "execution_count": null,
   "metadata": {},
   "outputs": [],
   "source": []
  },
  {
   "cell_type": "code",
   "execution_count": null,
   "metadata": {},
   "outputs": [],
   "source": []
  },
  {
   "cell_type": "code",
   "execution_count": 9,
   "metadata": {},
   "outputs": [],
   "source": [
    "Utils.update_symbols()\n",
    "symbols = Utils.get_running_symbols()"
   ]
  },
  {
   "cell_type": "code",
   "execution_count": 11,
   "metadata": {},
   "outputs": [
    {
     "data": {
      "text/plain": [
       "False"
      ]
     },
     "execution_count": 11,
     "metadata": {},
     "output_type": "execute_result"
    }
   ],
   "source": [
    "'430054' in symbols"
   ]
  },
  {
   "cell_type": "code",
   "execution_count": null,
   "metadata": {},
   "outputs": [],
   "source": [
    "snapshot= await q.snapshot()"
   ]
  },
  {
   "cell_type": "code",
   "execution_count": null,
   "metadata": {},
   "outputs": [],
   "source": [
    "snapshot['002717']"
   ]
  },
  {
   "cell_type": "code",
   "execution_count": null,
   "metadata": {},
   "outputs": [],
   "source": []
  },
  {
   "cell_type": "code",
   "execution_count": null,
   "metadata": {},
   "outputs": [],
   "source": [
    "[snapshot[symbol]['name'] for symbol in symbols]"
   ]
  },
  {
   "cell_type": "code",
   "execution_count": null,
   "metadata": {},
   "outputs": [],
   "source": []
  },
  {
   "cell_type": "code",
   "execution_count": null,
   "metadata": {},
   "outputs": [],
   "source": []
  },
  {
   "cell_type": "code",
   "execution_count": null,
   "metadata": {},
   "outputs": [],
   "source": []
  },
  {
   "cell_type": "code",
   "execution_count": null,
   "metadata": {},
   "outputs": [],
   "source": []
  },
  {
   "cell_type": "code",
   "execution_count": null,
   "metadata": {
    "scrolled": false
   },
   "outputs": [],
   "source": [
    "market_values = await q.get_market_values()"
   ]
  },
  {
   "cell_type": "code",
   "execution_count": null,
   "metadata": {},
   "outputs": [],
   "source": [
    "market_values['601777']"
   ]
  },
  {
   "cell_type": "code",
   "execution_count": null,
   "metadata": {},
   "outputs": [],
   "source": [
    "len(market_values.keys())"
   ]
  },
  {
   "cell_type": "code",
   "execution_count": null,
   "metadata": {
    "scrolled": true
   },
   "outputs": [],
   "source": [
    "for symbols in q.symbol_groups:\n",
    "    print([ symbol in symbols for symbol in ['300933', '688317', '688656', '688819']])"
   ]
  },
  {
   "cell_type": "code",
   "execution_count": null,
   "metadata": {},
   "outputs": [],
   "source": [
    "market_values['688656']"
   ]
  },
  {
   "cell_type": "code",
   "execution_count": null,
   "metadata": {},
   "outputs": [],
   "source": []
  },
  {
   "cell_type": "code",
   "execution_count": null,
   "metadata": {},
   "outputs": [],
   "source": [
    "Utils.update_symbols()\n",
    "q = Quotation()"
   ]
  },
  {
   "cell_type": "code",
   "execution_count": null,
   "metadata": {},
   "outputs": [],
   "source": [
    "import types"
   ]
  },
  {
   "cell_type": "code",
   "execution_count": null,
   "metadata": {},
   "outputs": [],
   "source": [
    "async def min_data(self, symbols=[], coroutines=50, max_retries=2):\n",
    "    if not symbols:\n",
    "        symbols = self.symbols\n",
    "    url = 'https://data.gtimg.cn/flashdata/hushen/minute/{}.js'    \n",
    "    urls = list(map(\n",
    "\n",
    "        lambda x: url.format('sh'+x[-6:]) if x[0]=='6' else \\\n",
    "                  url.format('sz'+x[-6:]),\n",
    "        symbols\n",
    "    ))\n",
    "\n",
    "    sessions = [ aiohttp.ClientSession(headers=HEADERS) for _ in range(min(coroutines, len(urls))) ]\n",
    "    \n",
    "    tasks = [\n",
    "        asyncio.create_task(get(sessions[_], urls[_]), name=str(_)+'-0'+urls[_])\n",
    "        for _ in range(len(sessions))\n",
    "    ]\n",
    "    \n",
    "    urls = urls[len(sessions):]\n",
    "    \n",
    "    results = {}\n",
    "    while True:\n",
    "        \n",
    "        done, pending = await asyncio.wait(tasks, return_when=asyncio.FIRST_COMPLETED)\n",
    "        \n",
    "        tasks = list(pending)\n",
    "        \n",
    "        for task in done:\n",
    "            \n",
    "            name = task.get_name()\n",
    "            _ = name.index('https')\n",
    "            url = name[_:]\n",
    "            symbol = url[-9:-3]\n",
    "            _, retries = [ int(x) for x in name[:_].split('-')]\n",
    "            \n",
    "            if task.exception():\n",
    "                print('failed:', _, retries, url)\n",
    "                if retries < max_retries:\n",
    "                    retries += 1\n",
    "                else:\n",
    "                    url = None\n",
    "            else:\n",
    "                results[symbol] = task.result()\n",
    "                url = None\n",
    "                    \n",
    "            if (not url) and urls:\n",
    "                url = urls.pop()\n",
    "                retries = 0\n",
    "                \n",
    "            if url:\n",
    "                tasks.append(asyncio.create_task(get(sessions[_], url), name=str(_)+'-'+str(retries)+url))\n",
    "                \n",
    "                \n",
    "        if not tasks:\n",
    "            break\n",
    "    \n",
    "    \n",
    "    for session in sessions:\n",
    "        await session.close()\n",
    "\n",
    "    mdata = {}\n",
    "\n",
    "    for symbol in results:\n",
    "        result = results[symbol]\n",
    "\n",
    "        date = re.search('date:(\\d+)', result).group(1)\n",
    "        grep_str = re.compile(r'(\\d+) ([\\d.]+) (\\d+)\\\\n')\n",
    "        grep_results = grep_str.finditer(result)\n",
    "\n",
    "        data = []\n",
    "        for match_object in grep_results:\n",
    "            item = match_object.groups()\n",
    "            data.append((item[0], float(item[1]), int(item[2])))\n",
    "\n",
    "        mdata[symbol] = {\n",
    "            'date': date,\n",
    "            'data': data\n",
    "        }\n",
    "    return mdata\n",
    "\n",
    "\n",
    "q.min_data = types.MethodType(min_data, q)"
   ]
  },
  {
   "cell_type": "code",
   "execution_count": null,
   "metadata": {},
   "outputs": [],
   "source": []
  },
  {
   "cell_type": "code",
   "execution_count": null,
   "metadata": {},
   "outputs": [],
   "source": []
  },
  {
   "cell_type": "code",
   "execution_count": null,
   "metadata": {},
   "outputs": [],
   "source": []
  },
  {
   "cell_type": "code",
   "execution_count": null,
   "metadata": {},
   "outputs": [],
   "source": []
  },
  {
   "cell_type": "code",
   "execution_count": null,
   "metadata": {},
   "outputs": [],
   "source": [
    "symbols = ['002717', '688007']"
   ]
  },
  {
   "cell_type": "code",
   "execution_count": null,
   "metadata": {
    "scrolled": false
   },
   "outputs": [],
   "source": [
    "mdata = await q.min_data(symbols)"
   ]
  },
  {
   "cell_type": "code",
   "execution_count": null,
   "metadata": {},
   "outputs": [],
   "source": [
    "mdata = await q.min_data()"
   ]
  },
  {
   "cell_type": "code",
   "execution_count": null,
   "metadata": {},
   "outputs": [],
   "source": [
    "len(mdata.keys())"
   ]
  },
  {
   "cell_type": "code",
   "execution_count": null,
   "metadata": {},
   "outputs": [],
   "source": [
    "len(q.symbols)"
   ]
  },
  {
   "cell_type": "code",
   "execution_count": null,
   "metadata": {},
   "outputs": [],
   "source": []
  },
  {
   "cell_type": "code",
   "execution_count": null,
   "metadata": {},
   "outputs": [],
   "source": []
  },
  {
   "cell_type": "code",
   "execution_count": null,
   "metadata": {},
   "outputs": [],
   "source": []
  },
  {
   "cell_type": "code",
   "execution_count": null,
   "metadata": {},
   "outputs": [],
   "source": []
  }
 ],
 "metadata": {
  "kernelspec": {
   "display_name": "Python 3",
   "language": "python",
   "name": "python3"
  },
  "language_info": {
   "codemirror_mode": {
    "name": "ipython",
    "version": 3
   },
   "file_extension": ".py",
   "mimetype": "text/x-python",
   "name": "python",
   "nbconvert_exporter": "python",
   "pygments_lexer": "ipython3",
   "version": "3.9.5"
  }
 },
 "nbformat": 4,
 "nbformat_minor": 2
}

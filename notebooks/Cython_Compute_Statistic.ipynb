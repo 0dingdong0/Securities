{
 "cells": [
  {
   "cell_type": "code",
   "execution_count": 1,
   "metadata": {},
   "outputs": [],
   "source": [
    "import os\n",
    "import time"
   ]
  },
  {
   "cell_type": "code",
   "execution_count": 2,
   "metadata": {},
   "outputs": [],
   "source": [
    "from pathlib import Path\n",
    "os.chdir(Path(os.getcwd()).parent)"
   ]
  },
  {
   "cell_type": "code",
   "execution_count": 3,
   "metadata": {},
   "outputs": [],
   "source": [
    "from libs.dailydata import DailyData\n",
    "from libs.utils import Utils\n",
    "from libs.quotation import Quotation"
   ]
  },
  {
   "cell_type": "code",
   "execution_count": null,
   "metadata": {},
   "outputs": [],
   "source": []
  },
  {
   "cell_type": "code",
   "execution_count": 13,
   "metadata": {},
   "outputs": [
    {
     "data": {
      "text/plain": [
       "'20210622'"
      ]
     },
     "execution_count": 13,
     "metadata": {},
     "output_type": "execute_result"
    }
   ],
   "source": [
    "date = time.strftime('%Y%m%d')\n",
    "date"
   ]
  },
  {
   "cell_type": "code",
   "execution_count": 16,
   "metadata": {
    "scrolled": true
   },
   "outputs": [],
   "source": [
    "data = DailyData.load(dt='20210618')"
   ]
  },
  {
   "cell_type": "code",
   "execution_count": 17,
   "metadata": {},
   "outputs": [
    {
     "data": {
      "text/plain": [
       "(3007, 4331, 10)"
      ]
     },
     "execution_count": 17,
     "metadata": {},
     "output_type": "execute_result"
    }
   ],
   "source": [
    "data.statistic.shape"
   ]
  },
  {
   "cell_type": "code",
   "execution_count": 18,
   "metadata": {},
   "outputs": [
    {
     "data": {
      "text/html": [
       "<div>\n",
       "<style scoped>\n",
       "    .dataframe tbody tr th:only-of-type {\n",
       "        vertical-align: middle;\n",
       "    }\n",
       "\n",
       "    .dataframe tbody tr th {\n",
       "        vertical-align: top;\n",
       "    }\n",
       "\n",
       "    .dataframe thead th {\n",
       "        text-align: right;\n",
       "    }\n",
       "</style>\n",
       "<table border=\"1\" class=\"dataframe\">\n",
       "  <thead>\n",
       "    <tr style=\"text-align: right;\">\n",
       "      <th></th>\n",
       "      <th>name</th>\n",
       "      <th>zt_price</th>\n",
       "      <th>dt_price</th>\n",
       "      <th>ma5vpm</th>\n",
       "      <th>mcap</th>\n",
       "      <th>sum4</th>\n",
       "      <th>sum9</th>\n",
       "      <th>sum19</th>\n",
       "      <th>sum29</th>\n",
       "      <th>sum59</th>\n",
       "    </tr>\n",
       "    <tr>\n",
       "      <th>symbol</th>\n",
       "      <th></th>\n",
       "      <th></th>\n",
       "      <th></th>\n",
       "      <th></th>\n",
       "      <th></th>\n",
       "      <th></th>\n",
       "      <th></th>\n",
       "      <th></th>\n",
       "      <th></th>\n",
       "      <th></th>\n",
       "    </tr>\n",
       "  </thead>\n",
       "  <tbody>\n",
       "    <tr>\n",
       "      <th>000001</th>\n",
       "      <td>平安银行</td>\n",
       "      <td>25.41</td>\n",
       "      <td>20.79</td>\n",
       "      <td>238,082.74</td>\n",
       "      <td>4,482.73</td>\n",
       "      <td>92.95</td>\n",
       "      <td>215.17</td>\n",
       "      <td>456.82</td>\n",
       "      <td>693.12</td>\n",
       "      <td>1,347.71</td>\n",
       "    </tr>\n",
       "    <tr>\n",
       "      <th>000002</th>\n",
       "      <td>万 科Ａ</td>\n",
       "      <td>27.50</td>\n",
       "      <td>22.50</td>\n",
       "      <td>275,995.30</td>\n",
       "      <td>2,429.39</td>\n",
       "      <td>100.01</td>\n",
       "      <td>229.90</td>\n",
       "      <td>497.44</td>\n",
       "      <td>769.73</td>\n",
       "      <td>1,648.09</td>\n",
       "    </tr>\n",
       "    <tr>\n",
       "      <th>000004</th>\n",
       "      <td>国华网安</td>\n",
       "      <td>23.01</td>\n",
       "      <td>18.83</td>\n",
       "      <td>56,390.39</td>\n",
       "      <td>24.08</td>\n",
       "      <td>86.63</td>\n",
       "      <td>180.42</td>\n",
       "      <td>339.53</td>\n",
       "      <td>493.54</td>\n",
       "      <td>1,023.32</td>\n",
       "    </tr>\n",
       "    <tr>\n",
       "      <th>000005</th>\n",
       "      <td>ST星源</td>\n",
       "      <td>1.93</td>\n",
       "      <td>1.75</td>\n",
       "      <td>32,646.26</td>\n",
       "      <td>19.47</td>\n",
       "      <td>7.36</td>\n",
       "      <td>16.81</td>\n",
       "      <td>34.55</td>\n",
       "      <td>53.42</td>\n",
       "      <td>124.05</td>\n",
       "    </tr>\n",
       "    <tr>\n",
       "      <th>000006</th>\n",
       "      <td>深振业Ａ</td>\n",
       "      <td>5.70</td>\n",
       "      <td>4.66</td>\n",
       "      <td>21,741.42</td>\n",
       "      <td>69.93</td>\n",
       "      <td>20.65</td>\n",
       "      <td>46.73</td>\n",
       "      <td>99.50</td>\n",
       "      <td>153.36</td>\n",
       "      <td>314.75</td>\n",
       "    </tr>\n",
       "    <tr>\n",
       "      <th>...</th>\n",
       "      <td>...</td>\n",
       "      <td>...</td>\n",
       "      <td>...</td>\n",
       "      <td>...</td>\n",
       "      <td>...</td>\n",
       "      <td>...</td>\n",
       "      <td>...</td>\n",
       "      <td>...</td>\n",
       "      <td>...</td>\n",
       "      <td>...</td>\n",
       "    </tr>\n",
       "    <tr>\n",
       "      <th>688777</th>\n",
       "      <td>XD中控</td>\n",
       "      <td>107.20</td>\n",
       "      <td>71.46</td>\n",
       "      <td>7,096.49</td>\n",
       "      <td>36.67</td>\n",
       "      <td>359.29</td>\n",
       "      <td>824.65</td>\n",
       "      <td>1,718.31</td>\n",
       "      <td>2,518.52</td>\n",
       "      <td>4,969.76</td>\n",
       "    </tr>\n",
       "    <tr>\n",
       "      <th>688788</th>\n",
       "      <td>科思科技</td>\n",
       "      <td>158.38</td>\n",
       "      <td>105.58</td>\n",
       "      <td>2,598.06</td>\n",
       "      <td>22.97</td>\n",
       "      <td>525.29</td>\n",
       "      <td>1,199.03</td>\n",
       "      <td>2,537.03</td>\n",
       "      <td>3,588.25</td>\n",
       "      <td>6,681.62</td>\n",
       "    </tr>\n",
       "    <tr>\n",
       "      <th>688819</th>\n",
       "      <td>天能股份</td>\n",
       "      <td>48.46</td>\n",
       "      <td>32.30</td>\n",
       "      <td>14,544.42</td>\n",
       "      <td>40.81</td>\n",
       "      <td>165.03</td>\n",
       "      <td>383.10</td>\n",
       "      <td>799.75</td>\n",
       "      <td>1,205.87</td>\n",
       "      <td>2,583.00</td>\n",
       "    </tr>\n",
       "    <tr>\n",
       "      <th>688981</th>\n",
       "      <td>中芯国际</td>\n",
       "      <td>71.00</td>\n",
       "      <td>47.34</td>\n",
       "      <td>146,016.46</td>\n",
       "      <td>648.30</td>\n",
       "      <td>224.84</td>\n",
       "      <td>504.99</td>\n",
       "      <td>1,061.98</td>\n",
       "      <td>1,609.96</td>\n",
       "      <td>3,279.49</td>\n",
       "    </tr>\n",
       "    <tr>\n",
       "      <th>689009</th>\n",
       "      <td>九号公司</td>\n",
       "      <td>97.21</td>\n",
       "      <td>64.81</td>\n",
       "      <td>7,349.72</td>\n",
       "      <td>49.05</td>\n",
       "      <td>319.82</td>\n",
       "      <td>719.82</td>\n",
       "      <td>1,444.47</td>\n",
       "      <td>2,129.72</td>\n",
       "      <td>4,161.08</td>\n",
       "    </tr>\n",
       "  </tbody>\n",
       "</table>\n",
       "<p>4331 rows × 10 columns</p>\n",
       "</div>"
      ],
      "text/plain": [
       "        name  zt_price  dt_price     ma5vpm     mcap   sum4     sum9    sum19  \\\n",
       "symbol                                                                          \n",
       "000001  平安银行     25.41     20.79 238,082.74 4,482.73  92.95   215.17   456.82   \n",
       "000002  万 科Ａ     27.50     22.50 275,995.30 2,429.39 100.01   229.90   497.44   \n",
       "000004  国华网安     23.01     18.83  56,390.39    24.08  86.63   180.42   339.53   \n",
       "000005  ST星源      1.93      1.75  32,646.26    19.47   7.36    16.81    34.55   \n",
       "000006  深振业Ａ      5.70      4.66  21,741.42    69.93  20.65    46.73    99.50   \n",
       "...      ...       ...       ...        ...      ...    ...      ...      ...   \n",
       "688777  XD中控    107.20     71.46   7,096.49    36.67 359.29   824.65 1,718.31   \n",
       "688788  科思科技    158.38    105.58   2,598.06    22.97 525.29 1,199.03 2,537.03   \n",
       "688819  天能股份     48.46     32.30  14,544.42    40.81 165.03   383.10   799.75   \n",
       "688981  中芯国际     71.00     47.34 146,016.46   648.30 224.84   504.99 1,061.98   \n",
       "689009  九号公司     97.21     64.81   7,349.72    49.05 319.82   719.82 1,444.47   \n",
       "\n",
       "          sum29    sum59  \n",
       "symbol                    \n",
       "000001   693.12 1,347.71  \n",
       "000002   769.73 1,648.09  \n",
       "000004   493.54 1,023.32  \n",
       "000005    53.42   124.05  \n",
       "000006   153.36   314.75  \n",
       "...         ...      ...  \n",
       "688777 2,518.52 4,969.76  \n",
       "688788 3,588.25 6,681.62  \n",
       "688819 1,205.87 2,583.00  \n",
       "688981 1,609.96 3,279.49  \n",
       "689009 2,129.72 4,161.08  \n",
       "\n",
       "[4331 rows x 10 columns]"
      ]
     },
     "execution_count": 18,
     "metadata": {},
     "output_type": "execute_result"
    }
   ],
   "source": [
    "df = data.get_securities()\n",
    "df"
   ]
  },
  {
   "cell_type": "code",
   "execution_count": null,
   "metadata": {},
   "outputs": [],
   "source": []
  },
  {
   "cell_type": "code",
   "execution_count": null,
   "metadata": {},
   "outputs": [],
   "source": []
  },
  {
   "cell_type": "code",
   "execution_count": null,
   "metadata": {},
   "outputs": [],
   "source": []
  },
  {
   "cell_type": "code",
   "execution_count": null,
   "metadata": {},
   "outputs": [],
   "source": []
  },
  {
   "cell_type": "code",
   "execution_count": 19,
   "metadata": {},
   "outputs": [
    {
     "name": "stdout",
     "output_type": "stream",
     "text": [
      "The Cython extension is already loaded. To reload it, use:\n",
      "  %reload_ext Cython\n"
     ]
    }
   ],
   "source": [
    "%load_ext Cython"
   ]
  },
  {
   "cell_type": "code",
   "execution_count": 20,
   "metadata": {},
   "outputs": [],
   "source": [
    "%%cython\n",
    "import numpy as np\n",
    "cimport numpy as np\n",
    "cimport cython\n",
    "from libc.math cimport fabs\n",
    "from libc.math cimport isnan\n",
    "\n",
    "ctypedef np.float64_t DTYPE_t\n",
    "\n",
    "@cython.boundscheck(False)\n",
    "@cython.cdivision\n",
    "@cython.wraparound(False)\n",
    "cpdef compute_stats(DTYPE_t[:,:] ms, DTYPE_t[:,:] b, DTYPE_t[:,:] st, DTYPE_t[:,:] fs5p, Py_ssize_t time_lapse):\n",
    "    \n",
    "    # ms\n",
    "    cdef Py_ssize_t idx_open = 0\n",
    "    cdef Py_ssize_t idx_now = 2\n",
    "    cdef Py_ssize_t idx_high = 3\n",
    "    cdef Py_ssize_t idx_low = 4\n",
    "    cdef Py_ssize_t idx_close = 1\n",
    "    cdef Py_ssize_t idx_turnover = 5\n",
    "    cdef Py_ssize_t idx_volume = 6\n",
    "    \n",
    "    # statistic\n",
    "    cdef Py_ssize_t idx_zf = 0\n",
    "    cdef Py_ssize_t idx_jj = 1\n",
    "    cdef Py_ssize_t idx_lb = 2\n",
    "    cdef Py_ssize_t idx_zs = 3\n",
    "    cdef Py_ssize_t idx_tb = 4\n",
    "    cdef Py_ssize_t idx_sum5 = 5\n",
    "    cdef Py_ssize_t idx_sum10 = 6\n",
    "    cdef Py_ssize_t idx_sum20 = 7\n",
    "    cdef Py_ssize_t idx_sum30 = 8\n",
    "    cdef Py_ssize_t idx_sum60 = 9\n",
    "    \n",
    "    cdef Py_ssize_t rows = ms.shape[0]\n",
    "    cdef Py_ssize_t cols = ms.shape[1]\n",
    "    \n",
    "    for i in range(rows):\n",
    "        \n",
    "        # if ms[i,idx_open]:\n",
    "        #     st[i,idx_zf] = 100*(ms[i,idx_now]/ms[i,idx_close]-1)\n",
    "        if ms[i,idx_now]:\n",
    "            st[i,idx_zf] = 100*(ms[i,idx_now]/ms[i,idx_close]-1)\n",
    "        else:\n",
    "            st[i,idx_zf] = np.nan\n",
    "            \n",
    "        if ms[i,idx_turnover]:\n",
    "            st[i,idx_jj] = ms[i,idx_volume]/ms[i,idx_turnover]\n",
    "            st[i,idx_zs] = 100*(ms[i,idx_now]/fs5p[i, 0]-1)\n",
    "            if fabs(ms[i,idx_high] - b[i,0]) < 0.001:\n",
    "                st[i,idx_tb] = 0.5\n",
    "                if fabs(ms[i,idx_high] - ms[i,idx_now]) < 0.001:\n",
    "                    st[i,idx_tb] = 1\n",
    "            elif fabs(ms[i,idx_low] - b[i,1]) < 0.001:\n",
    "                st[i,idx_tb] = -0.5\n",
    "                if fabs(ms[i,idx_low] - ms[i,idx_now]) < 0.001:\n",
    "                    st[i,idx_tb] = -1\n",
    "                    \n",
    "            \n",
    "            st[i,idx_sum5] = (b[i, 4]+ms[i,idx_now])/5\n",
    "            st[i,idx_sum10] = (b[i, 5]+ms[i,idx_now])/10\n",
    "            st[i,idx_sum20] = (b[i, 6]+ms[i,idx_now])/20\n",
    "            st[i,idx_sum30] = (b[i, 7]+ms[i,idx_now])/30\n",
    "            st[i,idx_sum60] = (b[i, 8]+ms[i,idx_now])/60\n",
    "                \n",
    "\n",
    "        if b[i,2] and ms[i,idx_turnover]:\n",
    "            st[i,idx_lb] = ms[i,idx_turnover]/time_lapse/b[i,2]\n",
    "            "
   ]
  },
  {
   "cell_type": "code",
   "execution_count": null,
   "metadata": {},
   "outputs": [],
   "source": [
    "symbols = Utils.get_running_symbols()\n",
    "q = Quotation(symbols)"
   ]
  },
  {
   "cell_type": "code",
   "execution_count": null,
   "metadata": {
    "scrolled": true
   },
   "outputs": [],
   "source": [
    "idx = 325\n",
    "await q.snapshot(array=data.snapshots[idx])"
   ]
  },
  {
   "cell_type": "code",
   "execution_count": 6,
   "metadata": {},
   "outputs": [],
   "source": [
    "idx = 325"
   ]
  },
  {
   "cell_type": "code",
   "execution_count": 21,
   "metadata": {},
   "outputs": [
    {
     "name": "stdout",
     "output_type": "stream",
     "text": [
      "211 µs ± 1 µs per loop (mean ± std. dev. of 7 runs, 1000 loops each)\n"
     ]
    }
   ],
   "source": [
    "%%timeit\n",
    "time_lapse = data.get_time_lapse(idx)\n",
    "ma5pm_anchor_idx = data.get_ma5pm_anchor_idx(idx)\n",
    "fs5p = data.snapshots[ma5pm_anchor_idx]\n",
    "compute_stats(data.snapshots[idx], data.basics, data.statistic[idx], fs5p, time_lapse)"
   ]
  },
  {
   "cell_type": "code",
   "execution_count": null,
   "metadata": {},
   "outputs": [],
   "source": []
  },
  {
   "cell_type": "code",
   "execution_count": 23,
   "metadata": {},
   "outputs": [
    {
     "data": {
      "text/plain": [
       "0.6377475261688232"
      ]
     },
     "execution_count": 23,
     "metadata": {},
     "output_type": "execute_result"
    }
   ],
   "source": [
    "st = time.time()\n",
    "for _ in range(len(data.check_points)):\n",
    "    time_lapse = data.get_time_lapse(_)\n",
    "    ma5pm_anchor_idx = data.get_ma5pm_anchor_idx(_)\n",
    "    fs5p = data.snapshots[ma5pm_anchor_idx]\n",
    "    compute_stats(data.snapshots[_], data.basics, data.statistic[_], fs5p, time_lapse)\n",
    "et = time.time()\n",
    "et - st"
   ]
  },
  {
   "cell_type": "code",
   "execution_count": null,
   "metadata": {},
   "outputs": [],
   "source": [
    "data.statistic[-1000,:,:]"
   ]
  },
  {
   "cell_type": "code",
   "execution_count": null,
   "metadata": {},
   "outputs": [],
   "source": [
    "data.snapshots[133]"
   ]
  },
  {
   "cell_type": "code",
   "execution_count": null,
   "metadata": {},
   "outputs": [],
   "source": [
    "data.save()"
   ]
  },
  {
   "cell_type": "code",
   "execution_count": null,
   "metadata": {},
   "outputs": [],
   "source": []
  },
  {
   "cell_type": "code",
   "execution_count": null,
   "metadata": {},
   "outputs": [],
   "source": []
  },
  {
   "cell_type": "code",
   "execution_count": null,
   "metadata": {},
   "outputs": [],
   "source": []
  },
  {
   "cell_type": "code",
   "execution_count": null,
   "metadata": {},
   "outputs": [],
   "source": []
  },
  {
   "cell_type": "code",
   "execution_count": null,
   "metadata": {},
   "outputs": [],
   "source": []
  },
  {
   "cell_type": "code",
   "execution_count": null,
   "metadata": {},
   "outputs": [],
   "source": []
  },
  {
   "cell_type": "code",
   "execution_count": null,
   "metadata": {},
   "outputs": [],
   "source": [
    "import numpy as np\n",
    "import random"
   ]
  },
  {
   "cell_type": "code",
   "execution_count": null,
   "metadata": {},
   "outputs": [],
   "source": [
    "arr = np.array([random.randint(0,100) for x in range(12)])"
   ]
  },
  {
   "cell_type": "code",
   "execution_count": null,
   "metadata": {},
   "outputs": [],
   "source": [
    "arr = arr.reshape(3, 4)"
   ]
  },
  {
   "cell_type": "code",
   "execution_count": null,
   "metadata": {},
   "outputs": [],
   "source": []
  },
  {
   "cell_type": "code",
   "execution_count": null,
   "metadata": {},
   "outputs": [],
   "source": [
    "arr[:,-1].argsort()"
   ]
  },
  {
   "cell_type": "code",
   "execution_count": null,
   "metadata": {},
   "outputs": [],
   "source": []
  },
  {
   "cell_type": "code",
   "execution_count": null,
   "metadata": {},
   "outputs": [],
   "source": [
    "type(float('nan'))"
   ]
  },
  {
   "cell_type": "code",
   "execution_count": null,
   "metadata": {},
   "outputs": [],
   "source": [
    "type(math.nan)"
   ]
  },
  {
   "cell_type": "code",
   "execution_count": null,
   "metadata": {},
   "outputs": [],
   "source": [
    "np.nan"
   ]
  },
  {
   "cell_type": "code",
   "execution_count": null,
   "metadata": {},
   "outputs": [],
   "source": []
  }
 ],
 "metadata": {
  "kernelspec": {
   "display_name": "Python 3",
   "language": "python",
   "name": "python3"
  },
  "language_info": {
   "codemirror_mode": {
    "name": "ipython",
    "version": 3
   },
   "file_extension": ".py",
   "mimetype": "text/x-python",
   "name": "python",
   "nbconvert_exporter": "python",
   "pygments_lexer": "ipython3",
   "version": "3.9.5"
  }
 },
 "nbformat": 4,
 "nbformat_minor": 4
}

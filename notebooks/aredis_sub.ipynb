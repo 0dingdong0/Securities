{
 "cells": [
  {
   "cell_type": "code",
   "execution_count": 1,
   "id": "81dc7667",
   "metadata": {},
   "outputs": [],
   "source": [
    "import time\n",
    "import json\n",
    "import redis\n",
    "import asyncio\n",
    "import numpy as np\n",
    "from aredis import StrictRedis"
   ]
  },
  {
   "cell_type": "code",
   "execution_count": 2,
   "id": "3a3dfd98",
   "metadata": {},
   "outputs": [],
   "source": [
    "rd = redis.Redis(host='127.0.0.1', port=6379, db=8)\n",
    "ar = StrictRedis(host='127.0.0.1', port=6379, db=8)"
   ]
  },
  {
   "cell_type": "code",
   "execution_count": null,
   "id": "489aeb18",
   "metadata": {},
   "outputs": [],
   "source": []
  },
  {
   "cell_type": "code",
   "execution_count": 33,
   "id": "87d9d72a",
   "metadata": {},
   "outputs": [
    {
     "data": {
      "text/plain": [
       "7"
      ]
     },
     "execution_count": 33,
     "metadata": {},
     "output_type": "execute_result"
    }
   ],
   "source": [
    "date = time.strftime('%Y%m%d')\n",
    "\n",
    "check_points_length = int(rd.get(f'hq_{date}_check_points_length'))\n",
    "assist_count = int(rd.get('hq_assist_count'))\n",
    "assist_count"
   ]
  },
  {
   "cell_type": "code",
   "execution_count": null,
   "id": "e96bcbb5",
   "metadata": {},
   "outputs": [],
   "source": []
  },
  {
   "cell_type": "code",
   "execution_count": 68,
   "id": "212619fa",
   "metadata": {},
   "outputs": [
    {
     "data": {
      "text/plain": [
       "[]"
      ]
     },
     "execution_count": 68,
     "metadata": {},
     "output_type": "execute_result"
    }
   ],
   "source": [
    "await ar.pubsub_channels()"
   ]
  },
  {
   "cell_type": "code",
   "execution_count": null,
   "id": "de38bf83",
   "metadata": {},
   "outputs": [],
   "source": []
  },
  {
   "cell_type": "code",
   "execution_count": null,
   "id": "d59ad817",
   "metadata": {},
   "outputs": [],
   "source": []
  },
  {
   "cell_type": "code",
   "execution_count": null,
   "id": "b55b73f1",
   "metadata": {},
   "outputs": [],
   "source": [
    "status = np.zeros(check_points_length, dtype=int)\n",
    "status"
   ]
  },
  {
   "cell_type": "code",
   "execution_count": 70,
   "id": "987d1ad5",
   "metadata": {},
   "outputs": [],
   "source": [
    "def message_handler(message):\n",
    "    \n",
    "    assist_idx = str(message['channel']).split('_')[2]\n",
    "    data = json.loads(message['data'])\n",
    "    \n",
    "    if data['status'] == 'successful':\n",
    "        check_point_idx = int(data['idx'])\n",
    "        check_point = data['check_point']\n",
    "        status[check_point_idx] += 1\n",
    "        \n",
    "        if status[check_point_idx] == assist_count:\n",
    "            pass\n",
    "        \n",
    "        print('handler:', assist_idx, status[check_point_idx], message['data'])"
   ]
  },
  {
   "cell_type": "code",
   "execution_count": null,
   "id": "60c6a318",
   "metadata": {},
   "outputs": [],
   "source": []
  },
  {
   "cell_type": "code",
   "execution_count": 71,
   "id": "9be18095",
   "metadata": {},
   "outputs": [],
   "source": []
  },
  {
   "cell_type": "code",
   "execution_count": 72,
   "id": "2251f153",
   "metadata": {},
   "outputs": [],
   "source": []
  },
  {
   "cell_type": "code",
   "execution_count": 73,
   "id": "02def833",
   "metadata": {
    "scrolled": true
   },
   "outputs": [
    {
     "name": "stdout",
     "output_type": "stream",
     "text": [
      "handler: 5 1 b'{\"status\": \"successful\", \"idx\": 3, \"check_point\": \"2021-06-18 09:07:00\"}'\n",
      "handler: 4 2 b'{\"status\": \"successful\", \"idx\": 3, \"check_point\": \"2021-06-18 09:07:00\"}'\n",
      "handler: 2 3 b'{\"status\": \"successful\", \"idx\": 3, \"check_point\": \"2021-06-18 09:07:00\"}'\n",
      "handler: 0 4 b'{\"status\": \"successful\", \"idx\": 3, \"check_point\": \"2021-06-18 09:07:00\"}'\n",
      "handler: 1 5 b'{\"status\": \"successful\", \"idx\": 3, \"check_point\": \"2021-06-18 09:07:00\"}'\n",
      "handler: 6 6 b'{\"status\": \"successful\", \"idx\": 3, \"check_point\": \"2021-06-18 09:07:00\"}'\n",
      "handler: 3 7 b'{\"status\": \"successful\", \"idx\": 3, \"check_point\": \"2021-06-18 09:07:00\"}'\n"
     ]
    }
   ],
   "source": [
    "p = ar.pubsub()\n",
    "\n",
    "await p.psubscribe(**{'hq_assist_*_snapshotting': message_handler})\n",
    "\n",
    "while status[-1] != assist_count:\n",
    "    \n",
    "    message = await p.get_message()\n",
    "        \n",
    "    if np.sum(status) >= assist_count:\n",
    "        break\n",
    "\n",
    "await p.punsubscribe('hq_assist_*_snapshotting')\n",
    "p.close()"
   ]
  },
  {
   "cell_type": "code",
   "execution_count": 74,
   "id": "1f523e0c",
   "metadata": {},
   "outputs": [],
   "source": [
    "message"
   ]
  },
  {
   "cell_type": "code",
   "execution_count": 79,
   "id": "ff6a4069",
   "metadata": {},
   "outputs": [
    {
     "data": {
      "text/plain": [
       "array([0, 0, 0, ..., 0, 0, 0])"
      ]
     },
     "execution_count": 79,
     "metadata": {},
     "output_type": "execute_result"
    }
   ],
   "source": [
    "status"
   ]
  },
  {
   "cell_type": "code",
   "execution_count": null,
   "id": "8a147078",
   "metadata": {},
   "outputs": [],
   "source": []
  },
  {
   "cell_type": "code",
   "execution_count": null,
   "id": "d539b64d",
   "metadata": {},
   "outputs": [],
   "source": []
  },
  {
   "cell_type": "code",
   "execution_count": null,
   "id": "085cd65d",
   "metadata": {},
   "outputs": [],
   "source": []
  },
  {
   "cell_type": "code",
   "execution_count": null,
   "id": "17e5fb7e",
   "metadata": {},
   "outputs": [],
   "source": []
  },
  {
   "cell_type": "code",
   "execution_count": null,
   "id": "40299e34",
   "metadata": {},
   "outputs": [],
   "source": []
  },
  {
   "cell_type": "code",
   "execution_count": null,
   "id": "ddd514e0",
   "metadata": {},
   "outputs": [],
   "source": []
  }
 ],
 "metadata": {
  "kernelspec": {
   "display_name": "Python 3",
   "language": "python",
   "name": "python3"
  },
  "language_info": {
   "codemirror_mode": {
    "name": "ipython",
    "version": 3
   },
   "file_extension": ".py",
   "mimetype": "text/x-python",
   "name": "python",
   "nbconvert_exporter": "python",
   "pygments_lexer": "ipython3",
   "version": "3.9.5"
  }
 },
 "nbformat": 4,
 "nbformat_minor": 5
}

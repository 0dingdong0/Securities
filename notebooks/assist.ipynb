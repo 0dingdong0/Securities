{
 "cells": [
  {
   "cell_type": "code",
   "execution_count": 1,
   "metadata": {},
   "outputs": [],
   "source": [
    "import os\n",
    "import time\n",
    "import math\n",
    "import json\n",
    "import redis\n",
    "import asyncio\n",
    "import traceback\n",
    "from aredis import StrictRedis\n",
    "from multiprocessing import Process"
   ]
  },
  {
   "cell_type": "code",
   "execution_count": 2,
   "metadata": {},
   "outputs": [],
   "source": [
    "from pathlib import Path\n",
    "os.chdir(Path(os.getcwd()).parent)"
   ]
  },
  {
   "cell_type": "code",
   "execution_count": 3,
   "metadata": {},
   "outputs": [],
   "source": [
    "from libs.quotation import Quotation\n",
    "from libs.dailydata import DailyData\n",
    "from libs.utils import Utils\n",
    "from libs.cython.compute import compute_stats"
   ]
  },
  {
   "cell_type": "code",
   "execution_count": 4,
   "metadata": {},
   "outputs": [],
   "source": [
    "policy = asyncio.WindowsSelectorEventLoopPolicy()\n",
    "asyncio.set_event_loop_policy(policy)"
   ]
  },
  {
   "cell_type": "code",
   "execution_count": null,
   "metadata": {},
   "outputs": [],
   "source": []
  },
  {
   "cell_type": "code",
   "execution_count": 5,
   "metadata": {},
   "outputs": [],
   "source": [
    "def assist(assist_idx, assist_count):\n",
    "    \n",
    "    ar = StrictRedis(host='127.0.0.1', port=6379, db=8)\n",
    "    data = {}\n",
    "    task_snapshotting = None\n",
    "    \n",
    "    def get_daily_data(date):\n",
    "        if date not in data:\n",
    "            dd = DailyData(date, create=False)\n",
    "            group_size = math.ceil(len(dd.symbols)/assist_count)\n",
    "            scope = (\n",
    "                assist_idx*group_size, \n",
    "                min((assist_idx+1)*group_size, len(dd.symbols))\n",
    "            )\n",
    "            data[date] = (dd, scope)\n",
    "            \n",
    "        return data[date]\n",
    "    \n",
    "        \n",
    "    def compute_statistics(date):\n",
    "#         dd = get_daily_data(date)\n",
    "#         group_size = math.ceil(len(dd.symbols)/assist_count)\n",
    "#         scope = (\n",
    "#             assist_idx*group_size, \n",
    "#             min((assist_idx+1)*group_size, len(dd.symbols))\n",
    "#         )\n",
    "        dd, scope = get_daily_data(date)\n",
    "        basics = dd.basics[scope[0]:scope[1], :]\n",
    "        for _, check_point in enumerate(daily_data.check_points):\n",
    "            \n",
    "            snapshot = dd.snapshots[_,scope[0]:scope[1], :]\n",
    "            statistic = dd.statistic[_,scope[0]:scope[1], :]\n",
    "            \n",
    "            time_lapse = dd.get_time_lapse(_)\n",
    "            ma5pm_anchor_idx = dd.get_ma5pm_anchor_idx(_)\n",
    "            fs5p = dd.snapshots[ma5pm_anchor_idx,scope[0]:scope[1], :]\n",
    "            \n",
    "            compute_stats(snapshot, basics, statistic, fs5p, time_lapse)\n",
    "            \n",
    "    \n",
    "    async def snapshotting(date):\n",
    "        try:\n",
    "            dd, scope = get_daily_data(date)\n",
    "#             dd = get_daily_data(date)\n",
    "#             group_size = math.ceil(len(dd.symbols)/assist_count)\n",
    "#             scope = (\n",
    "#                 assist_idx*group_size, \n",
    "#                 min((assist_idx+1)*group_size, len(dd.symbols))\n",
    "#             )\n",
    "\n",
    "            q = Quotation(symbols=dd.symbols.tolist()[scope[0]:scope[1]])\n",
    "            basics = dd.basics[scope[0]:scope[1], :]\n",
    "\n",
    "            for _, check_point in enumerate(dd.check_points):\n",
    "                if time.time() > check_point:\n",
    "                    continue\n",
    "\n",
    "                delay=(check_point-time.time())\n",
    "                await asyncio.sleep(max(delay,0))\n",
    "#                 await asyncio.sleep(5)\n",
    "\n",
    "                try:\n",
    "                    await q.snapshot(array=dd.snapshots[_,scope[0]:scope[1],:])\n",
    "\n",
    "                    snapshot = dd.snapshots[_,scope[0]:scope[1], :]\n",
    "                    statistic = dd.statistic[_,scope[0]:scope[1], :]\n",
    "\n",
    "                    time_lapse = dd.get_time_lapse(_)\n",
    "                    ma5pm_anchor_idx = dd.get_ma5pm_anchor_idx(_)\n",
    "                    fs5p = dd.snapshots[ma5pm_anchor_idx,scope[0]:scope[1], :]\n",
    "\n",
    "                    compute_stats(snapshot, basics, statistic, fs5p, time_lapse)\n",
    "\n",
    "                    await ar.publish(f'hq_assist_{assist_idx}_snapshotting', json.dumps({\"status\":'successful',\"idx\":_,'check_point':int(check_point)}))\n",
    "                        \n",
    "                except Exception as e:\n",
    "                    error = {\n",
    "                        \"status\": 'failed',\n",
    "                        \"idx\": _,\n",
    "                        'check_point':int(check_point),\n",
    "                        \"exception\": str(e),\n",
    "                        'traceback': traceback.format_exc()\n",
    "                    }\n",
    "                    await ar.publish(f'hq_assist_{assist_idx}_snapshotting', json.dumps(error))\n",
    "                    \n",
    "#                 finally:\n",
    "#                     if assist_idx == 0:\n",
    "#                         dd.incremental_save(_)\n",
    "                        \n",
    "        finally:\n",
    "            await q.exit()\n",
    "    \n",
    "    \n",
    "    async def main():\n",
    "        \n",
    "        snapshotting_task = None\n",
    "        \n",
    "        while True:\n",
    "            key, value = await ar.brpop(f'hq_assist_{assist_idx}')\n",
    "            msg = json.loads(value)\n",
    "            print(f'Assist[{assist_idx}] {msg}')\n",
    "            \n",
    "            if msg['command'] == 'snapshotting':\n",
    "                snapshotting_task = asyncio.create_task(snapshotting(msg['date']))\n",
    "                \n",
    "            elif msg['command'] == 'compute_statistics':\n",
    "                try:\n",
    "                    compute_statistics(msg['date'])\n",
    "                    await ar.lpush(f'hq_assist_{assist_idx}_compute_statistics', json.dumps({\"status\":'success'}))\n",
    "                except Exception as e:\n",
    "                    error = {\n",
    "                        \"status\": 'failed',\n",
    "                        \"exception\": str(e),\n",
    "                        'traceback': traceback.format_exc()\n",
    "                    }\n",
    "                    await ar.lpush(f'hq_assist_{assist_idx}_compute_statistics', json.dumps(error))\n",
    "                    \n",
    "            elif msg['command'] == 'incremental_save':\n",
    "                dd = get_daily_data(msg['date'])\n",
    "                dd.incremental_save(msg['idx'])\n",
    "\n",
    "            elif msg['command'] == 'quit':\n",
    "                    \n",
    "                if snapshotting_task and snapshotting_task.done() is False:\n",
    "                    print(f'Assist[{assist_idx}]: snapshotting_task is going to be canceled')\n",
    "                    snapshotting_task.cancel()\n",
    "                    \n",
    "                print(f'Assist[{assist_idx}]: sharedmemory is going to be closed')\n",
    "                for date in data:\n",
    "                    data[date].close_sharedmemory()\n",
    "                break\n",
    "                \n",
    "            else:\n",
    "                pass\n",
    "            \n",
    "#     asyncio.run(main())\n",
    "    asyncio.create_task(main())\n",
    "    \n",
    "    return data\n",
    "    \n",
    "# if __name__ == '__main__':\n",
    "#     rd = redis.Redis(host='127.0.0.1', port=6379, db=8)\n",
    "#     for key in rd.keys():\n",
    "#         rd.delete(key)\n",
    "\n",
    "#     ####\n",
    "#     Utils.update_symbols()\n",
    "    \n",
    "#     symbols = Utils.get_running_symbols()\n",
    "#     assist_count = math.ceil(len(symbols)/800)+1\n",
    "    \n",
    "#     rd.set('hq_assist_count', assist_count)\n",
    "\n",
    "#     processes = []\n",
    "#     for _ in range(assist_count):\n",
    "#         proc = Process(target=assist, args=(_, assist_count))\n",
    "#         processes.append(proc)\n",
    "#         proc.start()\n",
    "\n",
    "#     for proc in processes:\n",
    "#         proc.join()\n"
   ]
  },
  {
   "cell_type": "code",
   "execution_count": null,
   "metadata": {},
   "outputs": [],
   "source": []
  },
  {
   "cell_type": "code",
   "execution_count": null,
   "metadata": {},
   "outputs": [],
   "source": [
    "# await asyncio.sleep(int(time.mktime(time.strptime(f'{time.strftime(\"%Y-%m-%d\")} 09:13:00', '%Y-%m-%d %H:%M:%S'))) - time.time()) \n",
    "\n",
    "rd = redis.Redis(host='127.0.0.1', port=6379, db=8)\n",
    "\n",
    "symbol_count = len(Utils.get_symbols()) + 10\n",
    "assist_count = math.ceil(symbol_count/800)+1\n",
    "\n",
    "rd.set('hq_assist_count', assist_count)\n",
    "\n",
    "result = []\n",
    "for _ in range(assist_count):\n",
    "    data = assist(_, assist_count)\n",
    "    result.append(data)"
   ]
  },
  {
   "cell_type": "code",
   "execution_count": null,
   "metadata": {},
   "outputs": [],
   "source": []
  },
  {
   "cell_type": "code",
   "execution_count": null,
   "metadata": {},
   "outputs": [],
   "source": []
  },
  {
   "cell_type": "code",
   "execution_count": null,
   "metadata": {},
   "outputs": [],
   "source": []
  },
  {
   "cell_type": "code",
   "execution_count": 7,
   "metadata": {},
   "outputs": [],
   "source": []
  },
  {
   "cell_type": "code",
   "execution_count": null,
   "metadata": {},
   "outputs": [],
   "source": [
    "dd.close_sharedmemory()"
   ]
  },
  {
   "cell_type": "code",
   "execution_count": null,
   "metadata": {},
   "outputs": [],
   "source": []
  },
  {
   "cell_type": "code",
   "execution_count": null,
   "metadata": {},
   "outputs": [],
   "source": [
    "rd = redis.Redis(host='127.0.0.1', port=6379, db=8)"
   ]
  },
  {
   "cell_type": "code",
   "execution_count": null,
   "metadata": {},
   "outputs": [],
   "source": [
    "\n",
    "# for key in rd.keys():\n",
    "#     rd.delete(key)"
   ]
  },
  {
   "cell_type": "code",
   "execution_count": null,
   "metadata": {},
   "outputs": [],
   "source": []
  },
  {
   "cell_type": "code",
   "execution_count": null,
   "metadata": {},
   "outputs": [],
   "source": [
    "Utils.update_symbols()"
   ]
  },
  {
   "cell_type": "code",
   "execution_count": null,
   "metadata": {},
   "outputs": [],
   "source": []
  },
  {
   "cell_type": "code",
   "execution_count": null,
   "metadata": {},
   "outputs": [],
   "source": [
    "symbols = Utils.get_running_symbols()\n",
    "assist_count = math.ceil(len(symbols)/800)+1\n",
    "assist_count"
   ]
  },
  {
   "cell_type": "code",
   "execution_count": null,
   "metadata": {},
   "outputs": [],
   "source": [
    "rd.set('hq_assist_count', assist_count)"
   ]
  },
  {
   "cell_type": "code",
   "execution_count": null,
   "metadata": {},
   "outputs": [],
   "source": []
  },
  {
   "cell_type": "code",
   "execution_count": null,
   "metadata": {},
   "outputs": [],
   "source": []
  },
  {
   "cell_type": "code",
   "execution_count": null,
   "metadata": {},
   "outputs": [],
   "source": [
    "result = []\n",
    "for _ in range(assist_count):\n",
    "    data = assist(_, assist_count)\n",
    "    result.append(data)"
   ]
  },
  {
   "cell_type": "code",
   "execution_count": null,
   "metadata": {},
   "outputs": [],
   "source": []
  },
  {
   "cell_type": "code",
   "execution_count": null,
   "metadata": {},
   "outputs": [],
   "source": [
    "date = time.strftime('%Y%m%d')\n",
    "result[0][date].get_snapshot('13:30:55')"
   ]
  },
  {
   "cell_type": "code",
   "execution_count": null,
   "metadata": {},
   "outputs": [],
   "source": []
  },
  {
   "cell_type": "code",
   "execution_count": null,
   "metadata": {},
   "outputs": [],
   "source": []
  },
  {
   "cell_type": "code",
   "execution_count": null,
   "metadata": {},
   "outputs": [],
   "source": []
  },
  {
   "cell_type": "code",
   "execution_count": null,
   "metadata": {},
   "outputs": [],
   "source": []
  },
  {
   "cell_type": "code",
   "execution_count": null,
   "metadata": {},
   "outputs": [],
   "source": []
  },
  {
   "cell_type": "code",
   "execution_count": null,
   "metadata": {},
   "outputs": [],
   "source": []
  },
  {
   "cell_type": "code",
   "execution_count": 8,
   "metadata": {},
   "outputs": [
    {
     "data": {
      "text/plain": [
       "'20210625'"
      ]
     },
     "execution_count": 8,
     "metadata": {},
     "output_type": "execute_result"
    }
   ],
   "source": [
    "date = time.strftime('%Y%m%d')\n",
    "date"
   ]
  },
  {
   "cell_type": "code",
   "execution_count": null,
   "metadata": {},
   "outputs": [],
   "source": [
    "dd = DailyData(date)"
   ]
  },
  {
   "cell_type": "code",
   "execution_count": 9,
   "metadata": {},
   "outputs": [],
   "source": [
    "securities = dd.get_securities()"
   ]
  },
  {
   "cell_type": "code",
   "execution_count": 10,
   "metadata": {},
   "outputs": [
    {
     "data": {
      "text/plain": [
       "name             万顺新材\n",
       "zt_price         7.14\n",
       "dt_price         4.76\n",
       "ma5vpm     121,432.31\n",
       "mcap            29.70\n",
       "sum4            23.73\n",
       "sum9            49.43\n",
       "sum19           99.32\n",
       "sum29          146.16\n",
       "sum59          286.26\n",
       "Name: 300057, dtype: object"
      ]
     },
     "execution_count": 10,
     "metadata": {},
     "output_type": "execute_result"
    }
   ],
   "source": [
    "securities.loc['300057']"
   ]
  },
  {
   "cell_type": "code",
   "execution_count": 12,
   "metadata": {},
   "outputs": [
    {
     "data": {
      "text/html": [
       "<div>\n",
       "<style scoped>\n",
       "    .dataframe tbody tr th:only-of-type {\n",
       "        vertical-align: middle;\n",
       "    }\n",
       "\n",
       "    .dataframe tbody tr th {\n",
       "        vertical-align: top;\n",
       "    }\n",
       "\n",
       "    .dataframe thead th {\n",
       "        text-align: right;\n",
       "    }\n",
       "</style>\n",
       "<table border=\"1\" class=\"dataframe\">\n",
       "  <thead>\n",
       "    <tr style=\"text-align: right;\">\n",
       "      <th></th>\n",
       "      <th>datetime</th>\n",
       "      <th>timestamp</th>\n",
       "      <th>name</th>\n",
       "      <th>open</th>\n",
       "      <th>close</th>\n",
       "      <th>now</th>\n",
       "      <th>high</th>\n",
       "      <th>low</th>\n",
       "      <th>turnover</th>\n",
       "      <th>volume</th>\n",
       "      <th>bid1</th>\n",
       "      <th>bid1_volume</th>\n",
       "      <th>zhangfu</th>\n",
       "      <th>junjia</th>\n",
       "      <th>liangbi</th>\n",
       "      <th>zhangsu</th>\n",
       "      <th>tingban</th>\n",
       "      <th>ma5</th>\n",
       "    </tr>\n",
       "    <tr>\n",
       "      <th>symbol</th>\n",
       "      <th></th>\n",
       "      <th></th>\n",
       "      <th></th>\n",
       "      <th></th>\n",
       "      <th></th>\n",
       "      <th></th>\n",
       "      <th></th>\n",
       "      <th></th>\n",
       "      <th></th>\n",
       "      <th></th>\n",
       "      <th></th>\n",
       "      <th></th>\n",
       "      <th></th>\n",
       "      <th></th>\n",
       "      <th></th>\n",
       "      <th></th>\n",
       "      <th></th>\n",
       "      <th></th>\n",
       "    </tr>\n",
       "  </thead>\n",
       "  <tbody>\n",
       "    <tr>\n",
       "      <th>000001</th>\n",
       "      <td>09:45:55</td>\n",
       "      <td>1624585555</td>\n",
       "      <td>平安银行</td>\n",
       "      <td>23.08</td>\n",
       "      <td>23.08</td>\n",
       "      <td>23.26</td>\n",
       "      <td>23.43</td>\n",
       "      <td>23.06</td>\n",
       "      <td>7,446,623.00</td>\n",
       "      <td>173,315,578.25</td>\n",
       "      <td>23.25</td>\n",
       "      <td>4,400.00</td>\n",
       "      <td>0.78</td>\n",
       "      <td>23.27</td>\n",
       "      <td>1.86</td>\n",
       "      <td>0.78</td>\n",
       "      <td>NaN</td>\n",
       "      <td>22.92</td>\n",
       "    </tr>\n",
       "    <tr>\n",
       "      <th>000002</th>\n",
       "      <td>09:45:55</td>\n",
       "      <td>1624585555</td>\n",
       "      <td>万 科Ａ</td>\n",
       "      <td>24.40</td>\n",
       "      <td>24.33</td>\n",
       "      <td>24.39</td>\n",
       "      <td>24.49</td>\n",
       "      <td>24.30</td>\n",
       "      <td>8,493,090.00</td>\n",
       "      <td>207,131,410.03</td>\n",
       "      <td>24.38</td>\n",
       "      <td>300.00</td>\n",
       "      <td>0.25</td>\n",
       "      <td>24.39</td>\n",
       "      <td>1.88</td>\n",
       "      <td>-0.04</td>\n",
       "      <td>NaN</td>\n",
       "      <td>24.33</td>\n",
       "    </tr>\n",
       "    <tr>\n",
       "      <th>000004</th>\n",
       "      <td>09:45:55</td>\n",
       "      <td>1624585555</td>\n",
       "      <td>国华网安</td>\n",
       "      <td>18.86</td>\n",
       "      <td>18.86</td>\n",
       "      <td>18.40</td>\n",
       "      <td>19.10</td>\n",
       "      <td>18.36</td>\n",
       "      <td>1,635,018.00</td>\n",
       "      <td>30,578,430.14</td>\n",
       "      <td>18.39</td>\n",
       "      <td>300.00</td>\n",
       "      <td>-2.44</td>\n",
       "      <td>18.70</td>\n",
       "      <td>2.76</td>\n",
       "      <td>-2.44</td>\n",
       "      <td>NaN</td>\n",
       "      <td>19.60</td>\n",
       "    </tr>\n",
       "    <tr>\n",
       "      <th>000005</th>\n",
       "      <td>09:45:55</td>\n",
       "      <td>1624585555</td>\n",
       "      <td>ST星源</td>\n",
       "      <td>1.92</td>\n",
       "      <td>1.92</td>\n",
       "      <td>1.95</td>\n",
       "      <td>1.96</td>\n",
       "      <td>1.91</td>\n",
       "      <td>3,280,401.00</td>\n",
       "      <td>6,329,516.94</td>\n",
       "      <td>1.94</td>\n",
       "      <td>111,399.00</td>\n",
       "      <td>1.56</td>\n",
       "      <td>1.93</td>\n",
       "      <td>4.74</td>\n",
       "      <td>1.56</td>\n",
       "      <td>NaN</td>\n",
       "      <td>1.89</td>\n",
       "    </tr>\n",
       "    <tr>\n",
       "      <th>000006</th>\n",
       "      <td>09:45:55</td>\n",
       "      <td>1624585555</td>\n",
       "      <td>深振业Ａ</td>\n",
       "      <td>5.04</td>\n",
       "      <td>5.03</td>\n",
       "      <td>5.01</td>\n",
       "      <td>5.04</td>\n",
       "      <td>5.00</td>\n",
       "      <td>787,000.00</td>\n",
       "      <td>3,947,691.00</td>\n",
       "      <td>5.01</td>\n",
       "      <td>126,000.00</td>\n",
       "      <td>-0.40</td>\n",
       "      <td>5.02</td>\n",
       "      <td>1.89</td>\n",
       "      <td>-0.60</td>\n",
       "      <td>NaN</td>\n",
       "      <td>5.11</td>\n",
       "    </tr>\n",
       "    <tr>\n",
       "      <th>...</th>\n",
       "      <td>...</td>\n",
       "      <td>...</td>\n",
       "      <td>...</td>\n",
       "      <td>...</td>\n",
       "      <td>...</td>\n",
       "      <td>...</td>\n",
       "      <td>...</td>\n",
       "      <td>...</td>\n",
       "      <td>...</td>\n",
       "      <td>...</td>\n",
       "      <td>...</td>\n",
       "      <td>...</td>\n",
       "      <td>...</td>\n",
       "      <td>...</td>\n",
       "      <td>...</td>\n",
       "      <td>...</td>\n",
       "      <td>...</td>\n",
       "      <td>...</td>\n",
       "    </tr>\n",
       "    <tr>\n",
       "      <th>688777</th>\n",
       "      <td>09:45:55</td>\n",
       "      <td>1624585555</td>\n",
       "      <td>中控技术</td>\n",
       "      <td>88.60</td>\n",
       "      <td>88.60</td>\n",
       "      <td>88.58</td>\n",
       "      <td>89.85</td>\n",
       "      <td>88.00</td>\n",
       "      <td>82,432.00</td>\n",
       "      <td>7,296,966.00</td>\n",
       "      <td>88.36</td>\n",
       "      <td>236.00</td>\n",
       "      <td>-0.02</td>\n",
       "      <td>88.52</td>\n",
       "      <td>1.35</td>\n",
       "      <td>-0.02</td>\n",
       "      <td>NaN</td>\n",
       "      <td>90.40</td>\n",
       "    </tr>\n",
       "    <tr>\n",
       "      <th>688788</th>\n",
       "      <td>09:45:55</td>\n",
       "      <td>1624585555</td>\n",
       "      <td>科思科技</td>\n",
       "      <td>130.00</td>\n",
       "      <td>130.83</td>\n",
       "      <td>131.00</td>\n",
       "      <td>132.97</td>\n",
       "      <td>130.00</td>\n",
       "      <td>95,243.00</td>\n",
       "      <td>12,578,420.00</td>\n",
       "      <td>131.01</td>\n",
       "      <td>400.00</td>\n",
       "      <td>0.13</td>\n",
       "      <td>132.07</td>\n",
       "      <td>2.09</td>\n",
       "      <td>0.77</td>\n",
       "      <td>NaN</td>\n",
       "      <td>133.48</td>\n",
       "    </tr>\n",
       "    <tr>\n",
       "      <th>688819</th>\n",
       "      <td>09:45:55</td>\n",
       "      <td>1624585555</td>\n",
       "      <td>天能股份</td>\n",
       "      <td>42.05</td>\n",
       "      <td>42.25</td>\n",
       "      <td>41.73</td>\n",
       "      <td>42.30</td>\n",
       "      <td>41.65</td>\n",
       "      <td>518,955.00</td>\n",
       "      <td>21,741,998.00</td>\n",
       "      <td>41.73</td>\n",
       "      <td>3,736.00</td>\n",
       "      <td>-1.23</td>\n",
       "      <td>41.90</td>\n",
       "      <td>2.62</td>\n",
       "      <td>-0.76</td>\n",
       "      <td>NaN</td>\n",
       "      <td>41.99</td>\n",
       "    </tr>\n",
       "    <tr>\n",
       "      <th>688981</th>\n",
       "      <td>09:45:55</td>\n",
       "      <td>1624585555</td>\n",
       "      <td>中芯国际</td>\n",
       "      <td>57.76</td>\n",
       "      <td>57.70</td>\n",
       "      <td>58.91</td>\n",
       "      <td>58.99</td>\n",
       "      <td>57.76</td>\n",
       "      <td>5,150,891.00</td>\n",
       "      <td>300,839,460.00</td>\n",
       "      <td>58.91</td>\n",
       "      <td>6,856.00</td>\n",
       "      <td>2.10</td>\n",
       "      <td>58.41</td>\n",
       "      <td>1.91</td>\n",
       "      <td>1.99</td>\n",
       "      <td>NaN</td>\n",
       "      <td>57.98</td>\n",
       "    </tr>\n",
       "    <tr>\n",
       "      <th>689009</th>\n",
       "      <td>09:45:55</td>\n",
       "      <td>1624585555</td>\n",
       "      <td>九号公司</td>\n",
       "      <td>78.89</td>\n",
       "      <td>78.51</td>\n",
       "      <td>79.78</td>\n",
       "      <td>79.80</td>\n",
       "      <td>78.00</td>\n",
       "      <td>214,788.00</td>\n",
       "      <td>16,974,005.00</td>\n",
       "      <td>79.60</td>\n",
       "      <td>887.00</td>\n",
       "      <td>1.62</td>\n",
       "      <td>79.03</td>\n",
       "      <td>1.88</td>\n",
       "      <td>1.13</td>\n",
       "      <td>NaN</td>\n",
       "      <td>79.29</td>\n",
       "    </tr>\n",
       "  </tbody>\n",
       "</table>\n",
       "<p>4344 rows × 18 columns</p>\n",
       "</div>"
      ],
      "text/plain": [
       "        datetime   timestamp  name   open  close    now   high    low  \\\n",
       "symbol                                                                  \n",
       "000001  09:45:55  1624585555  平安银行  23.08  23.08  23.26  23.43  23.06   \n",
       "000002  09:45:55  1624585555  万 科Ａ  24.40  24.33  24.39  24.49  24.30   \n",
       "000004  09:45:55  1624585555  国华网安  18.86  18.86  18.40  19.10  18.36   \n",
       "000005  09:45:55  1624585555  ST星源   1.92   1.92   1.95   1.96   1.91   \n",
       "000006  09:45:55  1624585555  深振业Ａ   5.04   5.03   5.01   5.04   5.00   \n",
       "...          ...         ...   ...    ...    ...    ...    ...    ...   \n",
       "688777  09:45:55  1624585555  中控技术  88.60  88.60  88.58  89.85  88.00   \n",
       "688788  09:45:55  1624585555  科思科技 130.00 130.83 131.00 132.97 130.00   \n",
       "688819  09:45:55  1624585555  天能股份  42.05  42.25  41.73  42.30  41.65   \n",
       "688981  09:45:55  1624585555  中芯国际  57.76  57.70  58.91  58.99  57.76   \n",
       "689009  09:45:55  1624585555  九号公司  78.89  78.51  79.78  79.80  78.00   \n",
       "\n",
       "           turnover         volume   bid1  bid1_volume  zhangfu  junjia  \\\n",
       "symbol                                                                    \n",
       "000001 7,446,623.00 173,315,578.25  23.25     4,400.00     0.78   23.27   \n",
       "000002 8,493,090.00 207,131,410.03  24.38       300.00     0.25   24.39   \n",
       "000004 1,635,018.00  30,578,430.14  18.39       300.00    -2.44   18.70   \n",
       "000005 3,280,401.00   6,329,516.94   1.94   111,399.00     1.56    1.93   \n",
       "000006   787,000.00   3,947,691.00   5.01   126,000.00    -0.40    5.02   \n",
       "...             ...            ...    ...          ...      ...     ...   \n",
       "688777    82,432.00   7,296,966.00  88.36       236.00    -0.02   88.52   \n",
       "688788    95,243.00  12,578,420.00 131.01       400.00     0.13  132.07   \n",
       "688819   518,955.00  21,741,998.00  41.73     3,736.00    -1.23   41.90   \n",
       "688981 5,150,891.00 300,839,460.00  58.91     6,856.00     2.10   58.41   \n",
       "689009   214,788.00  16,974,005.00  79.60       887.00     1.62   79.03   \n",
       "\n",
       "        liangbi  zhangsu  tingban    ma5  \n",
       "symbol                                    \n",
       "000001     1.86     0.78      NaN  22.92  \n",
       "000002     1.88    -0.04      NaN  24.33  \n",
       "000004     2.76    -2.44      NaN  19.60  \n",
       "000005     4.74     1.56      NaN   1.89  \n",
       "000006     1.89    -0.60      NaN   5.11  \n",
       "...         ...      ...      ...    ...  \n",
       "688777     1.35    -0.02      NaN  90.40  \n",
       "688788     2.09     0.77      NaN 133.48  \n",
       "688819     2.62    -0.76      NaN  41.99  \n",
       "688981     1.91     1.99      NaN  57.98  \n",
       "689009     1.88     1.13      NaN  79.29  \n",
       "\n",
       "[4344 rows x 18 columns]"
      ]
     },
     "execution_count": 12,
     "metadata": {},
     "output_type": "execute_result"
    }
   ],
   "source": [
    "snapshot = dd.get_snapshot('09:45:55')\n",
    "snapshot"
   ]
  },
  {
   "cell_type": "code",
   "execution_count": null,
   "metadata": {},
   "outputs": [],
   "source": []
  },
  {
   "cell_type": "code",
   "execution_count": null,
   "metadata": {},
   "outputs": [],
   "source": []
  },
  {
   "cell_type": "code",
   "execution_count": null,
   "metadata": {},
   "outputs": [],
   "source": []
  },
  {
   "cell_type": "code",
   "execution_count": null,
   "metadata": {},
   "outputs": [],
   "source": []
  },
  {
   "cell_type": "code",
   "execution_count": null,
   "metadata": {},
   "outputs": [],
   "source": []
  },
  {
   "cell_type": "code",
   "execution_count": null,
   "metadata": {},
   "outputs": [],
   "source": [
    "############################## TEST #####################################"
   ]
  },
  {
   "cell_type": "code",
   "execution_count": null,
   "metadata": {},
   "outputs": [],
   "source": [
    "check_points = Utils.get_check_points()\n",
    "symbols = Utils.get_running_symbols()"
   ]
  },
  {
   "cell_type": "code",
   "execution_count": null,
   "metadata": {},
   "outputs": [],
   "source": [
    "date = time.strftime('%Y%m%d')"
   ]
  },
  {
   "cell_type": "code",
   "execution_count": null,
   "metadata": {},
   "outputs": [],
   "source": [
    "data = result[0][date]"
   ]
  },
  {
   "cell_type": "code",
   "execution_count": null,
   "metadata": {},
   "outputs": [],
   "source": [
    "q = Quotation(symbols)\n",
    "snapshot = await q.snapshot()\n",
    "\n",
    "market_values = await q.get_market_values()\n",
    "\n",
    "for _, symbol in enumerate(symbols):\n",
    "    data.basics[_, 0] = market_values[symbol]['zt_price']\n",
    "    data.basics[_, 1] = market_values[symbol]['dt_price']\n",
    "    data.basics[_, 3] = market_values[symbol]['mcap']\n",
    "\n",
    "await q.exit()"
   ]
  },
  {
   "cell_type": "code",
   "execution_count": null,
   "metadata": {},
   "outputs": [],
   "source": [
    "securities = data.get_securities()\n",
    "securities"
   ]
  },
  {
   "cell_type": "code",
   "execution_count": null,
   "metadata": {},
   "outputs": [],
   "source": [
    "securities.loc['300057']"
   ]
  },
  {
   "cell_type": "code",
   "execution_count": null,
   "metadata": {},
   "outputs": [],
   "source": [
    "ss = data.get_snapshot('13:07:45')\n",
    "ss"
   ]
  },
  {
   "cell_type": "code",
   "execution_count": null,
   "metadata": {},
   "outputs": [],
   "source": [
    "ss.loc['600354']"
   ]
  },
  {
   "cell_type": "code",
   "execution_count": null,
   "metadata": {},
   "outputs": [],
   "source": []
  },
  {
   "cell_type": "code",
   "execution_count": null,
   "metadata": {},
   "outputs": [],
   "source": [
    "st = time.time()\n",
    "for _ in range(len(data.check_points)):\n",
    "    time_lapse = data.get_time_lapse(_)\n",
    "    ma5pm_anchor_idx = data.get_ma5pm_anchor_idx(_)\n",
    "    fs5p = data.snapshots[ma5pm_anchor_idx]\n",
    "    compute_stats(data.snapshots[_], data.basics, data.statistic[_], fs5p, time_lapse)\n",
    "et = time.time()\n",
    "et - st"
   ]
  },
  {
   "cell_type": "code",
   "execution_count": null,
   "metadata": {},
   "outputs": [],
   "source": [
    "data.save()"
   ]
  },
  {
   "cell_type": "code",
   "execution_count": null,
   "metadata": {},
   "outputs": [],
   "source": []
  },
  {
   "cell_type": "code",
   "execution_count": null,
   "metadata": {},
   "outputs": [],
   "source": []
  },
  {
   "cell_type": "code",
   "execution_count": null,
   "metadata": {},
   "outputs": [],
   "source": []
  },
  {
   "cell_type": "code",
   "execution_count": null,
   "metadata": {},
   "outputs": [],
   "source": []
  },
  {
   "cell_type": "code",
   "execution_count": null,
   "metadata": {},
   "outputs": [],
   "source": []
  },
  {
   "cell_type": "code",
   "execution_count": null,
   "metadata": {},
   "outputs": [],
   "source": []
  },
  {
   "cell_type": "code",
   "execution_count": null,
   "metadata": {},
   "outputs": [],
   "source": []
  },
  {
   "cell_type": "code",
   "execution_count": null,
   "metadata": {},
   "outputs": [],
   "source": []
  },
  {
   "cell_type": "code",
   "execution_count": null,
   "metadata": {},
   "outputs": [],
   "source": []
  }
 ],
 "metadata": {
  "kernelspec": {
   "display_name": "Python 3",
   "language": "python",
   "name": "python3"
  },
  "language_info": {
   "codemirror_mode": {
    "name": "ipython",
    "version": 3
   },
   "file_extension": ".py",
   "mimetype": "text/x-python",
   "name": "python",
   "nbconvert_exporter": "python",
   "pygments_lexer": "ipython3",
   "version": "3.9.5"
  }
 },
 "nbformat": 4,
 "nbformat_minor": 4
}

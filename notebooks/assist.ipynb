{
 "cells": [
  {
   "cell_type": "code",
   "execution_count": 1,
   "metadata": {},
   "outputs": [],
   "source": [
    "import os\n",
    "import time\n",
    "import math\n",
    "import json\n",
    "import redis\n",
    "import asyncio\n",
    "import traceback\n",
    "from datetime import datetime\n",
    "from aredis import StrictRedis\n",
    "from multiprocessing import Process"
   ]
  },
  {
   "cell_type": "code",
   "execution_count": 2,
   "metadata": {},
   "outputs": [],
   "source": [
    "from pathlib import Path\n",
    "os.chdir(Path(os.getcwd()).parent)"
   ]
  },
  {
   "cell_type": "code",
   "execution_count": 3,
   "metadata": {},
   "outputs": [],
   "source": [
    "from libs.quotation import Quotation\n",
    "from libs.dailydata import DailyData\n",
    "from libs.utils import Utils\n",
    "from libs.cython.compute import compute_stats"
   ]
  },
  {
   "cell_type": "code",
   "execution_count": 4,
   "metadata": {},
   "outputs": [],
   "source": [
    "policy = asyncio.WindowsSelectorEventLoopPolicy()\n",
    "asyncio.set_event_loop_policy(policy)"
   ]
  },
  {
   "cell_type": "code",
   "execution_count": null,
   "metadata": {},
   "outputs": [],
   "source": []
  },
  {
   "cell_type": "code",
   "execution_count": 5,
   "metadata": {},
   "outputs": [],
   "source": [
    "def assist(assist_idx, assist_count):\n",
    "    \n",
    "    ar = StrictRedis(host='127.0.0.1', port=6379, db=8)\n",
    "    data = {}\n",
    "    task_snapshotting = None\n",
    "    \n",
    "    def get_daily_data(date):\n",
    "        if date not in data:\n",
    "            dd = DailyData(date, create=False)\n",
    "            group_size = math.ceil(len(dd.symbols)/assist_count)\n",
    "            scope = (\n",
    "                assist_idx*group_size, \n",
    "                min((assist_idx+1)*group_size, len(dd.symbols))\n",
    "            )\n",
    "            data[date] = (dd, scope)\n",
    "            \n",
    "        return data[date]\n",
    "    \n",
    "        \n",
    "    def compute_statistics(date):\n",
    "#         dd = get_daily_data(date)\n",
    "#         group_size = math.ceil(len(dd.symbols)/assist_count)\n",
    "#         scope = (\n",
    "#             assist_idx*group_size, \n",
    "#             min((assist_idx+1)*group_size, len(dd.symbols))\n",
    "#         )\n",
    "        dd, scope = get_daily_data(date)\n",
    "        basics = dd.basics[scope[0]:scope[1], :]\n",
    "        for _, check_point in enumerate(dd.check_points):\n",
    "            \n",
    "            snapshot = dd.snapshots[_,scope[0]:scope[1], :]\n",
    "            statistic = dd.statistic[_,scope[0]:scope[1], :]\n",
    "            \n",
    "            time_lapse = dd.get_time_lapse(_)\n",
    "            ma5pm_anchor_idx = dd.get_ma5pm_anchor_idx(_)\n",
    "            fs5p = dd.snapshots[ma5pm_anchor_idx,scope[0]:scope[1], :]\n",
    "            \n",
    "            compute_stats(snapshot, basics, statistic, fs5p, time_lapse)\n",
    "            \n",
    "    \n",
    "    async def snapshotting(date):\n",
    "        try:\n",
    "            dd, scope = get_daily_data(date)\n",
    "#             dd = get_daily_data(date)\n",
    "#             group_size = math.ceil(len(dd.symbols)/assist_count)\n",
    "#             scope = (\n",
    "#                 assist_idx*group_size, \n",
    "#                 min((assist_idx+1)*group_size, len(dd.symbols))\n",
    "#             )\n",
    "\n",
    "            q = Quotation(symbols=dd.symbols.tolist()[scope[0]:scope[1]])\n",
    "            basics = dd.basics[scope[0]:scope[1], :]\n",
    "\n",
    "            for _, check_point in enumerate(dd.check_points):\n",
    "                if time.time() > check_point:\n",
    "                    continue\n",
    "\n",
    "                delay=(check_point-time.time())\n",
    "                await asyncio.sleep(max(delay,0))\n",
    "#                 await asyncio.sleep(5)\n",
    "\n",
    "                try:\n",
    "                    await q.snapshot(array=dd.snapshots[_,scope[0]:scope[1],:])\n",
    "\n",
    "                    snapshot = dd.snapshots[_,scope[0]:scope[1], :]\n",
    "                    statistic = dd.statistic[_,scope[0]:scope[1], :]\n",
    "\n",
    "                    time_lapse = dd.get_time_lapse(_)\n",
    "                    ma5pm_anchor_idx = dd.get_ma5pm_anchor_idx(_)\n",
    "                    fs5p = dd.snapshots[ma5pm_anchor_idx,scope[0]:scope[1], :]\n",
    "\n",
    "                    compute_stats(snapshot, basics, statistic, fs5p, time_lapse)\n",
    "\n",
    "                    await ar.publish(f'hq_assist_{assist_idx}_snapshotting', json.dumps({\"status\":'successful',\"idx\":_,'check_point':int(check_point)}))\n",
    "                        \n",
    "                except Exception as e:\n",
    "                    error = {\n",
    "                        \"status\": 'failed',\n",
    "                        \"idx\": _,\n",
    "                        'check_point':int(check_point),\n",
    "                        \"exception\": str(e),\n",
    "                        'traceback': traceback.format_exc()\n",
    "                    }\n",
    "                    await ar.publish(f'hq_assist_{assist_idx}_snapshotting', json.dumps(error))\n",
    "                    \n",
    "#                 finally:\n",
    "#                     if assist_idx == 0:\n",
    "#                         dd.incremental_save(_)\n",
    "                        \n",
    "            if assist_idx == 0:\n",
    "                dd.save()\n",
    "                \n",
    "        finally:\n",
    "            await q.exit()\n",
    "    \n",
    "    \n",
    "    async def main():\n",
    "        \n",
    "        snapshotting_task = None\n",
    "        \n",
    "        while True:\n",
    "            key, value = await ar.brpop(f'hq_assist_{assist_idx}')\n",
    "            msg = json.loads(value)\n",
    "            print(f'Assist[{assist_idx}] {msg}')\n",
    "            \n",
    "            if msg['command'] == 'snapshotting':\n",
    "                snapshotting_task = asyncio.create_task(snapshotting(msg['date']))\n",
    "                \n",
    "            elif msg['command'] == 'compute_statistics':\n",
    "                try:\n",
    "                    compute_statistics(msg['date'])\n",
    "                    await ar.lpush(f'hq_assist_{assist_idx}_compute_statistics', json.dumps({\"status\":'success'}))\n",
    "                except Exception as e:\n",
    "                    error = {\n",
    "                        \"status\": 'failed',\n",
    "                        \"exception\": str(e),\n",
    "                        'traceback': traceback.format_exc()\n",
    "                    }\n",
    "                    await ar.lpush(f'hq_assist_{assist_idx}_compute_statistics', json.dumps(error))\n",
    "                    \n",
    "            elif msg['command'] == 'incremental_save':\n",
    "                dd = get_daily_data(msg['date'])\n",
    "                dd.incremental_save(msg['idx'])\n",
    "\n",
    "            elif msg['command'] == 'quit':\n",
    "                    \n",
    "                if snapshotting_task and snapshotting_task.done() is False:\n",
    "                    print(f'Assist[{assist_idx}]: snapshotting_task is going to be canceled')\n",
    "                    snapshotting_task.cancel()\n",
    "                    \n",
    "                print(f'Assist[{assist_idx}]: sharedmemory is going to be closed')\n",
    "                for date in data:\n",
    "                    data[date].close_sharedmemory()\n",
    "                break\n",
    "                \n",
    "            else:\n",
    "                pass\n",
    "            \n",
    "#     asyncio.run(main())\n",
    "    asyncio.create_task(main())\n",
    "    \n",
    "    return data\n",
    "    \n",
    "# if __name__ == '__main__':\n",
    "#     rd = redis.Redis(host='127.0.0.1', port=6379, db=8)\n",
    "#     for key in rd.keys():\n",
    "#         rd.delete(key)\n",
    "\n",
    "#     ####\n",
    "#     Utils.update_symbols()\n",
    "    \n",
    "#     symbols = Utils.get_running_symbols()\n",
    "#     assist_count = math.ceil(len(symbols)/800)+1\n",
    "    \n",
    "#     rd.set('hq_assist_count', assist_count)\n",
    "\n",
    "#     processes = []\n",
    "#     for _ in range(assist_count):\n",
    "#         proc = Process(target=assist, args=(_, assist_count))\n",
    "#         processes.append(proc)\n",
    "#         proc.start()\n",
    "\n",
    "#     for proc in processes:\n",
    "#         proc.join()\n"
   ]
  },
  {
   "cell_type": "code",
   "execution_count": null,
   "metadata": {},
   "outputs": [],
   "source": [
    "snapshot_handlers = []\n",
    "async def start_snapshot_listening():\n",
    "    date = time.strftime('%Y%m%d')\n",
    "    \n",
    "    rd = redis.Redis(host='127.0.0.1', port=6379, db=8)\n",
    "    check_points_length = int(rd.get(f'hq_{date}_check_points_length'))\n",
    "    assist_count = int(rd.get('hq_assist_count'))\n",
    "\n",
    "    status = np.zeros(check_points_length, dtype=int)\n",
    "    status\n",
    "\n",
    "    def pre_handler(message):\n",
    "        assist_idx = str(message['channel']).split('_')[2]\n",
    "        data = json.loads(message['data'])\n",
    "        check_point_idx = int(data['idx'])\n",
    "        \n",
    "        if data['status'] == 'successful':\n",
    "            status[check_point_idx] += 1\n",
    "        \n",
    "            if status[check_point_idx] == assist_count:\n",
    "                for handler in snapshot_handlers:\n",
    "                    handler(data)\n",
    "            print(f'{datetime.now().strftime(\"%Y-%m-%d %H:%M:%S\")} ss_handler:', assist_idx, check_point_idx, status[check_point_idx])  \n",
    "        else:\n",
    "            print(f'{datetime.now().strftime(\"%Y-%m-%d %H:%M:%S\")} ss_handler:', assist_idx, check_point_idx, message['data'])\n",
    "            \n",
    "    p = ar.pubsub()\n",
    "    await p.psubscribe(**{'hq_assist_*_snapshotting': pre_handler})\n",
    "\n",
    "    while status[-1] != assist_count:\n",
    "\n",
    "        message = await p.get_message()\n",
    "\n",
    "#         if np.sum(status) >= assist_count:\n",
    "#             break\n",
    "\n",
    "    await asyncio.sleep(5)\n",
    "    await p.punsubscribe('hq_assist_*_snapshotting')\n",
    "    p.close()\n",
    "\n",
    "    \n",
    "def add_snapshot_handler(handler):\n",
    "    if handler in snapshot_handlers:\n",
    "        return\n",
    "    \n",
    "    snapshot_handlers.append(handler)\n",
    "\n",
    "\n",
    "def remove_snapshot_handler(handler):\n",
    "    if handler not in snapshot_handlers:\n",
    "        return\n",
    "\n",
    "    idx = snapshot_handlers.index(handler)\n",
    "    if idx != -1:\n",
    "        snapshot_handlers.pop(idx)"
   ]
  },
  {
   "cell_type": "code",
   "execution_count": null,
   "metadata": {},
   "outputs": [],
   "source": []
  },
  {
   "cell_type": "code",
   "execution_count": null,
   "metadata": {},
   "outputs": [],
   "source": [
    "# await asyncio.sleep(int(time.mktime(time.strptime(f'{time.strftime(\"%Y-%m-%d\")} 09:13:00', '%Y-%m-%d %H:%M:%S'))) - time.time()) \n",
    "\n",
    "rd = redis.Redis(host='127.0.0.1', port=6379, db=8)\n",
    "\n",
    "symbol_count = len(Utils.get_symbols()) + 10\n",
    "assist_count = math.ceil(symbol_count/800)+1\n",
    "\n",
    "rd.set('hq_assist_count', assist_count)\n",
    "\n",
    "result = []\n",
    "for _ in range(assist_count):\n",
    "    data = assist(_, assist_count)\n",
    "    result.append(data)"
   ]
  },
  {
   "cell_type": "code",
   "execution_count": 18,
   "metadata": {},
   "outputs": [],
   "source": []
  },
  {
   "cell_type": "code",
   "execution_count": 15,
   "metadata": {},
   "outputs": [],
   "source": []
  },
  {
   "cell_type": "code",
   "execution_count": null,
   "metadata": {},
   "outputs": [],
   "source": []
  },
  {
   "cell_type": "code",
   "execution_count": null,
   "metadata": {},
   "outputs": [],
   "source": []
  },
  {
   "cell_type": "code",
   "execution_count": null,
   "metadata": {},
   "outputs": [],
   "source": []
  },
  {
   "cell_type": "code",
   "execution_count": null,
   "metadata": {},
   "outputs": [],
   "source": []
  },
  {
   "cell_type": "code",
   "execution_count": null,
   "metadata": {},
   "outputs": [],
   "source": []
  },
  {
   "cell_type": "code",
   "execution_count": 7,
   "metadata": {},
   "outputs": [],
   "source": []
  },
  {
   "cell_type": "code",
   "execution_count": 21,
   "metadata": {},
   "outputs": [],
   "source": [
    "dd.close_sharedmemory()"
   ]
  },
  {
   "cell_type": "code",
   "execution_count": null,
   "metadata": {},
   "outputs": [],
   "source": []
  },
  {
   "cell_type": "code",
   "execution_count": null,
   "metadata": {},
   "outputs": [],
   "source": [
    "rd = redis.Redis(host='127.0.0.1', port=6379, db=8)"
   ]
  },
  {
   "cell_type": "code",
   "execution_count": null,
   "metadata": {},
   "outputs": [],
   "source": [
    "\n",
    "# for key in rd.keys():\n",
    "#     rd.delete(key)"
   ]
  },
  {
   "cell_type": "code",
   "execution_count": null,
   "metadata": {},
   "outputs": [],
   "source": []
  },
  {
   "cell_type": "code",
   "execution_count": null,
   "metadata": {},
   "outputs": [],
   "source": [
    "Utils.update_symbols()"
   ]
  },
  {
   "cell_type": "code",
   "execution_count": null,
   "metadata": {},
   "outputs": [],
   "source": []
  },
  {
   "cell_type": "code",
   "execution_count": null,
   "metadata": {},
   "outputs": [],
   "source": [
    "symbols = Utils.get_running_symbols()\n",
    "assist_count = math.ceil(len(symbols)/800)+1\n",
    "assist_count"
   ]
  },
  {
   "cell_type": "code",
   "execution_count": null,
   "metadata": {},
   "outputs": [],
   "source": [
    "rd.set('hq_assist_count', assist_count)"
   ]
  },
  {
   "cell_type": "code",
   "execution_count": null,
   "metadata": {},
   "outputs": [],
   "source": []
  },
  {
   "cell_type": "code",
   "execution_count": null,
   "metadata": {},
   "outputs": [],
   "source": []
  },
  {
   "cell_type": "code",
   "execution_count": null,
   "metadata": {},
   "outputs": [],
   "source": [
    "result = []\n",
    "for _ in range(assist_count):\n",
    "    data = assist(_, assist_count)\n",
    "    result.append(data)"
   ]
  },
  {
   "cell_type": "code",
   "execution_count": null,
   "metadata": {},
   "outputs": [],
   "source": []
  },
  {
   "cell_type": "code",
   "execution_count": null,
   "metadata": {},
   "outputs": [],
   "source": [
    "date = time.strftime('%Y%m%d')\n",
    "result[0][date].get_snapshot('13:30:55')"
   ]
  },
  {
   "cell_type": "code",
   "execution_count": null,
   "metadata": {},
   "outputs": [],
   "source": []
  },
  {
   "cell_type": "code",
   "execution_count": null,
   "metadata": {},
   "outputs": [],
   "source": []
  },
  {
   "cell_type": "code",
   "execution_count": null,
   "metadata": {},
   "outputs": [],
   "source": []
  },
  {
   "cell_type": "code",
   "execution_count": null,
   "metadata": {},
   "outputs": [],
   "source": []
  },
  {
   "cell_type": "code",
   "execution_count": null,
   "metadata": {},
   "outputs": [],
   "source": []
  },
  {
   "cell_type": "code",
   "execution_count": null,
   "metadata": {},
   "outputs": [],
   "source": []
  },
  {
   "cell_type": "code",
   "execution_count": 8,
   "metadata": {},
   "outputs": [
    {
     "data": {
      "text/plain": [
       "'20210625'"
      ]
     },
     "execution_count": 8,
     "metadata": {},
     "output_type": "execute_result"
    }
   ],
   "source": [
    "date = time.strftime('%Y%m%d')\n",
    "date"
   ]
  },
  {
   "cell_type": "code",
   "execution_count": null,
   "metadata": {},
   "outputs": [],
   "source": [
    "dd = DailyData(date)"
   ]
  },
  {
   "cell_type": "code",
   "execution_count": 9,
   "metadata": {},
   "outputs": [],
   "source": [
    "securities = dd.get_securities()"
   ]
  },
  {
   "cell_type": "code",
   "execution_count": 10,
   "metadata": {},
   "outputs": [
    {
     "data": {
      "text/plain": [
       "name             万顺新材\n",
       "zt_price         7.14\n",
       "dt_price         4.76\n",
       "ma5vpm     121,432.31\n",
       "mcap            29.70\n",
       "sum4            23.73\n",
       "sum9            49.43\n",
       "sum19           99.32\n",
       "sum29          146.16\n",
       "sum59          286.26\n",
       "Name: 300057, dtype: object"
      ]
     },
     "execution_count": 10,
     "metadata": {},
     "output_type": "execute_result"
    }
   ],
   "source": [
    "securities.loc['300057']"
   ]
  },
  {
   "cell_type": "code",
   "execution_count": 14,
   "metadata": {},
   "outputs": [
    {
     "data": {
      "text/html": [
       "<div>\n",
       "<style scoped>\n",
       "    .dataframe tbody tr th:only-of-type {\n",
       "        vertical-align: middle;\n",
       "    }\n",
       "\n",
       "    .dataframe tbody tr th {\n",
       "        vertical-align: top;\n",
       "    }\n",
       "\n",
       "    .dataframe thead th {\n",
       "        text-align: right;\n",
       "    }\n",
       "</style>\n",
       "<table border=\"1\" class=\"dataframe\">\n",
       "  <thead>\n",
       "    <tr style=\"text-align: right;\">\n",
       "      <th></th>\n",
       "      <th>datetime</th>\n",
       "      <th>timestamp</th>\n",
       "      <th>name</th>\n",
       "      <th>open</th>\n",
       "      <th>close</th>\n",
       "      <th>now</th>\n",
       "      <th>high</th>\n",
       "      <th>low</th>\n",
       "      <th>turnover</th>\n",
       "      <th>volume</th>\n",
       "      <th>bid1</th>\n",
       "      <th>bid1_volume</th>\n",
       "      <th>zhangfu</th>\n",
       "      <th>junjia</th>\n",
       "      <th>liangbi</th>\n",
       "      <th>zhangsu</th>\n",
       "      <th>tingban</th>\n",
       "      <th>ma5</th>\n",
       "    </tr>\n",
       "    <tr>\n",
       "      <th>symbol</th>\n",
       "      <th></th>\n",
       "      <th></th>\n",
       "      <th></th>\n",
       "      <th></th>\n",
       "      <th></th>\n",
       "      <th></th>\n",
       "      <th></th>\n",
       "      <th></th>\n",
       "      <th></th>\n",
       "      <th></th>\n",
       "      <th></th>\n",
       "      <th></th>\n",
       "      <th></th>\n",
       "      <th></th>\n",
       "      <th></th>\n",
       "      <th></th>\n",
       "      <th></th>\n",
       "      <th></th>\n",
       "    </tr>\n",
       "  </thead>\n",
       "  <tbody>\n",
       "    <tr>\n",
       "      <th>000001</th>\n",
       "      <td>11:15:55</td>\n",
       "      <td>1624590955</td>\n",
       "      <td>平安银行</td>\n",
       "      <td>23.08</td>\n",
       "      <td>23.08</td>\n",
       "      <td>23.39</td>\n",
       "      <td>23.50</td>\n",
       "      <td>23.06</td>\n",
       "      <td>27,365,401.00</td>\n",
       "      <td>639,150,296.35</td>\n",
       "      <td>23.39</td>\n",
       "      <td>57,700.00</td>\n",
       "      <td>1.34</td>\n",
       "      <td>23.36</td>\n",
       "      <td>1.03</td>\n",
       "      <td>1.34</td>\n",
       "      <td>NaN</td>\n",
       "      <td>22.95</td>\n",
       "    </tr>\n",
       "    <tr>\n",
       "      <th>000002</th>\n",
       "      <td>11:15:55</td>\n",
       "      <td>1624590955</td>\n",
       "      <td>万 科Ａ</td>\n",
       "      <td>24.40</td>\n",
       "      <td>24.33</td>\n",
       "      <td>24.41</td>\n",
       "      <td>24.49</td>\n",
       "      <td>24.30</td>\n",
       "      <td>23,422,726.00</td>\n",
       "      <td>571,367,868.45</td>\n",
       "      <td>24.40</td>\n",
       "      <td>202,200.00</td>\n",
       "      <td>0.33</td>\n",
       "      <td>24.39</td>\n",
       "      <td>0.78</td>\n",
       "      <td>0.04</td>\n",
       "      <td>NaN</td>\n",
       "      <td>24.33</td>\n",
       "    </tr>\n",
       "    <tr>\n",
       "      <th>000004</th>\n",
       "      <td>11:15:55</td>\n",
       "      <td>1624590955</td>\n",
       "      <td>国华网安</td>\n",
       "      <td>18.86</td>\n",
       "      <td>18.86</td>\n",
       "      <td>18.08</td>\n",
       "      <td>19.10</td>\n",
       "      <td>17.99</td>\n",
       "      <td>4,893,017.00</td>\n",
       "      <td>90,035,897.94</td>\n",
       "      <td>18.08</td>\n",
       "      <td>1,600.00</td>\n",
       "      <td>-4.14</td>\n",
       "      <td>18.40</td>\n",
       "      <td>1.25</td>\n",
       "      <td>-4.14</td>\n",
       "      <td>NaN</td>\n",
       "      <td>19.54</td>\n",
       "    </tr>\n",
       "    <tr>\n",
       "      <th>000005</th>\n",
       "      <td>11:15:55</td>\n",
       "      <td>1624590955</td>\n",
       "      <td>ST星源</td>\n",
       "      <td>1.92</td>\n",
       "      <td>1.92</td>\n",
       "      <td>1.91</td>\n",
       "      <td>1.96</td>\n",
       "      <td>1.90</td>\n",
       "      <td>9,797,933.00</td>\n",
       "      <td>18,872,767.62</td>\n",
       "      <td>1.90</td>\n",
       "      <td>328,500.00</td>\n",
       "      <td>-0.52</td>\n",
       "      <td>1.93</td>\n",
       "      <td>2.14</td>\n",
       "      <td>-0.52</td>\n",
       "      <td>NaN</td>\n",
       "      <td>1.88</td>\n",
       "    </tr>\n",
       "    <tr>\n",
       "      <th>000006</th>\n",
       "      <td>11:15:55</td>\n",
       "      <td>1624590955</td>\n",
       "      <td>深振业Ａ</td>\n",
       "      <td>5.04</td>\n",
       "      <td>5.03</td>\n",
       "      <td>5.01</td>\n",
       "      <td>5.04</td>\n",
       "      <td>5.00</td>\n",
       "      <td>2,878,900.00</td>\n",
       "      <td>14,430,925.00</td>\n",
       "      <td>5.00</td>\n",
       "      <td>550,400.00</td>\n",
       "      <td>-0.40</td>\n",
       "      <td>5.01</td>\n",
       "      <td>1.04</td>\n",
       "      <td>-0.60</td>\n",
       "      <td>NaN</td>\n",
       "      <td>5.11</td>\n",
       "    </tr>\n",
       "    <tr>\n",
       "      <th>...</th>\n",
       "      <td>...</td>\n",
       "      <td>...</td>\n",
       "      <td>...</td>\n",
       "      <td>...</td>\n",
       "      <td>...</td>\n",
       "      <td>...</td>\n",
       "      <td>...</td>\n",
       "      <td>...</td>\n",
       "      <td>...</td>\n",
       "      <td>...</td>\n",
       "      <td>...</td>\n",
       "      <td>...</td>\n",
       "      <td>...</td>\n",
       "      <td>...</td>\n",
       "      <td>...</td>\n",
       "      <td>...</td>\n",
       "      <td>...</td>\n",
       "      <td>...</td>\n",
       "    </tr>\n",
       "    <tr>\n",
       "      <th>688777</th>\n",
       "      <td>11:15:55</td>\n",
       "      <td>1624590955</td>\n",
       "      <td>中控技术</td>\n",
       "      <td>88.60</td>\n",
       "      <td>88.60</td>\n",
       "      <td>90.16</td>\n",
       "      <td>91.13</td>\n",
       "      <td>88.00</td>\n",
       "      <td>508,005.00</td>\n",
       "      <td>45,744,235.00</td>\n",
       "      <td>90.00</td>\n",
       "      <td>600.00</td>\n",
       "      <td>1.76</td>\n",
       "      <td>90.05</td>\n",
       "      <td>1.26</td>\n",
       "      <td>1.76</td>\n",
       "      <td>NaN</td>\n",
       "      <td>90.71</td>\n",
       "    </tr>\n",
       "    <tr>\n",
       "      <th>688788</th>\n",
       "      <td>11:15:55</td>\n",
       "      <td>1624590955</td>\n",
       "      <td>科思科技</td>\n",
       "      <td>130.00</td>\n",
       "      <td>130.83</td>\n",
       "      <td>131.00</td>\n",
       "      <td>132.97</td>\n",
       "      <td>130.00</td>\n",
       "      <td>224,116.00</td>\n",
       "      <td>29,506,033.00</td>\n",
       "      <td>130.81</td>\n",
       "      <td>400.00</td>\n",
       "      <td>0.13</td>\n",
       "      <td>131.66</td>\n",
       "      <td>0.74</td>\n",
       "      <td>0.77</td>\n",
       "      <td>NaN</td>\n",
       "      <td>133.48</td>\n",
       "    </tr>\n",
       "    <tr>\n",
       "      <th>688819</th>\n",
       "      <td>11:15:55</td>\n",
       "      <td>1624590955</td>\n",
       "      <td>天能股份</td>\n",
       "      <td>42.05</td>\n",
       "      <td>42.25</td>\n",
       "      <td>41.20</td>\n",
       "      <td>42.30</td>\n",
       "      <td>41.18</td>\n",
       "      <td>2,272,136.00</td>\n",
       "      <td>94,401,895.00</td>\n",
       "      <td>41.21</td>\n",
       "      <td>333.00</td>\n",
       "      <td>-2.49</td>\n",
       "      <td>41.55</td>\n",
       "      <td>1.73</td>\n",
       "      <td>-2.02</td>\n",
       "      <td>NaN</td>\n",
       "      <td>41.89</td>\n",
       "    </tr>\n",
       "    <tr>\n",
       "      <th>688981</th>\n",
       "      <td>11:15:55</td>\n",
       "      <td>1624590955</td>\n",
       "      <td>中芯国际</td>\n",
       "      <td>57.76</td>\n",
       "      <td>57.70</td>\n",
       "      <td>59.05</td>\n",
       "      <td>59.99</td>\n",
       "      <td>57.76</td>\n",
       "      <td>31,308,416.00</td>\n",
       "      <td>1,853,804,015.00</td>\n",
       "      <td>59.04</td>\n",
       "      <td>8,291.00</td>\n",
       "      <td>2.34</td>\n",
       "      <td>59.21</td>\n",
       "      <td>1.75</td>\n",
       "      <td>2.23</td>\n",
       "      <td>NaN</td>\n",
       "      <td>58.01</td>\n",
       "    </tr>\n",
       "    <tr>\n",
       "      <th>689009</th>\n",
       "      <td>11:15:55</td>\n",
       "      <td>1624590955</td>\n",
       "      <td>九号公司</td>\n",
       "      <td>78.89</td>\n",
       "      <td>78.51</td>\n",
       "      <td>80.89</td>\n",
       "      <td>81.44</td>\n",
       "      <td>78.00</td>\n",
       "      <td>1,019,994.00</td>\n",
       "      <td>81,828,701.00</td>\n",
       "      <td>80.63</td>\n",
       "      <td>700.00</td>\n",
       "      <td>3.03</td>\n",
       "      <td>80.22</td>\n",
       "      <td>1.35</td>\n",
       "      <td>2.54</td>\n",
       "      <td>NaN</td>\n",
       "      <td>79.51</td>\n",
       "    </tr>\n",
       "  </tbody>\n",
       "</table>\n",
       "<p>4344 rows × 18 columns</p>\n",
       "</div>"
      ],
      "text/plain": [
       "        datetime   timestamp  name   open  close    now   high    low  \\\n",
       "symbol                                                                  \n",
       "000001  11:15:55  1624590955  平安银行  23.08  23.08  23.39  23.50  23.06   \n",
       "000002  11:15:55  1624590955  万 科Ａ  24.40  24.33  24.41  24.49  24.30   \n",
       "000004  11:15:55  1624590955  国华网安  18.86  18.86  18.08  19.10  17.99   \n",
       "000005  11:15:55  1624590955  ST星源   1.92   1.92   1.91   1.96   1.90   \n",
       "000006  11:15:55  1624590955  深振业Ａ   5.04   5.03   5.01   5.04   5.00   \n",
       "...          ...         ...   ...    ...    ...    ...    ...    ...   \n",
       "688777  11:15:55  1624590955  中控技术  88.60  88.60  90.16  91.13  88.00   \n",
       "688788  11:15:55  1624590955  科思科技 130.00 130.83 131.00 132.97 130.00   \n",
       "688819  11:15:55  1624590955  天能股份  42.05  42.25  41.20  42.30  41.18   \n",
       "688981  11:15:55  1624590955  中芯国际  57.76  57.70  59.05  59.99  57.76   \n",
       "689009  11:15:55  1624590955  九号公司  78.89  78.51  80.89  81.44  78.00   \n",
       "\n",
       "            turnover           volume   bid1  bid1_volume  zhangfu  junjia  \\\n",
       "symbol                                                                       \n",
       "000001 27,365,401.00   639,150,296.35  23.39    57,700.00     1.34   23.36   \n",
       "000002 23,422,726.00   571,367,868.45  24.40   202,200.00     0.33   24.39   \n",
       "000004  4,893,017.00    90,035,897.94  18.08     1,600.00    -4.14   18.40   \n",
       "000005  9,797,933.00    18,872,767.62   1.90   328,500.00    -0.52    1.93   \n",
       "000006  2,878,900.00    14,430,925.00   5.00   550,400.00    -0.40    5.01   \n",
       "...              ...              ...    ...          ...      ...     ...   \n",
       "688777    508,005.00    45,744,235.00  90.00       600.00     1.76   90.05   \n",
       "688788    224,116.00    29,506,033.00 130.81       400.00     0.13  131.66   \n",
       "688819  2,272,136.00    94,401,895.00  41.21       333.00    -2.49   41.55   \n",
       "688981 31,308,416.00 1,853,804,015.00  59.04     8,291.00     2.34   59.21   \n",
       "689009  1,019,994.00    81,828,701.00  80.63       700.00     3.03   80.22   \n",
       "\n",
       "        liangbi  zhangsu  tingban    ma5  \n",
       "symbol                                    \n",
       "000001     1.03     1.34      NaN  22.95  \n",
       "000002     0.78     0.04      NaN  24.33  \n",
       "000004     1.25    -4.14      NaN  19.54  \n",
       "000005     2.14    -0.52      NaN   1.88  \n",
       "000006     1.04    -0.60      NaN   5.11  \n",
       "...         ...      ...      ...    ...  \n",
       "688777     1.26     1.76      NaN  90.71  \n",
       "688788     0.74     0.77      NaN 133.48  \n",
       "688819     1.73    -2.02      NaN  41.89  \n",
       "688981     1.75     2.23      NaN  58.01  \n",
       "689009     1.35     2.54      NaN  79.51  \n",
       "\n",
       "[4344 rows x 18 columns]"
      ]
     },
     "execution_count": 14,
     "metadata": {},
     "output_type": "execute_result"
    }
   ],
   "source": [
    "snapshot = dd.get_snapshot('11:15:55')\n",
    "snapshot"
   ]
  },
  {
   "cell_type": "code",
   "execution_count": null,
   "metadata": {},
   "outputs": [],
   "source": []
  },
  {
   "cell_type": "code",
   "execution_count": null,
   "metadata": {},
   "outputs": [],
   "source": []
  },
  {
   "cell_type": "code",
   "execution_count": null,
   "metadata": {},
   "outputs": [],
   "source": []
  },
  {
   "cell_type": "code",
   "execution_count": null,
   "metadata": {},
   "outputs": [],
   "source": []
  },
  {
   "cell_type": "code",
   "execution_count": null,
   "metadata": {},
   "outputs": [],
   "source": []
  },
  {
   "cell_type": "code",
   "execution_count": null,
   "metadata": {},
   "outputs": [],
   "source": [
    "############################## TEST #####################################"
   ]
  },
  {
   "cell_type": "code",
   "execution_count": null,
   "metadata": {},
   "outputs": [],
   "source": [
    "check_points = Utils.get_check_points()\n",
    "symbols = Utils.get_running_symbols()"
   ]
  },
  {
   "cell_type": "code",
   "execution_count": null,
   "metadata": {},
   "outputs": [],
   "source": [
    "date = time.strftime('%Y%m%d')"
   ]
  },
  {
   "cell_type": "code",
   "execution_count": null,
   "metadata": {},
   "outputs": [],
   "source": [
    "data = result[0][date]"
   ]
  },
  {
   "cell_type": "code",
   "execution_count": null,
   "metadata": {},
   "outputs": [],
   "source": [
    "q = Quotation(symbols)\n",
    "snapshot = await q.snapshot()\n",
    "\n",
    "market_values = await q.get_market_values()\n",
    "\n",
    "for _, symbol in enumerate(symbols):\n",
    "    data.basics[_, 0] = market_values[symbol]['zt_price']\n",
    "    data.basics[_, 1] = market_values[symbol]['dt_price']\n",
    "    data.basics[_, 3] = market_values[symbol]['mcap']\n",
    "\n",
    "await q.exit()"
   ]
  },
  {
   "cell_type": "code",
   "execution_count": null,
   "metadata": {},
   "outputs": [],
   "source": [
    "securities = data.get_securities()\n",
    "securities"
   ]
  },
  {
   "cell_type": "code",
   "execution_count": null,
   "metadata": {},
   "outputs": [],
   "source": [
    "securities.loc['300057']"
   ]
  },
  {
   "cell_type": "code",
   "execution_count": null,
   "metadata": {},
   "outputs": [],
   "source": [
    "ss = data.get_snapshot('13:07:45')\n",
    "ss"
   ]
  },
  {
   "cell_type": "code",
   "execution_count": null,
   "metadata": {},
   "outputs": [],
   "source": [
    "ss.loc['600354']"
   ]
  },
  {
   "cell_type": "code",
   "execution_count": null,
   "metadata": {},
   "outputs": [],
   "source": []
  },
  {
   "cell_type": "code",
   "execution_count": null,
   "metadata": {},
   "outputs": [],
   "source": [
    "st = time.time()\n",
    "for _ in range(len(data.check_points)):\n",
    "    time_lapse = data.get_time_lapse(_)\n",
    "    ma5pm_anchor_idx = data.get_ma5pm_anchor_idx(_)\n",
    "    fs5p = data.snapshots[ma5pm_anchor_idx]\n",
    "    compute_stats(data.snapshots[_], data.basics, data.statistic[_], fs5p, time_lapse)\n",
    "et = time.time()\n",
    "et - st"
   ]
  },
  {
   "cell_type": "code",
   "execution_count": null,
   "metadata": {},
   "outputs": [],
   "source": [
    "data.save()"
   ]
  },
  {
   "cell_type": "code",
   "execution_count": null,
   "metadata": {},
   "outputs": [],
   "source": []
  },
  {
   "cell_type": "code",
   "execution_count": null,
   "metadata": {},
   "outputs": [],
   "source": []
  },
  {
   "cell_type": "code",
   "execution_count": null,
   "metadata": {},
   "outputs": [],
   "source": []
  },
  {
   "cell_type": "code",
   "execution_count": null,
   "metadata": {},
   "outputs": [],
   "source": []
  },
  {
   "cell_type": "code",
   "execution_count": null,
   "metadata": {},
   "outputs": [],
   "source": []
  },
  {
   "cell_type": "code",
   "execution_count": null,
   "metadata": {},
   "outputs": [],
   "source": []
  },
  {
   "cell_type": "code",
   "execution_count": null,
   "metadata": {},
   "outputs": [],
   "source": []
  },
  {
   "cell_type": "code",
   "execution_count": null,
   "metadata": {},
   "outputs": [],
   "source": []
  },
  {
   "cell_type": "code",
   "execution_count": null,
   "metadata": {},
   "outputs": [],
   "source": []
  },
  {
   "cell_type": "code",
   "execution_count": null,
   "metadata": {},
   "outputs": [],
   "source": []
  },
  {
   "cell_type": "code",
   "execution_count": 1,
   "metadata": {},
   "outputs": [
    {
     "data": {
      "text/plain": [
       "[{'status': 'successful', 'idx': 10},\n",
       " {'status': 'successful', 'idx': 10},\n",
       " {'status': 'successful', 'idx': 10},\n",
       " {'status': 'successful', 'idx': 10},\n",
       " {'status': 'successful', 'idx': 10},\n",
       " {'status': 'successful', 'idx': 10},\n",
       " {'status': 'successful', 'idx': 10}]"
      ]
     },
     "execution_count": 1,
     "metadata": {},
     "output_type": "execute_result"
    }
   ],
   "source": [
    "results = [ None for _ in range(7) ]\n",
    "for _ in range(7):\n",
    "    results[_] = {\"status\":'successful',\"idx\": 10}\n",
    "results"
   ]
  },
  {
   "cell_type": "code",
   "execution_count": 3,
   "metadata": {},
   "outputs": [
    {
     "data": {
      "text/plain": [
       "True"
      ]
     },
     "execution_count": 3,
     "metadata": {},
     "output_type": "execute_result"
    }
   ],
   "source": []
  },
  {
   "cell_type": "code",
   "execution_count": null,
   "metadata": {},
   "outputs": [],
   "source": []
  },
  {
   "cell_type": "code",
   "execution_count": null,
   "metadata": {},
   "outputs": [],
   "source": []
  },
  {
   "cell_type": "code",
   "execution_count": null,
   "metadata": {},
   "outputs": [],
   "source": []
  },
  {
   "cell_type": "code",
   "execution_count": null,
   "metadata": {},
   "outputs": [],
   "source": []
  },
  {
   "cell_type": "code",
   "execution_count": null,
   "metadata": {},
   "outputs": [],
   "source": []
  },
  {
   "cell_type": "code",
   "execution_count": null,
   "metadata": {},
   "outputs": [],
   "source": []
  },
  {
   "cell_type": "code",
   "execution_count": null,
   "metadata": {},
   "outputs": [],
   "source": []
  },
  {
   "cell_type": "code",
   "execution_count": null,
   "metadata": {},
   "outputs": [],
   "source": []
  }
 ],
 "metadata": {
  "kernelspec": {
   "display_name": "Python 3",
   "language": "python",
   "name": "python3"
  },
  "language_info": {
   "codemirror_mode": {
    "name": "ipython",
    "version": 3
   },
   "file_extension": ".py",
   "mimetype": "text/x-python",
   "name": "python",
   "nbconvert_exporter": "python",
   "pygments_lexer": "ipython3",
   "version": "3.8.5"
  }
 },
 "nbformat": 4,
 "nbformat_minor": 4
}

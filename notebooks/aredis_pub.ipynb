{
 "cells": [
  {
   "cell_type": "code",
   "execution_count": 1,
   "metadata": {},
   "outputs": [],
   "source": [
    "import time\n",
    "import json\n",
    "import redis\n",
    "import asyncio\n",
    "from random import shuffle\n",
    "from aredis import StrictRedis"
   ]
  },
  {
   "cell_type": "code",
   "execution_count": 2,
   "metadata": {},
   "outputs": [],
   "source": [
    "rd = redis.Redis(host='127.0.0.1', port=6379, db=8)\n",
    "ar = StrictRedis(host='127.0.0.1', port=6379, db=8)"
   ]
  },
  {
   "cell_type": "code",
   "execution_count": 3,
   "metadata": {},
   "outputs": [
    {
     "data": {
      "text/plain": [
       "8"
      ]
     },
     "execution_count": 3,
     "metadata": {},
     "output_type": "execute_result"
    }
   ],
   "source": [
    "assist_count = int(rd.get('hq_assist_count'))\n",
    "assist_count"
   ]
  },
  {
   "cell_type": "code",
   "execution_count": null,
   "metadata": {},
   "outputs": [],
   "source": [
    "channels = []\n",
    "for assist_idx in range(assist_count):\n",
    "    channel = f'hq_assist_{assist_idx}_snapshotting'\n",
    "    channels.append(channel)\n",
    "    \n",
    "shuffle(channels)\n",
    "print('\\n'.join(channels))"
   ]
  },
  {
   "cell_type": "code",
   "execution_count": null,
   "metadata": {},
   "outputs": [],
   "source": [
    "shuffle(channels)\n",
    "for channel in channels:\n",
    "    message = {\"status\":'successful',\"idx\":3, 'check_point':f'{time.strftime(\"%Y-%m-%d\")} 09:07:00'}\n",
    "    print(message)\n",
    "    await ar.publish(channel, json.dumps(message))"
   ]
  },
  {
   "cell_type": "code",
   "execution_count": null,
   "metadata": {},
   "outputs": [],
   "source": []
  },
  {
   "cell_type": "code",
   "execution_count": 6,
   "metadata": {},
   "outputs": [
    {
     "data": {
      "text/plain": [
       "[1, 1, 1, 1, 1, 1, 1, 1]"
      ]
     },
     "execution_count": 6,
     "metadata": {},
     "output_type": "execute_result"
    }
   ],
   "source": [
    "await asyncio.gather(*[ ar.lpush(f'hq_assist_{_}_compute_statistics', json.dumps({\"status\": 'success'})) for _ in range(assist_count)])"
   ]
  },
  {
   "cell_type": "code",
   "execution_count": null,
   "metadata": {},
   "outputs": [],
   "source": [
    "await asyncio.gather(*[ ar.lpush(f'hq_assist_{_}_compute_statistics', json.dumps({\"status\": 'success'})) for _ in range(assist_count)])"
   ]
  },
  {
   "cell_type": "code",
   "execution_count": null,
   "metadata": {},
   "outputs": [],
   "source": []
  },
  {
   "cell_type": "code",
   "execution_count": null,
   "metadata": {},
   "outputs": [],
   "source": []
  }
 ],
 "metadata": {
  "kernelspec": {
   "display_name": "Python 3",
   "language": "python",
   "name": "python3"
  },
  "language_info": {
   "codemirror_mode": {
    "name": "ipython",
    "version": 3
   },
   "file_extension": ".py",
   "mimetype": "text/x-python",
   "name": "python",
   "nbconvert_exporter": "python",
   "pygments_lexer": "ipython3",
   "version": "3.8.5"
  }
 },
 "nbformat": 4,
 "nbformat_minor": 5
}
